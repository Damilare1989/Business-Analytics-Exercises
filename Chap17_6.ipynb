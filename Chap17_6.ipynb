{
 "cells": [
  {
   "cell_type": "code",
   "execution_count": 598,
   "metadata": {},
   "outputs": [],
   "source": [
    "%matplotlib inline\n",
    "\n",
    "from pathlib import Path\n",
    "\n",
    "import math\n",
    "import numpy as np\n",
    "import pandas as pd\n",
    "import matplotlib.pylab as plt\n",
    "import statsmodels.formula.api as sm\n",
    "from statsmodels.tsa import tsatools, stattools\n",
    "from statsmodels.tsa.arima_model import ARIMA\n",
    "from statsmodels.graphics import tsaplots\n",
    "from sklearn.metrics import mean_squared_error\n",
    "from math import sqrt"
   ]
  },
  {
   "cell_type": "code",
   "execution_count": 599,
   "metadata": {},
   "outputs": [],
   "source": [
    "sov = pd.read_csv('SouvenirSales.csv')"
   ]
  },
  {
   "cell_type": "code",
   "execution_count": 600,
   "metadata": {},
   "outputs": [],
   "source": [
    "sovexpo = sov.copy()"
   ]
  },
  {
   "cell_type": "code",
   "execution_count": 601,
   "metadata": {},
   "outputs": [
    {
     "data": {
      "text/html": [
       "<div>\n",
       "<style scoped>\n",
       "    .dataframe tbody tr th:only-of-type {\n",
       "        vertical-align: middle;\n",
       "    }\n",
       "\n",
       "    .dataframe tbody tr th {\n",
       "        vertical-align: top;\n",
       "    }\n",
       "\n",
       "    .dataframe thead th {\n",
       "        text-align: right;\n",
       "    }\n",
       "</style>\n",
       "<table border=\"1\" class=\"dataframe\">\n",
       "  <thead>\n",
       "    <tr style=\"text-align: right;\">\n",
       "      <th></th>\n",
       "      <th>Date</th>\n",
       "      <th>Sales</th>\n",
       "    </tr>\n",
       "  </thead>\n",
       "  <tbody>\n",
       "    <tr>\n",
       "      <th>0</th>\n",
       "      <td>Jan-95</td>\n",
       "      <td>1664.81</td>\n",
       "    </tr>\n",
       "    <tr>\n",
       "      <th>1</th>\n",
       "      <td>Feb-95</td>\n",
       "      <td>2397.53</td>\n",
       "    </tr>\n",
       "    <tr>\n",
       "      <th>2</th>\n",
       "      <td>Mar-95</td>\n",
       "      <td>2840.71</td>\n",
       "    </tr>\n",
       "    <tr>\n",
       "      <th>3</th>\n",
       "      <td>Apr-95</td>\n",
       "      <td>3547.29</td>\n",
       "    </tr>\n",
       "    <tr>\n",
       "      <th>4</th>\n",
       "      <td>May-95</td>\n",
       "      <td>3752.96</td>\n",
       "    </tr>\n",
       "  </tbody>\n",
       "</table>\n",
       "</div>"
      ],
      "text/plain": [
       "     Date    Sales\n",
       "0  Jan-95  1664.81\n",
       "1  Feb-95  2397.53\n",
       "2  Mar-95  2840.71\n",
       "3  Apr-95  3547.29\n",
       "4  May-95  3752.96"
      ]
     },
     "execution_count": 601,
     "metadata": {},
     "output_type": "execute_result"
    }
   ],
   "source": [
    "sov.head()"
   ]
  },
  {
   "cell_type": "code",
   "execution_count": 602,
   "metadata": {},
   "outputs": [
    {
     "data": {
      "text/html": [
       "<div>\n",
       "<style scoped>\n",
       "    .dataframe tbody tr th:only-of-type {\n",
       "        vertical-align: middle;\n",
       "    }\n",
       "\n",
       "    .dataframe tbody tr th {\n",
       "        vertical-align: top;\n",
       "    }\n",
       "\n",
       "    .dataframe thead th {\n",
       "        text-align: right;\n",
       "    }\n",
       "</style>\n",
       "<table border=\"1\" class=\"dataframe\">\n",
       "  <thead>\n",
       "    <tr style=\"text-align: right;\">\n",
       "      <th></th>\n",
       "      <th>Date</th>\n",
       "      <th>Sales</th>\n",
       "    </tr>\n",
       "  </thead>\n",
       "  <tbody>\n",
       "    <tr>\n",
       "      <th>79</th>\n",
       "      <td>Aug-01</td>\n",
       "      <td>28586.52</td>\n",
       "    </tr>\n",
       "    <tr>\n",
       "      <th>80</th>\n",
       "      <td>Sep-01</td>\n",
       "      <td>30505.41</td>\n",
       "    </tr>\n",
       "    <tr>\n",
       "      <th>81</th>\n",
       "      <td>Oct-01</td>\n",
       "      <td>30821.33</td>\n",
       "    </tr>\n",
       "    <tr>\n",
       "      <th>82</th>\n",
       "      <td>Nov-01</td>\n",
       "      <td>46634.38</td>\n",
       "    </tr>\n",
       "    <tr>\n",
       "      <th>83</th>\n",
       "      <td>Dec-01</td>\n",
       "      <td>104660.67</td>\n",
       "    </tr>\n",
       "  </tbody>\n",
       "</table>\n",
       "</div>"
      ],
      "text/plain": [
       "      Date      Sales\n",
       "79  Aug-01   28586.52\n",
       "80  Sep-01   30505.41\n",
       "81  Oct-01   30821.33\n",
       "82  Nov-01   46634.38\n",
       "83  Dec-01  104660.67"
      ]
     },
     "execution_count": 602,
     "metadata": {},
     "output_type": "execute_result"
    }
   ],
   "source": [
    "sov.tail()"
   ]
  },
  {
   "cell_type": "code",
   "execution_count": 603,
   "metadata": {},
   "outputs": [
    {
     "data": {
      "text/plain": [
       "84"
      ]
     },
     "execution_count": 603,
     "metadata": {},
     "output_type": "execute_result"
    }
   ],
   "source": [
    "len(sov)"
   ]
  },
  {
   "cell_type": "markdown",
   "metadata": {},
   "source": [
    "Based on the two time plots, the predictors that should be included in the regression model are: Sales, const, t and Month. The total number of predictors in the model is 4"
   ]
  },
  {
   "cell_type": "code",
   "execution_count": 604,
   "metadata": {},
   "outputs": [],
   "source": [
    "#convert to time series\n",
    "sov['Date'] = pd.to_datetime(sov.Date, format = '%b-%y')\n",
    "sales_ts = pd.Series(sov.Sales.values, index=sov.Date, name = 'Sales')\n",
    "sales_ts_index = pd.DatetimeIndex(sales_ts)"
   ]
  },
  {
   "cell_type": "code",
   "execution_count": 605,
   "metadata": {
    "scrolled": false
   },
   "outputs": [],
   "source": [
    "#MODEL A\n",
    "#fit a linear model with monthly seasonality\n",
    "sales_df = tsatools.add_trend(sales_ts, trend = 'ct')\n",
    "sales_df['Month'] = sales_df.index.month\n",
    "\n",
    "nValid = 12\n",
    "nTrain = len(sales_ts) - nValid\n",
    "\n",
    "#partition the data\n",
    "train_df = sales_df[:nTrain]\n",
    "valid_df = sales_df[nTrain:]\n",
    "\n",
    "sales_lm_trendseason = sm.ols(formula = 'Sales ~ trend + C(Month)', data = train_df).fit()"
   ]
  },
  {
   "cell_type": "code",
   "execution_count": 606,
   "metadata": {},
   "outputs": [
    {
     "data": {
      "text/html": [
       "<div>\n",
       "<style scoped>\n",
       "    .dataframe tbody tr th:only-of-type {\n",
       "        vertical-align: middle;\n",
       "    }\n",
       "\n",
       "    .dataframe tbody tr th {\n",
       "        vertical-align: top;\n",
       "    }\n",
       "\n",
       "    .dataframe thead th {\n",
       "        text-align: right;\n",
       "    }\n",
       "</style>\n",
       "<table border=\"1\" class=\"dataframe\">\n",
       "  <thead>\n",
       "    <tr style=\"text-align: right;\">\n",
       "      <th></th>\n",
       "      <th>Sales</th>\n",
       "      <th>const</th>\n",
       "      <th>trend</th>\n",
       "      <th>Month</th>\n",
       "    </tr>\n",
       "    <tr>\n",
       "      <th>Date</th>\n",
       "      <th></th>\n",
       "      <th></th>\n",
       "      <th></th>\n",
       "      <th></th>\n",
       "    </tr>\n",
       "  </thead>\n",
       "  <tbody>\n",
       "    <tr>\n",
       "      <th>1995-01-01</th>\n",
       "      <td>1664.81</td>\n",
       "      <td>1.0</td>\n",
       "      <td>1.0</td>\n",
       "      <td>1</td>\n",
       "    </tr>\n",
       "    <tr>\n",
       "      <th>1995-02-01</th>\n",
       "      <td>2397.53</td>\n",
       "      <td>1.0</td>\n",
       "      <td>2.0</td>\n",
       "      <td>2</td>\n",
       "    </tr>\n",
       "    <tr>\n",
       "      <th>1995-03-01</th>\n",
       "      <td>2840.71</td>\n",
       "      <td>1.0</td>\n",
       "      <td>3.0</td>\n",
       "      <td>3</td>\n",
       "    </tr>\n",
       "    <tr>\n",
       "      <th>1995-04-01</th>\n",
       "      <td>3547.29</td>\n",
       "      <td>1.0</td>\n",
       "      <td>4.0</td>\n",
       "      <td>4</td>\n",
       "    </tr>\n",
       "    <tr>\n",
       "      <th>1995-05-01</th>\n",
       "      <td>3752.96</td>\n",
       "      <td>1.0</td>\n",
       "      <td>5.0</td>\n",
       "      <td>5</td>\n",
       "    </tr>\n",
       "    <tr>\n",
       "      <th>...</th>\n",
       "      <td>...</td>\n",
       "      <td>...</td>\n",
       "      <td>...</td>\n",
       "      <td>...</td>\n",
       "    </tr>\n",
       "    <tr>\n",
       "      <th>2001-08-01</th>\n",
       "      <td>28586.52</td>\n",
       "      <td>1.0</td>\n",
       "      <td>80.0</td>\n",
       "      <td>8</td>\n",
       "    </tr>\n",
       "    <tr>\n",
       "      <th>2001-09-01</th>\n",
       "      <td>30505.41</td>\n",
       "      <td>1.0</td>\n",
       "      <td>81.0</td>\n",
       "      <td>9</td>\n",
       "    </tr>\n",
       "    <tr>\n",
       "      <th>2001-10-01</th>\n",
       "      <td>30821.33</td>\n",
       "      <td>1.0</td>\n",
       "      <td>82.0</td>\n",
       "      <td>10</td>\n",
       "    </tr>\n",
       "    <tr>\n",
       "      <th>2001-11-01</th>\n",
       "      <td>46634.38</td>\n",
       "      <td>1.0</td>\n",
       "      <td>83.0</td>\n",
       "      <td>11</td>\n",
       "    </tr>\n",
       "    <tr>\n",
       "      <th>2001-12-01</th>\n",
       "      <td>104660.67</td>\n",
       "      <td>1.0</td>\n",
       "      <td>84.0</td>\n",
       "      <td>12</td>\n",
       "    </tr>\n",
       "  </tbody>\n",
       "</table>\n",
       "<p>84 rows × 4 columns</p>\n",
       "</div>"
      ],
      "text/plain": [
       "                Sales  const  trend  Month\n",
       "Date                                      \n",
       "1995-01-01    1664.81    1.0    1.0      1\n",
       "1995-02-01    2397.53    1.0    2.0      2\n",
       "1995-03-01    2840.71    1.0    3.0      3\n",
       "1995-04-01    3547.29    1.0    4.0      4\n",
       "1995-05-01    3752.96    1.0    5.0      5\n",
       "...               ...    ...    ...    ...\n",
       "2001-08-01   28586.52    1.0   80.0      8\n",
       "2001-09-01   30505.41    1.0   81.0      9\n",
       "2001-10-01   30821.33    1.0   82.0     10\n",
       "2001-11-01   46634.38    1.0   83.0     11\n",
       "2001-12-01  104660.67    1.0   84.0     12\n",
       "\n",
       "[84 rows x 4 columns]"
      ]
     },
     "execution_count": 606,
     "metadata": {},
     "output_type": "execute_result"
    }
   ],
   "source": [
    "sales_df"
   ]
  },
  {
   "cell_type": "code",
   "execution_count": 607,
   "metadata": {},
   "outputs": [
    {
     "name": "stdout",
     "output_type": "stream",
     "text": [
      "                            OLS Regression Results                            \n",
      "==============================================================================\n",
      "Dep. Variable:                  Sales   R-squared:                       0.790\n",
      "Model:                            OLS   Adj. R-squared:                  0.748\n",
      "Method:                 Least Squares   F-statistic:                     18.53\n",
      "Date:                Mon, 15 Jun 2020   Prob (F-statistic):           9.44e-16\n",
      "Time:                        22:12:39   Log-Likelihood:                -720.48\n",
      "No. Observations:                  72   AIC:                             1467.\n",
      "Df Residuals:                      59   BIC:                             1497.\n",
      "Df Model:                          12                                         \n",
      "Covariance Type:            nonrobust                                         \n",
      "==================================================================================\n",
      "                     coef    std err          t      P>|t|      [0.025      0.975]\n",
      "----------------------------------------------------------------------------------\n",
      "Intercept      -3065.5544   2640.262     -1.161      0.250   -8348.706    2217.597\n",
      "C(Month)[T.2]   1119.3842   3422.055      0.327      0.745   -5728.132    7966.901\n",
      "C(Month)[T.3]   4408.8450   3422.564      1.288      0.203   -2439.690    1.13e+04\n",
      "C(Month)[T.4]   1462.5675   3423.413      0.427      0.671   -5387.665    8312.800\n",
      "C(Month)[T.5]   1446.1950   3424.600      0.422      0.674   -5406.414    8298.804\n",
      "C(Month)[T.6]   1867.9775   3426.126      0.545      0.588   -4987.685    8723.640\n",
      "C(Month)[T.7]   2988.5633   3427.990      0.872      0.387   -3870.830    9847.956\n",
      "C(Month)[T.8]   3227.5808   3430.192      0.941      0.351   -3636.218    1.01e+04\n",
      "C(Month)[T.9]   3955.5600   3432.731      1.152      0.254   -2913.320    1.08e+04\n",
      "C(Month)[T.10]  4821.6574   3435.606      1.403      0.166   -2052.975    1.17e+04\n",
      "C(Month)[T.11]  1.152e+04   3438.817      3.351      0.001    4643.581    1.84e+04\n",
      "C(Month)[T.12]  3.247e+04   3442.362      9.432      0.000    2.56e+04    3.94e+04\n",
      "trend            245.3642     34.083      7.199      0.000     177.165     313.564\n",
      "==============================================================================\n",
      "Omnibus:                       82.427   Durbin-Watson:                   0.634\n",
      "Prob(Omnibus):                  0.000   Jarque-Bera (JB):             1266.965\n",
      "Skew:                           3.203   Prob(JB):                    7.62e-276\n",
      "Kurtosis:                      22.526   Cond. No.                         524.\n",
      "==============================================================================\n",
      "\n",
      "Warnings:\n",
      "[1] Standard Errors assume that the covariance matrix of the errors is correctly specified.\n"
     ]
    }
   ],
   "source": [
    "print(sales_lm_trendseason.summary())"
   ]
  },
  {
   "cell_type": "markdown",
   "metadata": {},
   "source": [
    "The month which tends to have the highest average sales during the year is December. This is reasonable because customers spend more during december because of the holidays and festivity."
   ]
  },
  {
   "cell_type": "markdown",
   "metadata": {},
   "source": [
    "What does t = 245.36 mean?"
   ]
  },
  {
   "cell_type": "code",
   "execution_count": 608,
   "metadata": {},
   "outputs": [],
   "source": [
    "#Regression model with an exponential trend and multiplicative seasonality\n",
    "#convert to time series\n",
    "sovexpo['Date'] = pd.to_datetime(sovexpo.Date, format = '%b-%y')\n",
    "sovsales_ts = pd.Series(sovexpo.Sales.values, index=sovexpo.Date, name = 'Sales')\n",
    "sovsales_ts_index = pd.DatetimeIndex(sovsales_ts)"
   ]
  },
  {
   "cell_type": "code",
   "execution_count": 609,
   "metadata": {},
   "outputs": [],
   "source": [
    "#MODEL B\n",
    "#fit a linear model with exponential trend and multiplicative seasonality\n",
    "sovsales_df = tsatools.add_trend(sovsales_ts, trend = 'ct')\n",
    "sovsales_df['Month'] = sovsales_df.index.month\n",
    "\n",
    "nValid = 12\n",
    "nTrain = len(sovsales_ts) - nValid\n",
    "\n",
    "#partition the data\n",
    "train_df = sovsales_df[:nTrain]\n",
    "valid_df = sovsales_df[nTrain:]\n",
    "\n",
    "sovsales_lm_trendseason = sm.ols(formula = 'np.log(Sales) ~ trend + C(Month)', data = train_df).fit()"
   ]
  },
  {
   "cell_type": "markdown",
   "metadata": {},
   "source": [
    "Fitting a model to log(Sales) with a linear trend is equivalent to fitting a model to Sales (in dollars) with exponential trend"
   ]
  },
  {
   "cell_type": "code",
   "execution_count": 610,
   "metadata": {},
   "outputs": [
    {
     "data": {
      "text/html": [
       "<table class=\"simpletable\">\n",
       "<caption>OLS Regression Results</caption>\n",
       "<tr>\n",
       "  <th>Dep. Variable:</th>      <td>np.log(Sales)</td>  <th>  R-squared:         </th> <td>   0.942</td>\n",
       "</tr>\n",
       "<tr>\n",
       "  <th>Model:</th>                   <td>OLS</td>       <th>  Adj. R-squared:    </th> <td>   0.931</td>\n",
       "</tr>\n",
       "<tr>\n",
       "  <th>Method:</th>             <td>Least Squares</td>  <th>  F-statistic:       </th> <td>   80.40</td>\n",
       "</tr>\n",
       "<tr>\n",
       "  <th>Date:</th>             <td>Mon, 15 Jun 2020</td> <th>  Prob (F-statistic):</th> <td>6.21e-32</td>\n",
       "</tr>\n",
       "<tr>\n",
       "  <th>Time:</th>                 <td>22:12:40</td>     <th>  Log-Likelihood:    </th> <td>  25.021</td>\n",
       "</tr>\n",
       "<tr>\n",
       "  <th>No. Observations:</th>      <td>    72</td>      <th>  AIC:               </th> <td>  -24.04</td>\n",
       "</tr>\n",
       "<tr>\n",
       "  <th>Df Residuals:</th>          <td>    59</td>      <th>  BIC:               </th> <td>   5.554</td>\n",
       "</tr>\n",
       "<tr>\n",
       "  <th>Df Model:</th>              <td>    12</td>      <th>                     </th>     <td> </td>   \n",
       "</tr>\n",
       "<tr>\n",
       "  <th>Covariance Type:</th>      <td>nonrobust</td>    <th>                     </th>     <td> </td>   \n",
       "</tr>\n",
       "</table>\n",
       "<table class=\"simpletable\">\n",
       "<tr>\n",
       "         <td></td>           <th>coef</th>     <th>std err</th>      <th>t</th>      <th>P>|t|</th>  <th>[0.025</th>    <th>0.975]</th>  \n",
       "</tr>\n",
       "<tr>\n",
       "  <th>Intercept</th>      <td>    7.6464</td> <td>    0.084</td> <td>   90.898</td> <td> 0.000</td> <td>    7.478</td> <td>    7.815</td>\n",
       "</tr>\n",
       "<tr>\n",
       "  <th>C(Month)[T.2]</th>  <td>    0.2820</td> <td>    0.109</td> <td>    2.587</td> <td> 0.012</td> <td>    0.064</td> <td>    0.500</td>\n",
       "</tr>\n",
       "<tr>\n",
       "  <th>C(Month)[T.3]</th>  <td>    0.6950</td> <td>    0.109</td> <td>    6.374</td> <td> 0.000</td> <td>    0.477</td> <td>    0.913</td>\n",
       "</tr>\n",
       "<tr>\n",
       "  <th>C(Month)[T.4]</th>  <td>    0.3739</td> <td>    0.109</td> <td>    3.428</td> <td> 0.001</td> <td>    0.156</td> <td>    0.592</td>\n",
       "</tr>\n",
       "<tr>\n",
       "  <th>C(Month)[T.5]</th>  <td>    0.4217</td> <td>    0.109</td> <td>    3.865</td> <td> 0.000</td> <td>    0.203</td> <td>    0.640</td>\n",
       "</tr>\n",
       "<tr>\n",
       "  <th>C(Month)[T.6]</th>  <td>    0.4470</td> <td>    0.109</td> <td>    4.095</td> <td> 0.000</td> <td>    0.229</td> <td>    0.665</td>\n",
       "</tr>\n",
       "<tr>\n",
       "  <th>C(Month)[T.7]</th>  <td>    0.5834</td> <td>    0.109</td> <td>    5.341</td> <td> 0.000</td> <td>    0.365</td> <td>    0.802</td>\n",
       "</tr>\n",
       "<tr>\n",
       "  <th>C(Month)[T.8]</th>  <td>    0.5469</td> <td>    0.109</td> <td>    5.004</td> <td> 0.000</td> <td>    0.328</td> <td>    0.766</td>\n",
       "</tr>\n",
       "<tr>\n",
       "  <th>C(Month)[T.9]</th>  <td>    0.6356</td> <td>    0.109</td> <td>    5.811</td> <td> 0.000</td> <td>    0.417</td> <td>    0.854</td>\n",
       "</tr>\n",
       "<tr>\n",
       "  <th>C(Month)[T.10]</th> <td>    0.7295</td> <td>    0.109</td> <td>    6.664</td> <td> 0.000</td> <td>    0.510</td> <td>    0.949</td>\n",
       "</tr>\n",
       "<tr>\n",
       "  <th>C(Month)[T.11]</th> <td>    1.2010</td> <td>    0.110</td> <td>   10.961</td> <td> 0.000</td> <td>    0.982</td> <td>    1.420</td>\n",
       "</tr>\n",
       "<tr>\n",
       "  <th>C(Month)[T.12]</th> <td>    1.9522</td> <td>    0.110</td> <td>   17.800</td> <td> 0.000</td> <td>    1.733</td> <td>    2.172</td>\n",
       "</tr>\n",
       "<tr>\n",
       "  <th>trend</th>          <td>    0.0211</td> <td>    0.001</td> <td>   19.449</td> <td> 0.000</td> <td>    0.019</td> <td>    0.023</td>\n",
       "</tr>\n",
       "</table>\n",
       "<table class=\"simpletable\">\n",
       "<tr>\n",
       "  <th>Omnibus:</th>       <td> 0.280</td> <th>  Durbin-Watson:     </th> <td>   1.036</td>\n",
       "</tr>\n",
       "<tr>\n",
       "  <th>Prob(Omnibus):</th> <td> 0.869</td> <th>  Jarque-Bera (JB):  </th> <td>   0.465</td>\n",
       "</tr>\n",
       "<tr>\n",
       "  <th>Skew:</th>          <td>-0.029</td> <th>  Prob(JB):          </th> <td>   0.793</td>\n",
       "</tr>\n",
       "<tr>\n",
       "  <th>Kurtosis:</th>      <td> 2.611</td> <th>  Cond. No.          </th> <td>    524.</td>\n",
       "</tr>\n",
       "</table><br/><br/>Warnings:<br/>[1] Standard Errors assume that the covariance matrix of the errors is correctly specified."
      ],
      "text/plain": [
       "<class 'statsmodels.iolib.summary.Summary'>\n",
       "\"\"\"\n",
       "                            OLS Regression Results                            \n",
       "==============================================================================\n",
       "Dep. Variable:          np.log(Sales)   R-squared:                       0.942\n",
       "Model:                            OLS   Adj. R-squared:                  0.931\n",
       "Method:                 Least Squares   F-statistic:                     80.40\n",
       "Date:                Mon, 15 Jun 2020   Prob (F-statistic):           6.21e-32\n",
       "Time:                        22:12:40   Log-Likelihood:                 25.021\n",
       "No. Observations:                  72   AIC:                            -24.04\n",
       "Df Residuals:                      59   BIC:                             5.554\n",
       "Df Model:                          12                                         \n",
       "Covariance Type:            nonrobust                                         \n",
       "==================================================================================\n",
       "                     coef    std err          t      P>|t|      [0.025      0.975]\n",
       "----------------------------------------------------------------------------------\n",
       "Intercept          7.6464      0.084     90.898      0.000       7.478       7.815\n",
       "C(Month)[T.2]      0.2820      0.109      2.587      0.012       0.064       0.500\n",
       "C(Month)[T.3]      0.6950      0.109      6.374      0.000       0.477       0.913\n",
       "C(Month)[T.4]      0.3739      0.109      3.428      0.001       0.156       0.592\n",
       "C(Month)[T.5]      0.4217      0.109      3.865      0.000       0.203       0.640\n",
       "C(Month)[T.6]      0.4470      0.109      4.095      0.000       0.229       0.665\n",
       "C(Month)[T.7]      0.5834      0.109      5.341      0.000       0.365       0.802\n",
       "C(Month)[T.8]      0.5469      0.109      5.004      0.000       0.328       0.766\n",
       "C(Month)[T.9]      0.6356      0.109      5.811      0.000       0.417       0.854\n",
       "C(Month)[T.10]     0.7295      0.109      6.664      0.000       0.510       0.949\n",
       "C(Month)[T.11]     1.2010      0.110     10.961      0.000       0.982       1.420\n",
       "C(Month)[T.12]     1.9522      0.110     17.800      0.000       1.733       2.172\n",
       "trend              0.0211      0.001     19.449      0.000       0.019       0.023\n",
       "==============================================================================\n",
       "Omnibus:                        0.280   Durbin-Watson:                   1.036\n",
       "Prob(Omnibus):                  0.869   Jarque-Bera (JB):                0.465\n",
       "Skew:                          -0.029   Prob(JB):                        0.793\n",
       "Kurtosis:                       2.611   Cond. No.                         524.\n",
       "==============================================================================\n",
       "\n",
       "Warnings:\n",
       "[1] Standard Errors assume that the covariance matrix of the errors is correctly specified.\n",
       "\"\"\""
      ]
     },
     "execution_count": 610,
     "metadata": {},
     "output_type": "execute_result"
    }
   ],
   "source": [
    "sovsales_lm_trendseason.summary()"
   ]
  },
  {
   "cell_type": "markdown",
   "metadata": {},
   "source": [
    "Model B has a trend coefficient of 0.02. What does this mean?"
   ]
  },
  {
   "cell_type": "code",
   "execution_count": 611,
   "metadata": {},
   "outputs": [],
   "source": [
    "test_df = pd.DataFrame({'Date': ['2002-02-01'], 'const':[1.0], 'trend':[86.0], 'Month':[2]})\n",
    "test_df = test_df.set_index('Date')"
   ]
  },
  {
   "cell_type": "code",
   "execution_count": 612,
   "metadata": {},
   "outputs": [
    {
     "name": "stdout",
     "output_type": "stream",
     "text": [
      "            const  trend  Month\n",
      "Date                           \n",
      "2002-02-01    1.0   86.0      2\n"
     ]
    }
   ],
   "source": [
    "print(test_df)"
   ]
  },
  {
   "cell_type": "code",
   "execution_count": 613,
   "metadata": {},
   "outputs": [
    {
     "name": "stdout",
     "output_type": "stream",
     "text": [
      "Date\n",
      "2002-02-01    17062.993888\n",
      "dtype: float64\n"
     ]
    }
   ],
   "source": [
    "print(sovsales_lm_trendseason.predict(test_df).apply(lambda row: math.exp(row)))"
   ]
  },
  {
   "cell_type": "markdown",
   "metadata": {},
   "source": [
    "The forecasted sales for February, 2002 is 17063"
   ]
  },
  {
   "cell_type": "code",
   "execution_count": 614,
   "metadata": {},
   "outputs": [
    {
     "name": "stdout",
     "output_type": "stream",
     "text": [
      "Date\n",
      "2001-01-01     9780.022166\n",
      "2001-02-01    13243.094764\n",
      "2001-03-01    20441.748596\n",
      "2001-04-01    15143.540765\n",
      "2001-05-01    16224.627710\n",
      "2001-06-01    16996.137383\n",
      "2001-07-01    19894.423692\n",
      "2001-08-01    19591.111546\n",
      "2001-09-01    21864.492284\n",
      "2001-10-01    24530.299105\n",
      "2001-11-01    40144.774901\n",
      "2001-12-01    86908.868184\n",
      "dtype: float64                 Sales  const  trend  Month\n",
      "Date                                      \n",
      "2001-01-01   10243.24    1.0   73.0      1\n",
      "2001-02-01   11266.88    1.0   74.0      2\n",
      "2001-03-01   21826.84    1.0   75.0      3\n",
      "2001-04-01   17357.33    1.0   76.0      4\n",
      "2001-05-01   15997.79    1.0   77.0      5\n",
      "2001-06-01   18601.53    1.0   78.0      6\n",
      "2001-07-01   26155.15    1.0   79.0      7\n",
      "2001-08-01   28586.52    1.0   80.0      8\n",
      "2001-09-01   30505.41    1.0   81.0      9\n",
      "2001-10-01   30821.33    1.0   82.0     10\n",
      "2001-11-01   46634.38    1.0   83.0     11\n",
      "2001-12-01  104660.67    1.0   84.0     12\n"
     ]
    }
   ],
   "source": [
    "print(sovsales_lm_trendseason.predict(valid_df).apply(lambda row: math.exp(row)), valid_df)"
   ]
  },
  {
   "cell_type": "code",
   "execution_count": 615,
   "metadata": {},
   "outputs": [],
   "source": [
    "predictions = sovsales_lm_trendseason.predict(valid_df).apply(lambda row: math.exp(row))"
   ]
  },
  {
   "cell_type": "code",
   "execution_count": 616,
   "metadata": {},
   "outputs": [
    {
     "name": "stdout",
     "output_type": "stream",
     "text": [
      "7101.444191251929\n"
     ]
    }
   ],
   "source": [
    "# evaluate performance\n",
    "mse = mean_squared_error(valid_df['Sales'], predictions)\n",
    "rmse = sqrt(mse)\n",
    "print(rmse)"
   ]
  },
  {
   "cell_type": "code",
   "execution_count": 617,
   "metadata": {},
   "outputs": [
    {
     "name": "stdout",
     "output_type": "stream",
     "text": [
      "Date\n",
      "2001-01-01    14846.030250\n",
      "2001-02-01    16210.778583\n",
      "2001-03-01    19745.603583\n",
      "2001-04-01    17044.690250\n",
      "2001-05-01    17273.681917\n",
      "2001-06-01    17940.828583\n",
      "2001-07-01    19306.778583\n",
      "2001-08-01    19791.160250\n",
      "2001-09-01    20764.503583\n",
      "2001-10-01    21875.965250\n",
      "2001-11-01    28824.310250\n",
      "2001-12-01    50014.586917\n",
      "dtype: float64                 Sales  const  trend  Month\n",
      "Date                                      \n",
      "2001-01-01   10243.24    1.0   73.0      1\n",
      "2001-02-01   11266.88    1.0   74.0      2\n",
      "2001-03-01   21826.84    1.0   75.0      3\n",
      "2001-04-01   17357.33    1.0   76.0      4\n",
      "2001-05-01   15997.79    1.0   77.0      5\n",
      "2001-06-01   18601.53    1.0   78.0      6\n",
      "2001-07-01   26155.15    1.0   79.0      7\n",
      "2001-08-01   28586.52    1.0   80.0      8\n",
      "2001-09-01   30505.41    1.0   81.0      9\n",
      "2001-10-01   30821.33    1.0   82.0     10\n",
      "2001-11-01   46634.38    1.0   83.0     11\n",
      "2001-12-01  104660.67    1.0   84.0     12\n"
     ]
    }
   ],
   "source": [
    "print(sales_lm_trendseason.predict(valid_df), valid_df)"
   ]
  },
  {
   "cell_type": "code",
   "execution_count": 618,
   "metadata": {},
   "outputs": [],
   "source": [
    "predictions = sales_lm_trendseason.predict(valid_df)"
   ]
  },
  {
   "cell_type": "code",
   "execution_count": 619,
   "metadata": {},
   "outputs": [
    {
     "name": "stdout",
     "output_type": "stream",
     "text": [
      "17451.546874704054\n"
     ]
    }
   ],
   "source": [
    "# evaluate performance\n",
    "mse = mean_squared_error(valid_df['Sales'], predictions)\n",
    "rmse = sqrt(mse)\n",
    "print(rmse)"
   ]
  },
  {
   "cell_type": "markdown",
   "metadata": {},
   "source": [
    "Model B is more preferable for forecasting than model A because the RMSE for model B is way lower than the RMSE for model A."
   ]
  },
  {
   "cell_type": "code",
   "execution_count": 620,
   "metadata": {},
   "outputs": [
    {
     "data": {
      "image/png": "[encoded data removed]",
      "text/plain": [
       "<Figure size 432x288 with 1 Axes>"
      ]
     },
     "metadata": {
      "needs_background": "light"
     },
     "output_type": "display_data"
    }
   ],
   "source": [
    "residual = train_df.Sales - sovsales_lm_trendseason.predict(train_df)\n",
    "tsaplots.plot_acf(residual)\n",
    "plt.xlim(-1, 15)\n",
    "plt.show()"
   ]
  },
  {
   "cell_type": "code",
   "execution_count": 627,
   "metadata": {},
   "outputs": [
    {
     "name": "stdout",
     "output_type": "stream",
     "text": [
      "                              ARMA Model Results                              \n",
      "==============================================================================\n",
      "Dep. Variable:                      y   No. Observations:                   84\n",
      "Model:                     ARMA(2, 0)   Log Likelihood                  46.276\n",
      "Method:                       css-mle   S.D. of innovations              0.139\n",
      "Date:                Mon, 15 Jun 2020   AIC                            -86.553\n",
      "Time:                        22:21:21   BIC                            -79.260\n",
      "Sample:                    01-01-1995   HQIC                           -83.621\n",
      "                         - 12-01-2001                                         \n",
      "==============================================================================\n",
      "                 coef    std err          z      P>|z|      [0.025      0.975]\n",
      "------------------------------------------------------------------------------\n",
      "ar.L1.y        0.3488      0.103      3.392      0.001       0.147       0.550\n",
      "ar.L2.y        0.3182      0.103      3.088      0.002       0.116       0.520\n",
      "                                    Roots                                    \n",
      "=============================================================================\n",
      "                  Real          Imaginary           Modulus         Frequency\n",
      "-----------------------------------------------------------------------------\n",
      "AR.1            1.3075           +0.0000j            1.3075            0.0000\n",
      "AR.2           -2.4036           +0.0000j            2.4036            0.5000\n",
      "-----------------------------------------------------------------------------\n",
      "             coef   std err\n",
      "ar.L1.y  0.348792  0.102821\n",
      "ar.L2.y  0.318204  0.103032\n",
      "0.06586130842829097\n",
      "Forecast 0.066 [-0.207, 0.338]\n",
      "0.11347141252733906\n"
     ]
    }
   ],
   "source": [
    "formula = 'np.log(Sales) ~ trend + C(Month)'\n",
    "train_lm_trendseason = sm.ols(formula=formula, data=sales_df).fit()\n",
    "train_res_arima = ARIMA(train_lm_trendseason.resid, order=(2, 0, 0), freq='MS').fit(trend='nc', disp=0)\n",
    "forecast, _, conf_int = train_res_arima.forecast(1)\n",
    "\n",
    "print(train_res_arima.summary())\n",
    "print(pd.DataFrame({'coef': train_res_arima.params, 'std err': train_res_arima.bse}))\n",
    "\n",
    "print(forecast)\n",
    "print('Forecast {0:.3f} [{1[0][0]:.3f}, {1[0][1]:.3f}]'.format(forecast, conf_int))\n",
    "\n",
    "print(train_lm_trendseason.resid[-1])"
   ]
  },
  {
   "cell_type": "code",
   "execution_count": 628,
   "metadata": {},
   "outputs": [
    {
     "data": {
      "image/png": "[encoded data removed]",
      "text/plain": [
       "<Figure size 432x288 with 1 Axes>"
      ]
     },
     "metadata": {
      "needs_background": "light"
     },
     "output_type": "display_data"
    },
    {
     "name": "stdout",
     "output_type": "stream",
     "text": [
      "[ 1.          0.36055564  0.18332461  0.19477838  0.11998924  0.06533403\n",
      "  0.02733865  0.02364468  0.05866166  0.1034218   0.0388536   0.13412591\n",
      "  0.54117933  0.14317799  0.00741333  0.02795173  0.00184762 -0.02227036\n",
      " -0.03923948 -0.03416015 -0.0206428   0.00980796 -0.04343001  0.0309576\n",
      "  0.33800249  0.0526398  -0.05857443 -0.03658423 -0.05838221 -0.06869791\n",
      " -0.07364617 -0.05892378 -0.04744476  0.00458061 -0.05270328  0.01578441\n",
      "  0.27324518  0.01512039 -0.05902759 -0.05487444 -0.07113336]\n"
     ]
    }
   ],
   "source": [
    "tsaplots.plot_acf(train_res_arima.resid)\n",
    "plt.xlim(-1, 15)\n",
    "plt.show()\n",
    "print(stattools.acf(residual, fft=False))"
   ]
  },
  {
   "cell_type": "code",
   "execution_count": 623,
   "metadata": {},
   "outputs": [],
   "source": [
    "test_df = pd.DataFrame({'Date': ['2002-01-01'], 'const':[1.0], 'trend':[85.0], 'Month':[1]})\n",
    "test_df = test_df.set_index('Date')"
   ]
  },
  {
   "cell_type": "code",
   "execution_count": 624,
   "metadata": {},
   "outputs": [
    {
     "name": "stdout",
     "output_type": "stream",
     "text": [
      "Date\n",
      "2002-01-01    12601.016713\n",
      "dtype: float64\n"
     ]
    }
   ],
   "source": [
    "print(sovsales_lm_trendseason.predict(test_df).apply(lambda row: math.exp(row)))"
   ]
  },
  {
   "cell_type": "code",
   "execution_count": 625,
   "metadata": {},
   "outputs": [
    {
     "name": "stdout",
     "output_type": "stream",
     "text": [
      "The Forecast for January is:  12601.083 Sales\n"
     ]
    }
   ],
   "source": [
    "print('The Forecast for January is: ',12601.017 + 0.066,'Sales')"
   ]
  }
 ],
 "metadata": {
  "kernelspec": {
   "display_name": "Python 3",
   "language": "python",
   "name": "python3"
  },
  "language_info": {
   "codemirror_mode": {
    "name": "ipython",
    "version": 3
   },
   "file_extension": ".py",
   "mimetype": "text/x-python",
   "name": "python",
   "nbconvert_exporter": "python",
   "pygments_lexer": "ipython3",
   "version": "3.7.6"
  }
 },
 "nbformat": 4,
 "nbformat_minor": 4
}
