{
 "cells": [
  {
   "cell_type": "code",
   "execution_count": 1,
   "metadata": {},
   "outputs": [],
   "source": [
    "%matplotlib inline\n",
    "import pandas as pd\n",
    "import numpy as np\n",
    "import seaborn as sns\n",
    "import matplotlib.pyplot as plt"
   ]
  },
  {
   "cell_type": "code",
   "execution_count": 3,
   "metadata": {},
   "outputs": [],
   "source": [
    "ls = pd.read_csv('LaptopSales.csv')"
   ]
  },
  {
   "cell_type": "code",
   "execution_count": 4,
   "metadata": {},
   "outputs": [
    {
     "data": {
      "text/html": [
       "<div>\n",
       "<style scoped>\n",
       "    .dataframe tbody tr th:only-of-type {\n",
       "        vertical-align: middle;\n",
       "    }\n",
       "\n",
       "    .dataframe tbody tr th {\n",
       "        vertical-align: top;\n",
       "    }\n",
       "\n",
       "    .dataframe thead th {\n",
       "        text-align: right;\n",
       "    }\n",
       "</style>\n",
       "<table border=\"1\" class=\"dataframe\">\n",
       "  <thead>\n",
       "    <tr style=\"text-align: right;\">\n",
       "      <th></th>\n",
       "      <th>Date</th>\n",
       "      <th>Configuration</th>\n",
       "      <th>Customer Postcode</th>\n",
       "      <th>Store Postcode</th>\n",
       "      <th>Retail Price</th>\n",
       "      <th>Screen Size (Inches)</th>\n",
       "      <th>Battery Life (Hours)</th>\n",
       "      <th>RAM (GB)</th>\n",
       "      <th>Processor Speeds (GHz)</th>\n",
       "      <th>Integrated Wireless?</th>\n",
       "      <th>HD Size (GB)</th>\n",
       "      <th>Bundled Applications?</th>\n",
       "      <th>customer X</th>\n",
       "      <th>customer Y</th>\n",
       "      <th>store X</th>\n",
       "      <th>store Y</th>\n",
       "    </tr>\n",
       "  </thead>\n",
       "  <tbody>\n",
       "    <tr>\n",
       "      <th>0</th>\n",
       "      <td>1/1/2008 0:01</td>\n",
       "      <td>163</td>\n",
       "      <td>EC4V 5BH</td>\n",
       "      <td>SE1 2BN</td>\n",
       "      <td>455.0</td>\n",
       "      <td>15</td>\n",
       "      <td>5</td>\n",
       "      <td>1</td>\n",
       "      <td>2.0</td>\n",
       "      <td>Yes</td>\n",
       "      <td>80</td>\n",
       "      <td>Yes</td>\n",
       "      <td>532041</td>\n",
       "      <td>180995</td>\n",
       "      <td>534057.0</td>\n",
       "      <td>179682.0</td>\n",
       "    </tr>\n",
       "    <tr>\n",
       "      <th>1</th>\n",
       "      <td>1/1/2008 0:02</td>\n",
       "      <td>320</td>\n",
       "      <td>SW4 0JL</td>\n",
       "      <td>SW12 9HD</td>\n",
       "      <td>545.0</td>\n",
       "      <td>15</td>\n",
       "      <td>6</td>\n",
       "      <td>1</td>\n",
       "      <td>2.0</td>\n",
       "      <td>No</td>\n",
       "      <td>300</td>\n",
       "      <td>No</td>\n",
       "      <td>529240</td>\n",
       "      <td>175537</td>\n",
       "      <td>528739.0</td>\n",
       "      <td>173080.0</td>\n",
       "    </tr>\n",
       "    <tr>\n",
       "      <th>2</th>\n",
       "      <td>1/1/2008 0:04</td>\n",
       "      <td>23</td>\n",
       "      <td>EC3V 1LR</td>\n",
       "      <td>E2 0RY</td>\n",
       "      <td>515.0</td>\n",
       "      <td>15</td>\n",
       "      <td>4</td>\n",
       "      <td>1</td>\n",
       "      <td>2.0</td>\n",
       "      <td>Yes</td>\n",
       "      <td>300</td>\n",
       "      <td>Yes</td>\n",
       "      <td>533095</td>\n",
       "      <td>181047</td>\n",
       "      <td>535652.0</td>\n",
       "      <td>182961.0</td>\n",
       "    </tr>\n",
       "    <tr>\n",
       "      <th>3</th>\n",
       "      <td>1/1/2008 0:04</td>\n",
       "      <td>169</td>\n",
       "      <td>SW1P 3AU</td>\n",
       "      <td>SE1 2BN</td>\n",
       "      <td>395.0</td>\n",
       "      <td>15</td>\n",
       "      <td>5</td>\n",
       "      <td>1</td>\n",
       "      <td>2.0</td>\n",
       "      <td>No</td>\n",
       "      <td>40</td>\n",
       "      <td>Yes</td>\n",
       "      <td>529902</td>\n",
       "      <td>179641</td>\n",
       "      <td>534057.0</td>\n",
       "      <td>179682.0</td>\n",
       "    </tr>\n",
       "    <tr>\n",
       "      <th>4</th>\n",
       "      <td>1/1/2008 0:06</td>\n",
       "      <td>365</td>\n",
       "      <td>EC4V 4EG</td>\n",
       "      <td>SW1V 4QQ</td>\n",
       "      <td>585.0</td>\n",
       "      <td>15</td>\n",
       "      <td>6</td>\n",
       "      <td>2</td>\n",
       "      <td>2.0</td>\n",
       "      <td>No</td>\n",
       "      <td>120</td>\n",
       "      <td>Yes</td>\n",
       "      <td>531684</td>\n",
       "      <td>180948</td>\n",
       "      <td>528924.0</td>\n",
       "      <td>178440.0</td>\n",
       "    </tr>\n",
       "  </tbody>\n",
       "</table>\n",
       "</div>"
      ],
      "text/plain": [
       "            Date  Configuration Customer Postcode Store Postcode  \\\n",
       "0  1/1/2008 0:01            163          EC4V 5BH        SE1 2BN   \n",
       "1  1/1/2008 0:02            320           SW4 0JL       SW12 9HD   \n",
       "2  1/1/2008 0:04             23          EC3V 1LR         E2 0RY   \n",
       "3  1/1/2008 0:04            169          SW1P 3AU        SE1 2BN   \n",
       "4  1/1/2008 0:06            365          EC4V 4EG       SW1V 4QQ   \n",
       "\n",
       "   Retail Price  Screen Size (Inches)  Battery Life (Hours)  RAM (GB)  \\\n",
       "0         455.0                    15                     5         1   \n",
       "1         545.0                    15                     6         1   \n",
       "2         515.0                    15                     4         1   \n",
       "3         395.0                    15                     5         1   \n",
       "4         585.0                    15                     6         2   \n",
       "\n",
       "   Processor Speeds (GHz) Integrated Wireless?  HD Size (GB)  \\\n",
       "0                     2.0                  Yes            80   \n",
       "1                     2.0                   No           300   \n",
       "2                     2.0                  Yes           300   \n",
       "3                     2.0                   No            40   \n",
       "4                     2.0                   No           120   \n",
       "\n",
       "  Bundled Applications?  customer X  customer Y   store X   store Y  \n",
       "0                   Yes      532041      180995  534057.0  179682.0  \n",
       "1                    No      529240      175537  528739.0  173080.0  \n",
       "2                   Yes      533095      181047  535652.0  182961.0  \n",
       "3                   Yes      529902      179641  534057.0  179682.0  \n",
       "4                   Yes      531684      180948  528924.0  178440.0  "
      ]
     },
     "execution_count": 4,
     "metadata": {},
     "output_type": "execute_result"
    }
   ],
   "source": [
    "ls.head()"
   ]
  },
  {
   "cell_type": "code",
   "execution_count": 5,
   "metadata": {},
   "outputs": [
    {
     "data": {
      "text/plain": [
       "297572"
      ]
     },
     "execution_count": 5,
     "metadata": {},
     "output_type": "execute_result"
    }
   ],
   "source": [
    "len(ls)"
   ]
  },
  {
   "cell_type": "code",
   "execution_count": 6,
   "metadata": {},
   "outputs": [
    {
     "data": {
      "text/plain": [
       "Date                        208\n",
       "Configuration                 0\n",
       "Customer Postcode             0\n",
       "Store Postcode                0\n",
       "Retail Price              13443\n",
       "Screen Size (Inches)          0\n",
       "Battery Life (Hours)          0\n",
       "RAM (GB)                      0\n",
       "Processor Speeds (GHz)        0\n",
       "Integrated Wireless?          0\n",
       "HD Size (GB)                  0\n",
       "Bundled Applications?         0\n",
       "customer X                    0\n",
       "customer Y                    0\n",
       "store X                     148\n",
       "store Y                     148\n",
       "dtype: int64"
      ]
     },
     "execution_count": 6,
     "metadata": {},
     "output_type": "execute_result"
    }
   ],
   "source": [
    "ls.isnull().sum()"
   ]
  },
  {
   "cell_type": "code",
   "execution_count": 7,
   "metadata": {},
   "outputs": [
    {
     "data": {
      "text/plain": [
       "array([455., 545., 515., 395., 585., 555., 465., 450., 620., 665., 440.,\n",
       "       565., 405., 480., 505., 425., 490., 535., 460., 595., 530., 570.,\n",
       "       540., 510., 590., 520., 525., 500., 350., 445., 435., 420., 495.,\n",
       "       615., 370., 560., 320., 605., 470., 475., 400., 360., 485., 390.,\n",
       "       345., 430., 645., 375., 385., 380., 415., 410., 325., 365., 340.,\n",
       "       300., 640., 580., 635., 550., 610., 355., 630., 575., 335., 295.,\n",
       "       655., 315., 287.,  nan, 329., 330., 357., 364., 625., 336., 290.,\n",
       "       259., 308., 406., 301., 343., 245., 371., 378., 399., 322., 266.,\n",
       "       600., 217., 252., 294., 231., 392., 280., 273., 434., 310., 238.,\n",
       "       203., 305., 285., 483., 448., 765., 735., 441., 680., 760., 745.,\n",
       "       690., 511., 780., 427., 710., 650., 720., 740., 890., 845., 462.,\n",
       "       770., 413., 705., 730., 660., 518., 750., 715., 623., 700., 685.,\n",
       "       469., 670., 805., 810., 790., 675., 275., 581., 830., 532., 795.,\n",
       "       695., 553., 865., 840., 497., 820., 725., 504., 476., 224., 567.,\n",
       "       785., 588., 815., 210., 546., 574., 539., 755., 870., 609., 270.,\n",
       "       265., 182., 196., 260., 189., 255., 250., 240., 168.])"
      ]
     },
     "execution_count": 7,
     "metadata": {},
     "output_type": "execute_result"
    }
   ],
   "source": [
    "ls['Retail Price'].unique()"
   ]
  }
 ],
 "metadata": {
  "kernelspec": {
   "display_name": "Python 3",
   "language": "python",
   "name": "python3"
  },
  "language_info": {
   "codemirror_mode": {
    "name": "ipython",
    "version": 3
   },
   "file_extension": ".py",
   "mimetype": "text/x-python",
   "name": "python",
   "nbconvert_exporter": "python",
   "pygments_lexer": "ipython3",
   "version": "3.7.6"
  }
 },
 "nbformat": 4,
 "nbformat_minor": 2
}
