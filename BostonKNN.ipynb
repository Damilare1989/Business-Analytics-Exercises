{
 "cells": [
  {
   "cell_type": "code",
   "execution_count": 68,
   "metadata": {},
   "outputs": [],
   "source": [
    "%matplotlib inline\n",
    "\n",
    "from pathlib import Path\n",
    "\n",
    "import pandas as pd\n",
    "from sklearn import preprocessing\n",
    "from sklearn.model_selection import train_test_split\n",
    "from sklearn.neighbors import KNeighborsRegressor\n",
    "from sklearn.metrics import mean_squared_error \n",
    "from math import sqrt\n",
    "import matplotlib.pylab as plt"
   ]
  },
  {
   "cell_type": "code",
   "execution_count": 69,
   "metadata": {},
   "outputs": [],
   "source": [
    "bosknn = pd.read_csv('BostonHousing.csv')\n",
    "bosknn['Number'] = bosknn.index + 1"
   ]
  },
  {
   "cell_type": "code",
   "execution_count": 70,
   "metadata": {},
   "outputs": [],
   "source": [
    "bosknn.drop(['CAT. MEDV'], axis = 1, inplace = True)"
   ]
  },
  {
   "cell_type": "code",
   "execution_count": 71,
   "metadata": {},
   "outputs": [
    {
     "data": {
      "text/html": [
       "<div>\n",
       "<style scoped>\n",
       "    .dataframe tbody tr th:only-of-type {\n",
       "        vertical-align: middle;\n",
       "    }\n",
       "\n",
       "    .dataframe tbody tr th {\n",
       "        vertical-align: top;\n",
       "    }\n",
       "\n",
       "    .dataframe thead th {\n",
       "        text-align: right;\n",
       "    }\n",
       "</style>\n",
       "<table border=\"1\" class=\"dataframe\">\n",
       "  <thead>\n",
       "    <tr style=\"text-align: right;\">\n",
       "      <th></th>\n",
       "      <th>CRIM</th>\n",
       "      <th>ZN</th>\n",
       "      <th>INDUS</th>\n",
       "      <th>CHAS</th>\n",
       "      <th>NOX</th>\n",
       "      <th>RM</th>\n",
       "      <th>AGE</th>\n",
       "      <th>DIS</th>\n",
       "      <th>RAD</th>\n",
       "      <th>TAX</th>\n",
       "      <th>PTRATIO</th>\n",
       "      <th>LSTAT</th>\n",
       "      <th>MEDV</th>\n",
       "      <th>Number</th>\n",
       "    </tr>\n",
       "  </thead>\n",
       "  <tbody>\n",
       "    <tr>\n",
       "      <th>0</th>\n",
       "      <td>0.00632</td>\n",
       "      <td>18.0</td>\n",
       "      <td>2.31</td>\n",
       "      <td>0</td>\n",
       "      <td>0.538</td>\n",
       "      <td>6.575</td>\n",
       "      <td>65.2</td>\n",
       "      <td>4.0900</td>\n",
       "      <td>1</td>\n",
       "      <td>296</td>\n",
       "      <td>15.3</td>\n",
       "      <td>4.98</td>\n",
       "      <td>24.0</td>\n",
       "      <td>1</td>\n",
       "    </tr>\n",
       "    <tr>\n",
       "      <th>1</th>\n",
       "      <td>0.02731</td>\n",
       "      <td>0.0</td>\n",
       "      <td>7.07</td>\n",
       "      <td>0</td>\n",
       "      <td>0.469</td>\n",
       "      <td>6.421</td>\n",
       "      <td>78.9</td>\n",
       "      <td>4.9671</td>\n",
       "      <td>2</td>\n",
       "      <td>242</td>\n",
       "      <td>17.8</td>\n",
       "      <td>9.14</td>\n",
       "      <td>21.6</td>\n",
       "      <td>2</td>\n",
       "    </tr>\n",
       "    <tr>\n",
       "      <th>2</th>\n",
       "      <td>0.02729</td>\n",
       "      <td>0.0</td>\n",
       "      <td>7.07</td>\n",
       "      <td>0</td>\n",
       "      <td>0.469</td>\n",
       "      <td>7.185</td>\n",
       "      <td>61.1</td>\n",
       "      <td>4.9671</td>\n",
       "      <td>2</td>\n",
       "      <td>242</td>\n",
       "      <td>17.8</td>\n",
       "      <td>4.03</td>\n",
       "      <td>34.7</td>\n",
       "      <td>3</td>\n",
       "    </tr>\n",
       "    <tr>\n",
       "      <th>3</th>\n",
       "      <td>0.03237</td>\n",
       "      <td>0.0</td>\n",
       "      <td>2.18</td>\n",
       "      <td>0</td>\n",
       "      <td>0.458</td>\n",
       "      <td>6.998</td>\n",
       "      <td>45.8</td>\n",
       "      <td>6.0622</td>\n",
       "      <td>3</td>\n",
       "      <td>222</td>\n",
       "      <td>18.7</td>\n",
       "      <td>2.94</td>\n",
       "      <td>33.4</td>\n",
       "      <td>4</td>\n",
       "    </tr>\n",
       "    <tr>\n",
       "      <th>4</th>\n",
       "      <td>0.06905</td>\n",
       "      <td>0.0</td>\n",
       "      <td>2.18</td>\n",
       "      <td>0</td>\n",
       "      <td>0.458</td>\n",
       "      <td>7.147</td>\n",
       "      <td>54.2</td>\n",
       "      <td>6.0622</td>\n",
       "      <td>3</td>\n",
       "      <td>222</td>\n",
       "      <td>18.7</td>\n",
       "      <td>5.33</td>\n",
       "      <td>36.2</td>\n",
       "      <td>5</td>\n",
       "    </tr>\n",
       "  </tbody>\n",
       "</table>\n",
       "</div>"
      ],
      "text/plain": [
       "      CRIM    ZN  INDUS  CHAS    NOX     RM   AGE     DIS  RAD  TAX  PTRATIO  \\\n",
       "0  0.00632  18.0   2.31     0  0.538  6.575  65.2  4.0900    1  296     15.3   \n",
       "1  0.02731   0.0   7.07     0  0.469  6.421  78.9  4.9671    2  242     17.8   \n",
       "2  0.02729   0.0   7.07     0  0.469  7.185  61.1  4.9671    2  242     17.8   \n",
       "3  0.03237   0.0   2.18     0  0.458  6.998  45.8  6.0622    3  222     18.7   \n",
       "4  0.06905   0.0   2.18     0  0.458  7.147  54.2  6.0622    3  222     18.7   \n",
       "\n",
       "   LSTAT  MEDV  Number  \n",
       "0   4.98  24.0       1  \n",
       "1   9.14  21.6       2  \n",
       "2   4.03  34.7       3  \n",
       "3   2.94  33.4       4  \n",
       "4   5.33  36.2       5  "
      ]
     },
     "execution_count": 71,
     "metadata": {},
     "output_type": "execute_result"
    }
   ],
   "source": [
    "bosknn.head()"
   ]
  },
  {
   "cell_type": "code",
   "execution_count": 72,
   "metadata": {},
   "outputs": [
    {
     "data": {
      "text/plain": [
       "(506, 14)"
      ]
     },
     "execution_count": 72,
     "metadata": {},
     "output_type": "execute_result"
    }
   ],
   "source": [
    "bosknn.shape\n"
   ]
  },
  {
   "cell_type": "code",
   "execution_count": 73,
   "metadata": {},
   "outputs": [
    {
     "name": "stdout",
     "output_type": "stream",
     "text": [
      "(303, 14) (203, 14)\n"
     ]
    }
   ],
   "source": [
    "trainData, validData = train_test_split(bosknn, test_size = 0.4, random_state = 26)\n",
    "print(trainData.shape, validData.shape)"
   ]
  },
  {
   "cell_type": "code",
   "execution_count": 74,
   "metadata": {},
   "outputs": [],
   "source": [
    "scaler = preprocessing.StandardScaler()\n",
    "scaler.fit(trainData[['CRIM', 'ZN', 'INDUS', 'CHAS', 'NOX', 'RM', 'AGE', 'DIS', 'RAD', 'TAX', 'PTRATIO', 'LSTAT']])\n",
    "           \n",
    "#Transform the full dataset\n",
    "bosknn = pd.concat([pd.DataFrame(scaler.transform(bosknn[['CRIM', 'ZN', 'INDUS', 'CHAS', 'NOX', 'RM', 'AGE', 'DIS', 'RAD', 'TAX', 'PTRATIO', 'LSTAT']]),\n",
    "                                 columns = ['zCRIM', 'zZN', 'zINDUS', 'zCHAS', 'zNOX', 'zRM', 'zAGE', 'zDIS', 'zRAD', 'zTAX', 'zPTRATIO', 'zLSTAT']),\n",
    "                                 bosknn[['MEDV', 'Number']]], axis = 1)\n",
    "trainNorm = bosknn.iloc[trainData.index]\n",
    "validNorm = bosknn.iloc[validData.index]"
   ]
  },
  {
   "cell_type": "code",
   "execution_count": 75,
   "metadata": {},
   "outputs": [],
   "source": [
    "train_X = trainNorm[['zCRIM', 'zZN', 'zINDUS', 'zCHAS', 'zNOX', 'zRM', 'zAGE', 'zDIS', 'zRAD', 'zTAX', 'zPTRATIO', 'zLSTAT']]\n",
    "train_y = trainNorm['MEDV']\n",
    "valid_X = validNorm[['zCRIM', 'zZN', 'zINDUS', 'zCHAS', 'zNOX', 'zRM', 'zAGE', 'zDIS', 'zRAD', 'zTAX', 'zPTRATIO', 'zLSTAT']]\n",
    "valid_y = validNorm['MEDV']    "
   ]
  },
  {
   "cell_type": "code",
   "execution_count": 76,
   "metadata": {
    "scrolled": false
   },
   "outputs": [
    {
     "name": "stdout",
     "output_type": "stream",
     "text": [
      "RMSE value for k=  1 is: 5.27314508745023\n",
      "RMSE value for k=  2 is: 4.668888750815089\n",
      "RMSE value for k=  3 is: 4.7489082085789445\n",
      "RMSE value for k=  4 is: 5.017560296603246\n",
      "RMSE value for k=  5 is: 5.110195353577408\n"
     ]
    }
   ],
   "source": [
    "rmse_val = [] #to store rmse values for different k\n",
    "for K in range(5):\n",
    "    K = K+1\n",
    "    model = KNeighborsRegressor(n_neighbors = K)\n",
    "\n",
    "    model.fit(train_X, train_y)  #fit the model\n",
    "    pred=model.predict(valid_X) #make prediction on test set\n",
    "    error = sqrt(mean_squared_error(valid_y,pred)) #calculate rmse\n",
    "    rmse_val.append(error) #store rmse values\n",
    "    print('RMSE value for k= ' , K , 'is:', error)"
   ]
  },
  {
   "cell_type": "markdown",
   "metadata": {},
   "source": [
    "The best value for k is when k = 2\n",
    "\n",
    "The RMSE value decreases as we increase the k value from 1 to 2. At k= 2, the RMSE is approximately 4.67, and shoots up on further increasing the k value. We can safely say that k=2 will give us the best result in this case."
   ]
  },
  {
   "cell_type": "code",
   "execution_count": 77,
   "metadata": {},
   "outputs": [],
   "source": [
    "newHouse = pd.DataFrame({'CRIM':0.2, 'ZN':0, 'INDUS':7, 'CHAS':0, 'NOX':0.538, 'RM':6, 'AGE':62, 'DIS':4.7, 'RAD':4, 'TAX':307, 'PTRATIO':21, 'LSTAT':10}, index = [0])"
   ]
  },
  {
   "cell_type": "code",
   "execution_count": 78,
   "metadata": {},
   "outputs": [],
   "source": [
    "newHouseNorm = pd.DataFrame(scaler.transform(newHouse), columns = ['zCRIM', 'zZN', 'zINDUS', 'zCHAS', 'zNOX', 'zRM', 'zAGE', 'zDIS', 'zRAD', 'zTAX', 'zPTRATIO', 'zLSTAT'])"
   ]
  },
  {
   "cell_type": "code",
   "execution_count": 79,
   "metadata": {},
   "outputs": [
    {
     "name": "stdout",
     "output_type": "stream",
     "text": [
      "[19.64]\n"
     ]
    }
   ],
   "source": [
    "knn = KNeighborsRegressor(n_neighbors = 2)\n",
    "predNH = model.predict(newHouseNorm)\n",
    "print(predNH)"
   ]
  },
  {
   "cell_type": "code",
   "execution_count": 81,
   "metadata": {},
   "outputs": [
    {
     "name": "stdout",
     "output_type": "stream",
     "text": [
      "RMSE value for k=  1 is: 0.0\n",
      "RMSE value for k=  2 is: 2.401001922328073\n",
      "RMSE value for k=  3 is: 3.1611943916287135\n",
      "RMSE value for k=  4 is: 3.718019851636314\n",
      "RMSE value for k=  5 is: 4.159139127731649\n"
     ]
    }
   ],
   "source": [
    "rmse_val = [] #to store rmse values for different k\n",
    "for K in range(5):\n",
    "    K = K+1\n",
    "    model = KNeighborsRegressor(n_neighbors = K)\n",
    "\n",
    "    model.fit(train_X, train_y)  #fit the model\n",
    "    pred=model.predict(train_X) #make prediction on test set\n",
    "    error = sqrt(mean_squared_error(train_y,pred)) #calculate rmse\n",
    "    rmse_val.append(error) #store rmse values\n",
    "    print('RMSE value for k= ' , K , 'is:', error)"
   ]
  },
  {
   "cell_type": "markdown",
   "metadata": {},
   "source": [
    "The validation data error is overly optimistic compared to the error rate of the training data because it is less prone to overfitting."
   ]
  }
 ],
 "metadata": {
  "kernelspec": {
   "display_name": "Python 3",
   "language": "python",
   "name": "python3"
  },
  "language_info": {
   "codemirror_mode": {
    "name": "ipython",
    "version": 3
   },
   "file_extension": ".py",
   "mimetype": "text/x-python",
   "name": "python",
   "nbconvert_exporter": "python",
   "pygments_lexer": "ipython3",
   "version": "3.7.5"
  }
 },
 "nbformat": 4,
 "nbformat_minor": 2
}
