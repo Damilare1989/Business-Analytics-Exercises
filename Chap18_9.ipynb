{
 "cells": [
  {
   "cell_type": "code",
   "execution_count": 60,
   "metadata": {},
   "outputs": [],
   "source": [
    "%matplotlib inline\n",
    "from pathlib import Path\n",
    "\n",
    "import numpy as np\n",
    "import pandas as pd\n",
    "import matplotlib.pylab as plt\n",
    "import statsmodels.formula.api as sm\n",
    "from statsmodels.tsa import tsatools\n",
    "from statsmodels.graphics import tsaplots\n",
    "from statsmodels.tsa.holtwinters import ExponentialSmoothing"
   ]
  },
  {
   "cell_type": "code",
   "execution_count": 61,
   "metadata": {},
   "outputs": [],
   "source": [
    "aw = pd.read_csv('AustralianWines.csv')"
   ]
  },
  {
   "cell_type": "code",
   "execution_count": 62,
   "metadata": {},
   "outputs": [
    {
     "data": {
      "text/html": [
       "<div>\n",
       "<style scoped>\n",
       "    .dataframe tbody tr th:only-of-type {\n",
       "        vertical-align: middle;\n",
       "    }\n",
       "\n",
       "    .dataframe tbody tr th {\n",
       "        vertical-align: top;\n",
       "    }\n",
       "\n",
       "    .dataframe thead th {\n",
       "        text-align: right;\n",
       "    }\n",
       "</style>\n",
       "<table border=\"1\" class=\"dataframe\">\n",
       "  <thead>\n",
       "    <tr style=\"text-align: right;\">\n",
       "      <th></th>\n",
       "      <th>Month</th>\n",
       "      <th>Drywhite</th>\n",
       "      <th>Fortified</th>\n",
       "      <th>Red</th>\n",
       "      <th>Rose</th>\n",
       "      <th>Sparkling</th>\n",
       "      <th>Sweetwhite</th>\n",
       "    </tr>\n",
       "  </thead>\n",
       "  <tbody>\n",
       "    <tr>\n",
       "      <th>0</th>\n",
       "      <td>1980-01</td>\n",
       "      <td>1954</td>\n",
       "      <td>2585</td>\n",
       "      <td>464</td>\n",
       "      <td>112.0</td>\n",
       "      <td>1686</td>\n",
       "      <td>85</td>\n",
       "    </tr>\n",
       "    <tr>\n",
       "      <th>1</th>\n",
       "      <td>1980-02</td>\n",
       "      <td>2302</td>\n",
       "      <td>3368</td>\n",
       "      <td>675</td>\n",
       "      <td>118.0</td>\n",
       "      <td>1591</td>\n",
       "      <td>89</td>\n",
       "    </tr>\n",
       "    <tr>\n",
       "      <th>2</th>\n",
       "      <td>1980-03</td>\n",
       "      <td>3054</td>\n",
       "      <td>3210</td>\n",
       "      <td>703</td>\n",
       "      <td>129.0</td>\n",
       "      <td>2304</td>\n",
       "      <td>109</td>\n",
       "    </tr>\n",
       "    <tr>\n",
       "      <th>3</th>\n",
       "      <td>1980-04</td>\n",
       "      <td>2414</td>\n",
       "      <td>3111</td>\n",
       "      <td>887</td>\n",
       "      <td>99.0</td>\n",
       "      <td>1712</td>\n",
       "      <td>95</td>\n",
       "    </tr>\n",
       "    <tr>\n",
       "      <th>4</th>\n",
       "      <td>1980-05</td>\n",
       "      <td>2226</td>\n",
       "      <td>3756</td>\n",
       "      <td>1139</td>\n",
       "      <td>116.0</td>\n",
       "      <td>1471</td>\n",
       "      <td>91</td>\n",
       "    </tr>\n",
       "    <tr>\n",
       "      <th>...</th>\n",
       "      <td>...</td>\n",
       "      <td>...</td>\n",
       "      <td>...</td>\n",
       "      <td>...</td>\n",
       "      <td>...</td>\n",
       "      <td>...</td>\n",
       "      <td>...</td>\n",
       "    </tr>\n",
       "    <tr>\n",
       "      <th>182</th>\n",
       "      <td>1995-03</td>\n",
       "      <td>4067</td>\n",
       "      <td>1818</td>\n",
       "      <td>2459</td>\n",
       "      <td>45.0</td>\n",
       "      <td>1897</td>\n",
       "      <td>188</td>\n",
       "    </tr>\n",
       "    <tr>\n",
       "      <th>183</th>\n",
       "      <td>1995-04</td>\n",
       "      <td>4022</td>\n",
       "      <td>2262</td>\n",
       "      <td>2618</td>\n",
       "      <td>52.0</td>\n",
       "      <td>1862</td>\n",
       "      <td>195</td>\n",
       "    </tr>\n",
       "    <tr>\n",
       "      <th>184</th>\n",
       "      <td>1995-05</td>\n",
       "      <td>3937</td>\n",
       "      <td>2612</td>\n",
       "      <td>2585</td>\n",
       "      <td>28.0</td>\n",
       "      <td>1670</td>\n",
       "      <td>189</td>\n",
       "    </tr>\n",
       "    <tr>\n",
       "      <th>185</th>\n",
       "      <td>1995-06</td>\n",
       "      <td>4365</td>\n",
       "      <td>2967</td>\n",
       "      <td>3310</td>\n",
       "      <td>40.0</td>\n",
       "      <td>1688</td>\n",
       "      <td>220</td>\n",
       "    </tr>\n",
       "    <tr>\n",
       "      <th>186</th>\n",
       "      <td>1995-07</td>\n",
       "      <td>4290</td>\n",
       "      <td>3179</td>\n",
       "      <td>3923</td>\n",
       "      <td>62.0</td>\n",
       "      <td>2031</td>\n",
       "      <td>274</td>\n",
       "    </tr>\n",
       "  </tbody>\n",
       "</table>\n",
       "<p>187 rows × 7 columns</p>\n",
       "</div>"
      ],
      "text/plain": [
       "       Month  Drywhite  Fortified   Red   Rose  Sparkling  Sweetwhite\n",
       "0    1980-01      1954       2585   464  112.0       1686          85\n",
       "1    1980-02      2302       3368   675  118.0       1591          89\n",
       "2    1980-03      3054       3210   703  129.0       2304         109\n",
       "3    1980-04      2414       3111   887   99.0       1712          95\n",
       "4    1980-05      2226       3756  1139  116.0       1471          91\n",
       "..       ...       ...        ...   ...    ...        ...         ...\n",
       "182  1995-03      4067       1818  2459   45.0       1897         188\n",
       "183  1995-04      4022       2262  2618   52.0       1862         195\n",
       "184  1995-05      3937       2612  2585   28.0       1670         189\n",
       "185  1995-06      4365       2967  3310   40.0       1688         220\n",
       "186  1995-07      4290       3179  3923   62.0       2031         274\n",
       "\n",
       "[187 rows x 7 columns]"
      ]
     },
     "execution_count": 62,
     "metadata": {},
     "output_type": "execute_result"
    }
   ],
   "source": [
    "aw"
   ]
  },
  {
   "cell_type": "markdown",
   "metadata": {},
   "source": [
    "The forecasting method that would be suitable for all the series is Holt-Winter's exponential smoothing"
   ]
  },
  {
   "cell_type": "code",
   "execution_count": 63,
   "metadata": {},
   "outputs": [],
   "source": [
    "tified = aw[['Month', 'Fortified']]"
   ]
  },
  {
   "cell_type": "code",
   "execution_count": 64,
   "metadata": {},
   "outputs": [
    {
     "name": "stderr",
     "output_type": "stream",
     "text": [
      "C:\\Users\\GETHSEMAN\\anaconda3\\lib\\site-packages\\ipykernel_launcher.py:2: SettingWithCopyWarning: \n",
      "A value is trying to be set on a copy of a slice from a DataFrame.\n",
      "Try using .loc[row_indexer,col_indexer] = value instead\n",
      "\n",
      "See the caveats in the documentation: https://pandas.pydata.org/pandas-docs/stable/user_guide/indexing.html#returning-a-view-versus-a-copy\n",
      "  \n"
     ]
    }
   ],
   "source": [
    "#convert to time series\n",
    "tified['Month'] = pd.to_datetime(tified.Month, format = '%Y-%m')\n",
    "Sales_ts = pd.Series(tified.Fortified.values, index = tified.Month, name = 'Sales')\n",
    "Sales_ts.index = pd.DatetimeIndex(Sales_ts.index, freq = Sales_ts.index.inferred_freq)"
   ]
  },
  {
   "cell_type": "code",
   "execution_count": 65,
   "metadata": {},
   "outputs": [],
   "source": [
    "nValid = 19\n",
    "nTrain = len(Sales_ts) - nValid\n",
    "\n",
    "#partition the data\n",
    "train_ts = Sales_ts[:nTrain]\n",
    "valid_ts = Sales_ts[nTrain:]"
   ]
  },
  {
   "cell_type": "code",
   "execution_count": 66,
   "metadata": {},
   "outputs": [
    {
     "data": {
      "text/plain": [
       "Month\n",
       "1980-01-01    2585\n",
       "1980-02-01    3368\n",
       "1980-03-01    3210\n",
       "1980-04-01    3111\n",
       "1980-05-01    3756\n",
       "              ... \n",
       "1993-08-01    2626\n",
       "1993-09-01    2132\n",
       "1993-10-01    1772\n",
       "1993-11-01    2526\n",
       "1993-12-01    2755\n",
       "Freq: MS, Name: Sales, Length: 168, dtype: int64"
      ]
     },
     "execution_count": 66,
     "metadata": {},
     "output_type": "execute_result"
    }
   ],
   "source": [
    "train_ts"
   ]
  },
  {
   "cell_type": "code",
   "execution_count": 67,
   "metadata": {},
   "outputs": [
    {
     "data": {
      "text/plain": [
       "Month\n",
       "1994-01-01    1154\n",
       "1994-02-01    1568\n",
       "1994-03-01    1965\n",
       "1994-04-01    2659\n",
       "1994-05-01    2354\n",
       "1994-06-01    2592\n",
       "1994-07-01    2714\n",
       "1994-08-01    2294\n",
       "1994-09-01    2416\n",
       "1994-10-01    2016\n",
       "1994-11-01    2799\n",
       "1994-12-01    2467\n",
       "1995-01-01    1153\n",
       "1995-02-01    1482\n",
       "1995-03-01    1818\n",
       "1995-04-01    2262\n",
       "1995-05-01    2612\n",
       "1995-06-01    2967\n",
       "1995-07-01    3179\n",
       "Freq: MS, Name: Sales, dtype: int64"
      ]
     },
     "execution_count": 67,
     "metadata": {},
     "output_type": "execute_result"
    }
   ],
   "source": [
    "valid_ts"
   ]
  },
  {
   "cell_type": "code",
   "execution_count": 68,
   "metadata": {},
   "outputs": [
    {
     "name": "stderr",
     "output_type": "stream",
     "text": [
      "C:\\Users\\GETHSEMAN\\anaconda3\\lib\\site-packages\\statsmodels\\tsa\\holtwinters.py:725: RuntimeWarning: invalid value encountered in less_equal\n",
      "  loc = initial_p <= lb\n",
      "C:\\Users\\GETHSEMAN\\anaconda3\\lib\\site-packages\\statsmodels\\tsa\\holtwinters.py:731: RuntimeWarning: invalid value encountered in greater_equal\n",
      "  loc = initial_p >= ub\n"
     ]
    },
    {
     "data": {
      "image/png": "[encoded data removed]",
      "text/plain": [
       "<Figure size 648x288 with 1 Axes>"
      ]
     },
     "metadata": {
      "needs_background": "light"
     },
     "output_type": "display_data"
    }
   ],
   "source": [
    "# run exponential smoothing with additive trend and multiplicative seasonality\n",
    "expSmooth = ExponentialSmoothing(train_ts, trend='additive', seasonal='multiplicative', seasonal_periods=12, freq='MS')\n",
    "expSmoothFit = expSmooth.fit(smoothing_level = 0.2, smoothing_slope = 0.15, smoothing_seasonal = 0.05)\n",
    "\n",
    "fig, ax = plt.subplots(figsize=(9,4))\n",
    "train_ts.plot(ax=ax, color='black', linewidth=0.5)\n",
    "valid_ts.plot(ax=ax, color='black', linewidth=0.25)\n",
    "\n",
    "expSmoothFit.fittedvalues.plot(ax=ax)\n",
    "expSmoothFit.forecast(len(valid_ts)).plot(ax=ax, style='--', linewidth=2, color='C0')\n",
    "\n",
    "\n",
    "plt.show()"
   ]
  },
  {
   "cell_type": "code",
   "execution_count": 69,
   "metadata": {},
   "outputs": [
    {
     "name": "stdout",
     "output_type": "stream",
     "text": [
      "1994-01-01    1304.431522\n",
      "1994-02-01    1569.546378\n",
      "1994-03-01    1890.327853\n",
      "Freq: MS, dtype: float64\n"
     ]
    }
   ],
   "source": [
    "print(expSmoothFit.forecast(3))"
   ]
  },
  {
   "cell_type": "code",
   "execution_count": 70,
   "metadata": {},
   "outputs": [],
   "source": [
    "residual = valid_ts - expSmoothFit.forecast(len(valid_ts))"
   ]
  },
  {
   "cell_type": "code",
   "execution_count": 71,
   "metadata": {},
   "outputs": [
    {
     "name": "stdout",
     "output_type": "stream",
     "text": [
      "Month\n",
      "1994-01-01   -150.431522\n",
      "1994-02-01     -1.546378\n",
      "1994-03-01     74.672147\n",
      "1994-04-01    600.739766\n",
      "1994-05-01   -109.075809\n",
      "1994-06-01     69.608051\n",
      "1994-07-01   -325.185202\n",
      "1994-08-01   -524.653457\n",
      "1994-09-01    299.015311\n",
      "1994-10-01     42.244434\n",
      "1994-11-01    482.981753\n",
      "1994-12-01     94.381942\n",
      "1995-01-01   -155.511596\n",
      "1995-02-01    -92.454414\n",
      "1995-03-01    -78.237445\n",
      "1995-04-01    197.306855\n",
      "1995-05-01    141.228068\n",
      "1995-06-01    436.728641\n",
      "1995-07-01    130.323508\n",
      "Freq: MS, dtype: float64\n"
     ]
    }
   ],
   "source": [
    "print(residual)"
   ]
  },
  {
   "cell_type": "code",
   "execution_count": 74,
   "metadata": {
    "scrolled": true
   },
   "outputs": [
    {
     "data": {
      "image/png": "[encoded data removed]",
      "text/plain": [
       "<Figure size 432x288 with 1 Axes>"
      ]
     },
     "metadata": {
      "needs_background": "light"
     },
     "output_type": "display_data"
    }
   ],
   "source": [
    "tsaplots.plot_acf(residual)\n",
    "plt.xlim(-1, 12)\n",
    "plt.show()"
   ]
  },
  {
   "cell_type": "markdown",
   "metadata": {},
   "source": [
    "This model does not capture the seasonality well. This can possibly be handled well by first fitting a regression model with trend and seasonality."
   ]
  }
 ],
 "metadata": {
  "kernelspec": {
   "display_name": "Python 3",
   "language": "python",
   "name": "python3"
  },
  "language_info": {
   "codemirror_mode": {
    "name": "ipython",
    "version": 3
   },
   "file_extension": ".py",
   "mimetype": "text/x-python",
   "name": "python",
   "nbconvert_exporter": "python",
   "pygments_lexer": "ipython3",
   "version": "3.7.6"
  }
 },
 "nbformat": 4,
 "nbformat_minor": 4
}
