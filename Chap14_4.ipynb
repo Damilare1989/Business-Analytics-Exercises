{
 "cells": [
  {
   "cell_type": "code",
   "execution_count": 1,
   "metadata": {
    "_cell_guid": "b1076dfc-b9ad-4769-8c92-a6c4dae69d19",
    "_uuid": "8f2839f25d086af736a60e9eeb907d3b93b6e0e5"
   },
   "outputs": [
    {
     "name": "stdout",
     "output_type": "stream",
     "text": [
      "/kaggle/input/cosmetics/Cosmetics.csv\n"
     ]
    }
   ],
   "source": [
    "# This Python 3 environment comes with many helpful analytics libraries installed\n",
    "# It is defined by the kaggle/python Docker image: https://github.com/kaggle/docker-python\n",
    "# For example, here's several helpful packages to load\n",
    "\n",
    "import numpy as np # linear algebra\n",
    "import pandas as pd # data processing, CSV file I/O (e.g. pd.read_csv)\n",
    "\n",
    "# Input data files are available in the read-only \"../input/\" directory\n",
    "# For example, running this (by clicking run or pressing Shift+Enter) will list all files under the input directory\n",
    "\n",
    "import os\n",
    "for dirname, _, filenames in os.walk('/kaggle/input'):\n",
    "    for filename in filenames:\n",
    "        print(os.path.join(dirname, filename))\n",
    "\n",
    "# You can write up to 5GB to the current directory (/kaggle/working/) that gets preserved as output when you create a version using \"Save & Run All\" \n",
    "# You can also write temporary files to /kaggle/temp/, but they won't be saved outside of the current session"
   ]
  },
  {
   "cell_type": "code",
   "execution_count": 2,
   "metadata": {
    "_cell_guid": "79c7e3d0-c299-4dcb-8224-4455121ee9b0",
    "_uuid": "d629ff2d2480ee46fbb7e2d37f6b5fab8052498a"
   },
   "outputs": [],
   "source": [
    "%matplotlib inline\n",
    "\n",
    "from pathlib import Path\n",
    "\n",
    "import heapq\n",
    "from collections import defaultdict\n",
    "\n",
    "import matplotlib.pylab as plt\n",
    "from mlxtend.frequent_patterns import apriori\n",
    "from mlxtend.frequent_patterns import association_rules\n",
    "\n",
    "from surprise import Dataset, Reader, KNNBasic\n",
    "from surprise.model_selection import train_test_split"
   ]
  },
  {
   "cell_type": "code",
   "execution_count": 3,
   "metadata": {},
   "outputs": [],
   "source": [
    "cos = pd.read_csv('../input/cosmetics/Cosmetics.csv')\n",
    "cos.set_index('Trans. ', inplace = True)"
   ]
  },
  {
   "cell_type": "code",
   "execution_count": 4,
   "metadata": {},
   "outputs": [
    {
     "data": {
      "text/html": [
       "<div>\n",
       "<style scoped>\n",
       "    .dataframe tbody tr th:only-of-type {\n",
       "        vertical-align: middle;\n",
       "    }\n",
       "\n",
       "    .dataframe tbody tr th {\n",
       "        vertical-align: top;\n",
       "    }\n",
       "\n",
       "    .dataframe thead th {\n",
       "        text-align: right;\n",
       "    }\n",
       "</style>\n",
       "<table border=\"1\" class=\"dataframe\">\n",
       "  <thead>\n",
       "    <tr style=\"text-align: right;\">\n",
       "      <th></th>\n",
       "      <th>Bag</th>\n",
       "      <th>Blush</th>\n",
       "      <th>Nail Polish</th>\n",
       "      <th>Brushes</th>\n",
       "      <th>Concealer</th>\n",
       "      <th>Eyebrow Pencils</th>\n",
       "      <th>Bronzer</th>\n",
       "      <th>Lip liner</th>\n",
       "      <th>Mascara</th>\n",
       "      <th>Eye shadow</th>\n",
       "      <th>Foundation</th>\n",
       "      <th>Lip Gloss</th>\n",
       "      <th>Lipstick</th>\n",
       "      <th>Eyeliner</th>\n",
       "    </tr>\n",
       "    <tr>\n",
       "      <th>Trans.</th>\n",
       "      <th></th>\n",
       "      <th></th>\n",
       "      <th></th>\n",
       "      <th></th>\n",
       "      <th></th>\n",
       "      <th></th>\n",
       "      <th></th>\n",
       "      <th></th>\n",
       "      <th></th>\n",
       "      <th></th>\n",
       "      <th></th>\n",
       "      <th></th>\n",
       "      <th></th>\n",
       "      <th></th>\n",
       "    </tr>\n",
       "  </thead>\n",
       "  <tbody>\n",
       "    <tr>\n",
       "      <th>1</th>\n",
       "      <td>0</td>\n",
       "      <td>1</td>\n",
       "      <td>1</td>\n",
       "      <td>1</td>\n",
       "      <td>1</td>\n",
       "      <td>0</td>\n",
       "      <td>1</td>\n",
       "      <td>1</td>\n",
       "      <td>1</td>\n",
       "      <td>0</td>\n",
       "      <td>0</td>\n",
       "      <td>0</td>\n",
       "      <td>0</td>\n",
       "      <td>1</td>\n",
       "    </tr>\n",
       "    <tr>\n",
       "      <th>2</th>\n",
       "      <td>0</td>\n",
       "      <td>0</td>\n",
       "      <td>1</td>\n",
       "      <td>0</td>\n",
       "      <td>1</td>\n",
       "      <td>0</td>\n",
       "      <td>1</td>\n",
       "      <td>1</td>\n",
       "      <td>0</td>\n",
       "      <td>0</td>\n",
       "      <td>1</td>\n",
       "      <td>1</td>\n",
       "      <td>0</td>\n",
       "      <td>0</td>\n",
       "    </tr>\n",
       "    <tr>\n",
       "      <th>3</th>\n",
       "      <td>0</td>\n",
       "      <td>1</td>\n",
       "      <td>0</td>\n",
       "      <td>0</td>\n",
       "      <td>1</td>\n",
       "      <td>1</td>\n",
       "      <td>1</td>\n",
       "      <td>1</td>\n",
       "      <td>1</td>\n",
       "      <td>1</td>\n",
       "      <td>1</td>\n",
       "      <td>1</td>\n",
       "      <td>1</td>\n",
       "      <td>0</td>\n",
       "    </tr>\n",
       "    <tr>\n",
       "      <th>4</th>\n",
       "      <td>0</td>\n",
       "      <td>0</td>\n",
       "      <td>1</td>\n",
       "      <td>1</td>\n",
       "      <td>1</td>\n",
       "      <td>0</td>\n",
       "      <td>1</td>\n",
       "      <td>0</td>\n",
       "      <td>0</td>\n",
       "      <td>0</td>\n",
       "      <td>1</td>\n",
       "      <td>0</td>\n",
       "      <td>0</td>\n",
       "      <td>1</td>\n",
       "    </tr>\n",
       "    <tr>\n",
       "      <th>5</th>\n",
       "      <td>0</td>\n",
       "      <td>1</td>\n",
       "      <td>0</td>\n",
       "      <td>0</td>\n",
       "      <td>1</td>\n",
       "      <td>0</td>\n",
       "      <td>1</td>\n",
       "      <td>1</td>\n",
       "      <td>1</td>\n",
       "      <td>1</td>\n",
       "      <td>0</td>\n",
       "      <td>1</td>\n",
       "      <td>1</td>\n",
       "      <td>0</td>\n",
       "    </tr>\n",
       "  </tbody>\n",
       "</table>\n",
       "</div>"
      ],
      "text/plain": [
       "         Bag  Blush  Nail Polish  Brushes  Concealer  Eyebrow Pencils  \\\n",
       "Trans.                                                                  \n",
       "1          0      1            1        1          1                0   \n",
       "2          0      0            1        0          1                0   \n",
       "3          0      1            0        0          1                1   \n",
       "4          0      0            1        1          1                0   \n",
       "5          0      1            0        0          1                0   \n",
       "\n",
       "         Bronzer  Lip liner  Mascara  Eye shadow  Foundation  Lip Gloss  \\\n",
       "Trans.                                                                    \n",
       "1              1          1        1           0           0          0   \n",
       "2              1          1        0           0           1          1   \n",
       "3              1          1        1           1           1          1   \n",
       "4              1          0        0           0           1          0   \n",
       "5              1          1        1           1           0          1   \n",
       "\n",
       "         Lipstick  Eyeliner  \n",
       "Trans.                       \n",
       "1               0         1  \n",
       "2               0         0  \n",
       "3               1         0  \n",
       "4               0         1  \n",
       "5               1         0  "
      ]
     },
     "execution_count": 4,
     "metadata": {},
     "output_type": "execute_result"
    }
   ],
   "source": [
    "cos.head()"
   ]
  },
  {
   "cell_type": "code",
   "execution_count": 5,
   "metadata": {},
   "outputs": [
    {
     "data": {
      "text/plain": [
       "Index(['Bag', 'Blush', 'Nail Polish', 'Brushes', 'Concealer',\n",
       "       'Eyebrow Pencils', 'Bronzer', 'Lip liner', 'Mascara', 'Eye shadow',\n",
       "       'Foundation', 'Lip Gloss', 'Lipstick', 'Eyeliner'],\n",
       "      dtype='object')"
      ]
     },
     "execution_count": 5,
     "metadata": {},
     "output_type": "execute_result"
    }
   ],
   "source": [
    "cos.columns"
   ]
  },
  {
   "cell_type": "code",
   "execution_count": 6,
   "metadata": {},
   "outputs": [
    {
     "data": {
      "text/plain": [
       "1000"
      ]
     },
     "execution_count": 6,
     "metadata": {},
     "output_type": "execute_result"
    }
   ],
   "source": [
    "len(cos)"
   ]
  },
  {
   "cell_type": "code",
   "execution_count": 7,
   "metadata": {},
   "outputs": [
    {
     "name": "stdout",
     "output_type": "stream",
     "text": [
      "                  antecedents               consequents  support  confidence  \\\n",
      "6                   (Brushes)             (Nail Polish)    0.149    1.000000   \n",
      "7               (Nail Polish)                 (Brushes)    0.149    0.532143   \n",
      "130   (Eye shadow, Concealer)       (Mascara, Eyeliner)    0.114    0.567164   \n",
      "127       (Mascara, Eyeliner)   (Eye shadow, Concealer)    0.114    0.651429   \n",
      "119          (Mascara, Blush)   (Eye shadow, Concealer)    0.119    0.646739   \n",
      "120   (Eye shadow, Concealer)          (Mascara, Blush)    0.119    0.592040   \n",
      "121       (Blush, Eye shadow)      (Mascara, Concealer)    0.119    0.653846   \n",
      "118      (Mascara, Concealer)       (Blush, Eye shadow)    0.119    0.583333   \n",
      "129    (Eye shadow, Eyeliner)      (Mascara, Concealer)    0.114    0.626374   \n",
      "128      (Mascara, Concealer)    (Eye shadow, Eyeliner)    0.114    0.558824   \n",
      "137      (Lip Gloss, Mascara)  (Foundation, Eye shadow)    0.111    0.613260   \n",
      "136  (Foundation, Eye shadow)      (Lip Gloss, Mascara)    0.111    0.526066   \n",
      "\n",
      "         lift  leverage  \n",
      "6    3.571429  0.107280  \n",
      "7    3.571429  0.107280  \n",
      "130  3.240938  0.078825  \n",
      "127  3.240938  0.078825  \n",
      "119  3.217608  0.082016  \n",
      "120  3.217608  0.082016  \n",
      "121  3.205128  0.081872  \n",
      "118  3.205128  0.081872  \n",
      "129  3.070459  0.076872  \n",
      "128  3.070459  0.076872  \n",
      "137  2.906444  0.072809  \n",
      "136  2.906444  0.072809  \n"
     ]
    }
   ],
   "source": [
    "#create frequent itemsets\n",
    "itemsets = apriori(cos, min_support = 0.1, use_colnames = True)\n",
    "\n",
    "#and convert into rules\n",
    "rules = association_rules(itemsets, metric = 'confidence', min_threshold = 0.5)\n",
    "rules.sort_values(by = ['lift'], ascending = False).head(12)\n",
    "\n",
    "print(rules.sort_values(by = ['lift'], ascending = False)\n",
    "     .drop(columns = ['antecedent support', 'consequent support', 'conviction'])\n",
    "     .head(12))"
   ]
  },
  {
   "cell_type": "markdown",
   "metadata": {},
   "source": [
    "If Brushes are purchased, then with confidence 100% Nail Polish will also be purchased. This rule has a lift ratio of 3.57.\n",
    "If Nail Polish is purchased, then with confidence 53% Brushed will also be purchased. This rule has a lift ratio of 3.57.\n",
    "If Eyeliner and Mascara are purchased, then with confidence 65% Eye shadow and Concealer will also be purchased. This rule has a lift ratio of 0.08"
   ]
  },
  {
   "cell_type": "markdown",
   "metadata": {},
   "source": [
    "The redundant antecedents are rules 127&119; 122&129\n",
    "Do a resaerch on how to solve redundancy issues and how to access their utilities"
   ]
  }
 ],
 "metadata": {
  "kernelspec": {
   "display_name": "Python 3",
   "language": "python",
   "name": "python3"
  },
  "language_info": {
   "codemirror_mode": {
    "name": "ipython",
    "version": 3
   },
   "file_extension": ".py",
   "mimetype": "text/x-python",
   "name": "python",
   "nbconvert_exporter": "python",
   "pygments_lexer": "ipython3",
   "version": "3.7.6"
  }
 },
 "nbformat": 4,
 "nbformat_minor": 4
}
