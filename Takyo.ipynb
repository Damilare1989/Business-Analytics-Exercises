{
 "cells": [
  {
   "cell_type": "code",
   "execution_count": 129,
   "metadata": {},
   "outputs": [],
   "source": [
    "%matplotlib inline\n",
    "from pathlib import Path\n",
    "\n",
    "import pandas as pd\n",
    "import numpy as np\n",
    "from sklearn.model_selection import train_test_split\n",
    "from sklearn.linear_model import LinearRegression, Lasso, Ridge, LassoCV, BayesianRidge\n",
    "import statsmodels.formula.api as sm\n",
    "import matplotlib.pylab as plt\n",
    "import seaborn as sns\n",
    "\n",
    "from dmba import regressionSummary, exhaustive_search\n",
    "from dmba import backward_elimination, forward_selection, stepwise_selection\n",
    "from dmba import adjusted_r2_score, AIC_score, BIC_score"
   ]
  },
  {
   "cell_type": "code",
   "execution_count": 130,
   "metadata": {},
   "outputs": [],
   "source": [
    "tak = pd.read_csv('Tayko.csv')"
   ]
  },
  {
   "cell_type": "code",
   "execution_count": 131,
   "metadata": {},
   "outputs": [
    {
     "data": {
      "text/plain": [
       "Index(['sequence_number', 'US', 'source_a', 'source_c', 'source_b', 'source_d',\n",
       "       'source_e', 'source_m', 'source_o', 'source_h', 'source_r', 'source_s',\n",
       "       'source_t', 'source_u', 'source_p', 'source_x', 'source_w', 'Freq',\n",
       "       'last_update_days_ago', '1st_update_days_ago', 'Web order',\n",
       "       'Gender=male', 'Address_is_res', 'Purchase', 'Spending'],\n",
       "      dtype='object')"
      ]
     },
     "execution_count": 131,
     "metadata": {},
     "output_type": "execute_result"
    }
   ],
   "source": [
    "tak.columns"
   ]
  },
  {
   "cell_type": "code",
   "execution_count": 132,
   "metadata": {},
   "outputs": [
    {
     "data": {
      "text/plain": [
       "sequence_number         int64\n",
       "US                      int64\n",
       "source_a                int64\n",
       "source_c                int64\n",
       "source_b                int64\n",
       "source_d                int64\n",
       "source_e                int64\n",
       "source_m                int64\n",
       "source_o                int64\n",
       "source_h                int64\n",
       "source_r                int64\n",
       "source_s                int64\n",
       "source_t                int64\n",
       "source_u                int64\n",
       "source_p                int64\n",
       "source_x                int64\n",
       "source_w                int64\n",
       "Freq                    int64\n",
       "last_update_days_ago    int64\n",
       "1st_update_days_ago     int64\n",
       "Web order               int64\n",
       "Gender=male             int64\n",
       "Address_is_res          int64\n",
       "Purchase                int64\n",
       "Spending                int64\n",
       "dtype: object"
      ]
     },
     "execution_count": 132,
     "metadata": {},
     "output_type": "execute_result"
    }
   ],
   "source": [
    "tak.dtypes"
   ]
  },
  {
   "cell_type": "code",
   "execution_count": 133,
   "metadata": {},
   "outputs": [
    {
     "data": {
      "text/html": [
       "<div>\n",
       "<style scoped>\n",
       "    .dataframe tbody tr th:only-of-type {\n",
       "        vertical-align: middle;\n",
       "    }\n",
       "\n",
       "    .dataframe tbody tr th {\n",
       "        vertical-align: top;\n",
       "    }\n",
       "\n",
       "    .dataframe thead th {\n",
       "        text-align: right;\n",
       "    }\n",
       "</style>\n",
       "<table border=\"1\" class=\"dataframe\">\n",
       "  <thead>\n",
       "    <tr style=\"text-align: right;\">\n",
       "      <th></th>\n",
       "      <th>sequence_number</th>\n",
       "      <th>US</th>\n",
       "      <th>source_a</th>\n",
       "      <th>source_c</th>\n",
       "      <th>source_b</th>\n",
       "      <th>source_d</th>\n",
       "      <th>source_e</th>\n",
       "      <th>source_m</th>\n",
       "      <th>source_o</th>\n",
       "      <th>source_h</th>\n",
       "      <th>...</th>\n",
       "      <th>source_x</th>\n",
       "      <th>source_w</th>\n",
       "      <th>Freq</th>\n",
       "      <th>last_update_days_ago</th>\n",
       "      <th>1st_update_days_ago</th>\n",
       "      <th>Web order</th>\n",
       "      <th>Gender=male</th>\n",
       "      <th>Address_is_res</th>\n",
       "      <th>Purchase</th>\n",
       "      <th>Spending</th>\n",
       "    </tr>\n",
       "  </thead>\n",
       "  <tbody>\n",
       "    <tr>\n",
       "      <th>0</th>\n",
       "      <td>1</td>\n",
       "      <td>1</td>\n",
       "      <td>0</td>\n",
       "      <td>0</td>\n",
       "      <td>1</td>\n",
       "      <td>0</td>\n",
       "      <td>0</td>\n",
       "      <td>0</td>\n",
       "      <td>0</td>\n",
       "      <td>0</td>\n",
       "      <td>...</td>\n",
       "      <td>0</td>\n",
       "      <td>0</td>\n",
       "      <td>2</td>\n",
       "      <td>3662</td>\n",
       "      <td>3662</td>\n",
       "      <td>1</td>\n",
       "      <td>0</td>\n",
       "      <td>1</td>\n",
       "      <td>1</td>\n",
       "      <td>128</td>\n",
       "    </tr>\n",
       "    <tr>\n",
       "      <th>1</th>\n",
       "      <td>2</td>\n",
       "      <td>1</td>\n",
       "      <td>0</td>\n",
       "      <td>0</td>\n",
       "      <td>0</td>\n",
       "      <td>0</td>\n",
       "      <td>1</td>\n",
       "      <td>0</td>\n",
       "      <td>0</td>\n",
       "      <td>0</td>\n",
       "      <td>...</td>\n",
       "      <td>0</td>\n",
       "      <td>0</td>\n",
       "      <td>0</td>\n",
       "      <td>2900</td>\n",
       "      <td>2900</td>\n",
       "      <td>1</td>\n",
       "      <td>1</td>\n",
       "      <td>0</td>\n",
       "      <td>0</td>\n",
       "      <td>0</td>\n",
       "    </tr>\n",
       "    <tr>\n",
       "      <th>2</th>\n",
       "      <td>3</td>\n",
       "      <td>1</td>\n",
       "      <td>0</td>\n",
       "      <td>0</td>\n",
       "      <td>0</td>\n",
       "      <td>0</td>\n",
       "      <td>0</td>\n",
       "      <td>0</td>\n",
       "      <td>0</td>\n",
       "      <td>0</td>\n",
       "      <td>...</td>\n",
       "      <td>0</td>\n",
       "      <td>0</td>\n",
       "      <td>2</td>\n",
       "      <td>3883</td>\n",
       "      <td>3914</td>\n",
       "      <td>0</td>\n",
       "      <td>0</td>\n",
       "      <td>0</td>\n",
       "      <td>1</td>\n",
       "      <td>127</td>\n",
       "    </tr>\n",
       "    <tr>\n",
       "      <th>3</th>\n",
       "      <td>4</td>\n",
       "      <td>1</td>\n",
       "      <td>0</td>\n",
       "      <td>1</td>\n",
       "      <td>0</td>\n",
       "      <td>0</td>\n",
       "      <td>0</td>\n",
       "      <td>0</td>\n",
       "      <td>0</td>\n",
       "      <td>0</td>\n",
       "      <td>...</td>\n",
       "      <td>0</td>\n",
       "      <td>0</td>\n",
       "      <td>1</td>\n",
       "      <td>829</td>\n",
       "      <td>829</td>\n",
       "      <td>0</td>\n",
       "      <td>1</td>\n",
       "      <td>0</td>\n",
       "      <td>0</td>\n",
       "      <td>0</td>\n",
       "    </tr>\n",
       "    <tr>\n",
       "      <th>4</th>\n",
       "      <td>5</td>\n",
       "      <td>1</td>\n",
       "      <td>0</td>\n",
       "      <td>1</td>\n",
       "      <td>0</td>\n",
       "      <td>0</td>\n",
       "      <td>0</td>\n",
       "      <td>0</td>\n",
       "      <td>0</td>\n",
       "      <td>0</td>\n",
       "      <td>...</td>\n",
       "      <td>0</td>\n",
       "      <td>0</td>\n",
       "      <td>1</td>\n",
       "      <td>869</td>\n",
       "      <td>869</td>\n",
       "      <td>0</td>\n",
       "      <td>0</td>\n",
       "      <td>0</td>\n",
       "      <td>0</td>\n",
       "      <td>0</td>\n",
       "    </tr>\n",
       "  </tbody>\n",
       "</table>\n",
       "<p>5 rows × 25 columns</p>\n",
       "</div>"
      ],
      "text/plain": [
       "   sequence_number  US  source_a  source_c  source_b  source_d  source_e  \\\n",
       "0                1   1         0         0         1         0         0   \n",
       "1                2   1         0         0         0         0         1   \n",
       "2                3   1         0         0         0         0         0   \n",
       "3                4   1         0         1         0         0         0   \n",
       "4                5   1         0         1         0         0         0   \n",
       "\n",
       "   source_m  source_o  source_h  ...  source_x  source_w  Freq  \\\n",
       "0         0         0         0  ...         0         0     2   \n",
       "1         0         0         0  ...         0         0     0   \n",
       "2         0         0         0  ...         0         0     2   \n",
       "3         0         0         0  ...         0         0     1   \n",
       "4         0         0         0  ...         0         0     1   \n",
       "\n",
       "   last_update_days_ago  1st_update_days_ago  Web order  Gender=male  \\\n",
       "0                  3662                 3662          1            0   \n",
       "1                  2900                 2900          1            1   \n",
       "2                  3883                 3914          0            0   \n",
       "3                   829                  829          0            1   \n",
       "4                   869                  869          0            0   \n",
       "\n",
       "   Address_is_res  Purchase  Spending  \n",
       "0               1         1       128  \n",
       "1               0         0         0  \n",
       "2               0         1       127  \n",
       "3               0         0         0  \n",
       "4               0         0         0  \n",
       "\n",
       "[5 rows x 25 columns]"
      ]
     },
     "execution_count": 133,
     "metadata": {},
     "output_type": "execute_result"
    }
   ],
   "source": [
    "tak.head()"
   ]
  },
  {
   "cell_type": "code",
   "execution_count": 134,
   "metadata": {},
   "outputs": [
    {
     "data": {
      "text/plain": [
       "(2000, 25)"
      ]
     },
     "execution_count": 134,
     "metadata": {},
     "output_type": "execute_result"
    }
   ],
   "source": [
    "tak.shape"
   ]
  },
  {
   "cell_type": "code",
   "execution_count": 135,
   "metadata": {},
   "outputs": [
    {
     "data": {
      "text/plain": [
       "0       999\n",
       "130      39\n",
       "161      31\n",
       "128      22\n",
       "98       19\n",
       "       ... \n",
       "375       1\n",
       "377       1\n",
       "166       1\n",
       "378       1\n",
       "1500      1\n",
       "Name: Spending, Length: 363, dtype: int64"
      ]
     },
     "execution_count": 135,
     "metadata": {},
     "output_type": "execute_result"
    }
   ],
   "source": [
    "tak['Spending'].value_counts()"
   ]
  },
  {
   "cell_type": "code",
   "execution_count": 136,
   "metadata": {},
   "outputs": [
    {
     "data": {
      "text/plain": [
       "                US  Web order  Gender=male  Address_is_res\n",
       "Spending  mean  0   0          0            0                  88.794872\n",
       "                                            1                  90.720000\n",
       "                               1            0                  97.375000\n",
       "                                            1                  34.350000\n",
       "                    1          0            0                 145.033333\n",
       "                                            1                 147.857143\n",
       "                               1            0                  90.612903\n",
       "                                            1                 122.166667\n",
       "                1   0          0            0                  83.226866\n",
       "                                            1                  89.200000\n",
       "                               1            0                  82.638961\n",
       "                                            1                  70.316667\n",
       "                    1          0            0                 139.133065\n",
       "                                            1                 120.488372\n",
       "                               1            0                 131.706452\n",
       "                                            1                 108.766667\n",
       "          std   0   0          0            0                 128.541909\n",
       "                                            1                 124.186862\n",
       "                               1            0                 247.698999\n",
       "                                            1                  65.728529\n",
       "                    1          0            0                 207.982477\n",
       "                                            1                 135.462659\n",
       "                               1            0                 113.034792\n",
       "                                            1                 163.709184\n",
       "                1   0          0            0                 180.829234\n",
       "                                            1                 137.592235\n",
       "                               1            0                 185.693750\n",
       "                                            1                 119.516321\n",
       "                    1          0            0                 244.576612\n",
       "                                            1                 147.957764\n",
       "                               1            0                 201.918727\n",
       "                                            1                 125.435832\n",
       "dtype: float64"
      ]
     },
     "execution_count": 136,
     "metadata": {},
     "output_type": "execute_result"
    }
   ],
   "source": [
    "pd.pivot_table(tak, values = ['Spending'], columns = ['US', 'Web order', 'Gender=male', 'Address_is_res'], aggfunc = {'Spending':[np.mean, np.std]})"
   ]
  },
  {
   "cell_type": "code",
   "execution_count": 137,
   "metadata": {},
   "outputs": [
    {
     "data": {
      "text/plain": [
       "<matplotlib.axes._subplots.AxesSubplot at 0x28a5fb31ac8>"
      ]
     },
     "execution_count": 137,
     "metadata": {},
     "output_type": "execute_result"
    },
    {
     "data": {
      "image/png": "[encoded data removed]",
      "text/plain": [
       "<Figure size 432x288 with 1 Axes>"
      ]
     },
     "metadata": {
      "needs_background": "light"
     },
     "output_type": "display_data"
    }
   ],
   "source": [
    "sns.scatterplot(x= 'Freq', y = 'Spending', data = tak)"
   ]
  },
  {
   "cell_type": "markdown",
   "metadata": {},
   "source": [
    "From the chart above, there is no linear relationship between spending and frequency."
   ]
  },
  {
   "cell_type": "code",
   "execution_count": 138,
   "metadata": {
    "scrolled": true
   },
   "outputs": [
    {
     "data": {
      "text/plain": [
       "<matplotlib.axes._subplots.AxesSubplot at 0x28a61262548>"
      ]
     },
     "execution_count": 138,
     "metadata": {},
     "output_type": "execute_result"
    },
    {
     "data": {
      "image/png": "[encoded data removed]",
      "text/plain": [
       "<Figure size 432x288 with 1 Axes>"
      ]
     },
     "metadata": {
      "needs_background": "light"
     },
     "output_type": "display_data"
    }
   ],
   "source": [
    "sns.scatterplot(y='Spending', x='last_update_days_ago', data = tak)"
   ]
  },
  {
   "cell_type": "markdown",
   "metadata": {},
   "source": [
    "From the chart above, there is no linear relationship between last_update_days_ago and spending"
   ]
  },
  {
   "cell_type": "code",
   "execution_count": 139,
   "metadata": {},
   "outputs": [],
   "source": [
    "predictors = ['US', 'Freq', 'last_update_days_ago', 'Web order', 'Gender=male', 'Address_is_res']         \n",
    "outcome = 'Spending'         "
   ]
  },
  {
   "cell_type": "code",
   "execution_count": 140,
   "metadata": {},
   "outputs": [
    {
     "name": "stdout",
     "output_type": "stream",
     "text": [
      "intercept 10.176297414620265\n",
      "              Predictor  coefficient\n",
      "0                    US    -4.620293\n",
      "1                  Freq    91.274450\n",
      "2  last_update_days_ago    -0.010374\n",
      "3             Web order    18.628731\n",
      "4           Gender=male    -9.111366\n",
      "5        Address_is_res   -75.815354\n"
     ]
    }
   ],
   "source": [
    "#parition data\n",
    "X = tak[predictors]\n",
    "y = tak[outcome]\n",
    "train_X, valid_X, train_y, valid_y = train_test_split(X, y, test_size = 0.4, random_state=1)\n",
    "\n",
    "tak_lm = LinearRegression()\n",
    "tak_lm.fit(train_X, train_y)\n",
    "\n",
    "#print coefficients\n",
    "print('intercept', tak_lm.intercept_)\n",
    "print(pd.DataFrame({'Predictor': X.columns, 'coefficient': tak_lm.coef_}))"
   ]
  },
  {
   "cell_type": "markdown",
   "metadata": {},
   "source": [
    "#predictive equation\n",
    "Spending = -4.6*US + 91.3*Freq - 0.01*last_update_days_ago + 18.63*Web order - 9.11*Gender=male - 75.82*Address_is_res + 10.18"
   ]
  },
  {
   "cell_type": "markdown",
   "metadata": {},
   "source": [
    "Based on this model, the type of purchaser that is likely to spend a large amount of money is the purchaser with a high number of transactions in the preceding year."
   ]
  },
  {
   "cell_type": "code",
   "execution_count": 141,
   "metadata": {},
   "outputs": [
    {
     "name": "stdout",
     "output_type": "stream",
     "text": [
      "Variables: US, Freq, last_update_days_ago, Web order, Gender=male, Address_is_res\n",
      "Start: score=15028.53\n",
      "Step: score=15026.76, remove US\n",
      "Step: score=15026.38, remove Gender=male\n",
      "Step: score=15026.38, remove None\n",
      "['Freq', 'last_update_days_ago', 'Web order', 'Address_is_res']\n"
     ]
    }
   ],
   "source": [
    "def train_model(variables):\n",
    "    model = LinearRegression()\n",
    "    model.fit(train_X[variables], train_y)\n",
    "    return model\n",
    "\n",
    "def score_model(model, variables):\n",
    "    return AIC_score(train_y, model.predict(train_X[variables]), model)\n",
    "\n",
    "best_model, best_variables = backward_elimination(train_X.columns, train_model, score_model, verbose = True)\n",
    "\n",
    "print(best_variables)"
   ]
  },
  {
   "cell_type": "markdown",
   "metadata": {},
   "source": [
    "Using backward elimination to reduce the number of predictors, the predictor to be dropped first from the model is US"
   ]
  },
  {
   "cell_type": "code",
   "execution_count": 142,
   "metadata": {},
   "outputs": [
    {
     "data": {
      "text/html": [
       "<div>\n",
       "<style scoped>\n",
       "    .dataframe tbody tr th:only-of-type {\n",
       "        vertical-align: middle;\n",
       "    }\n",
       "\n",
       "    .dataframe tbody tr th {\n",
       "        vertical-align: top;\n",
       "    }\n",
       "\n",
       "    .dataframe thead th {\n",
       "        text-align: right;\n",
       "    }\n",
       "</style>\n",
       "<table border=\"1\" class=\"dataframe\">\n",
       "  <thead>\n",
       "    <tr style=\"text-align: right;\">\n",
       "      <th></th>\n",
       "      <th>US</th>\n",
       "      <th>Freq</th>\n",
       "      <th>last_update_days_ago</th>\n",
       "      <th>Web order</th>\n",
       "      <th>Gender=male</th>\n",
       "      <th>Address_is_res</th>\n",
       "    </tr>\n",
       "  </thead>\n",
       "  <tbody>\n",
       "    <tr>\n",
       "      <th>674</th>\n",
       "      <td>1</td>\n",
       "      <td>2</td>\n",
       "      <td>1346</td>\n",
       "      <td>0</td>\n",
       "      <td>1</td>\n",
       "      <td>1</td>\n",
       "    </tr>\n",
       "  </tbody>\n",
       "</table>\n",
       "</div>"
      ],
      "text/plain": [
       "     US  Freq  last_update_days_ago  Web order  Gender=male  Address_is_res\n",
       "674   1     2                  1346          0            1               1"
      ]
     },
     "execution_count": 142,
     "metadata": {},
     "output_type": "execute_result"
    }
   ],
   "source": [
    "valid_X[:1]"
   ]
  },
  {
   "cell_type": "code",
   "execution_count": 147,
   "metadata": {},
   "outputs": [
    {
     "name": "stdout",
     "output_type": "stream",
     "text": [
      "   Predicted  Actual    Residual\n",
      "0  89.214915     267  177.785085\n"
     ]
    }
   ],
   "source": [
    "#Use predict() to make predictions on the first purchase in the validation set\n",
    "tak_valid_pred = tak_lm.predict(valid_X[:1])\n",
    "\n",
    "result = pd.DataFrame({'Predicted': tak_valid_pred, 'Actual': valid_y.iloc[674], 'Residual': valid_y.iloc[674] - tak_valid_pred})\n",
    "\n",
    "print(result)"
   ]
  },
  {
   "cell_type": "code",
   "execution_count": 154,
   "metadata": {},
   "outputs": [
    {
     "name": "stdout",
     "output_type": "stream",
     "text": [
      "       Predicted  Actual    Residual\n",
      "1672   86.761305       0  -86.761305\n",
      "757  -112.577568       0  112.577568\n",
      "986   205.664027     129  -76.664027\n",
      "1459  -18.901743       0   18.901743\n",
      "1631   53.384563     127   73.615437\n",
      "899    92.163025       0  -92.163025\n",
      "1848  815.673925    1176  360.326075\n",
      "683    86.766675       0  -86.766675\n",
      "774    76.176020     103   26.823980\n",
      "11     99.062828       0  -99.062828\n",
      "943   -22.889228       0   22.889228\n",
      "1781   70.910578      10  -60.910578\n",
      "1992  153.411502     133  -20.411502\n",
      "135   368.542027     420   51.457973\n",
      "1438   -5.671637       0    5.671637\n",
      "718   -30.825262       0   30.825262\n",
      "1250   64.644151       0  -64.644151\n",
      "366    56.483276       0  -56.483276\n",
      "1579  191.108854      98  -93.108854\n",
      "1395  -15.378525       0   15.378525\n"
     ]
    }
   ],
   "source": [
    "#Performance on the model on the whole validation set\n",
    "tak_whole_valid_pred = tak_lm.predict(valid_X)\n",
    "result = pd.DataFrame({'Predicted': tak_whole_valid_pred, 'Actual': valid_y, 'Residual': valid_y - tak_whole_valid_pred})\n",
    "print(result.sample(20))"
   ]
  },
  {
   "cell_type": "code",
   "execution_count": 160,
   "metadata": {},
   "outputs": [
    {
     "name": "stdout",
     "output_type": "stream",
     "text": [
      "0.775\n"
     ]
    },
    {
     "data": {
      "image/png": "[encoded data removed]",
      "text/plain": [
       "<Figure size 432x288 with 1 Axes>"
      ]
     },
     "metadata": {
      "needs_background": "light"
     },
     "output_type": "display_data"
    }
   ],
   "source": [
    "all_residuals = valid_y - tak_whole_valid_pred\n",
    "#Determine the percentage of datapoints with residual in [-100, 100] = approx. 78%\n",
    "\n",
    "print(len(all_residuals[(all_residuals > - 100) & (all_residuals < 100)]) / len(all_residuals))\n",
    "\n",
    "ax = pd.DataFrame({'Residuals': all_residuals}).hist(bins=30)\n",
    "plt.tight_layout()\n",
    "plt.show()"
   ]
  },
  {
   "cell_type": "markdown",
   "metadata": {},
   "source": [
    "The model residuals does appear to follow a normal distribution.\n",
    "When the residuls are more tightly organized toward the middle part of the distribution, it means that your spread of residuals is less. When your distribution is large, it is more widely spread from the middle of the distribution out to the tails; but with a tightly organized normal distribution, the spread of the residual is not wide and that is good because overall, the residuals are smaller and that means the lower the residuals or the erros in prediction, the better fit of a model."
   ]
  }
 ],
 "metadata": {
  "kernelspec": {
   "display_name": "Python 3",
   "language": "python",
   "name": "python3"
  },
  "language_info": {
   "codemirror_mode": {
    "name": "ipython",
    "version": 3
   },
   "file_extension": ".py",
   "mimetype": "text/x-python",
   "name": "python",
   "nbconvert_exporter": "python",
   "pygments_lexer": "ipython3",
   "version": "3.7.5"
  }
 },
 "nbformat": 4,
 "nbformat_minor": 2
}
