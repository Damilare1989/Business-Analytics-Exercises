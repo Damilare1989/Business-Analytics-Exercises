{
 "cells": [
  {
   "cell_type": "code",
   "execution_count": 101,
   "metadata": {},
   "outputs": [],
   "source": [
    "%matplotlib inline\n",
    "\n",
    "from pathlib import Path\n",
    "\n",
    "import pandas as pd\n",
    "from sklearn.model_selection import train_test_split\n",
    "from sklearn.tree import DecisionTreeClassifier\n",
    "from sklearn.ensemble import AdaBoostClassifier\n",
    "from sklearn.ensemble import BaggingClassifier\n",
    "from sklearn.ensemble import RandomForestClassifier\n",
    "from sklearn.neighbors import KNeighborsClassifier\n",
    "from dmba import classificationSummary"
   ]
  },
  {
   "cell_type": "code",
   "execution_count": 102,
   "metadata": {},
   "outputs": [],
   "source": [
    "hcp = pd.read_csv('Hair-Care-Product.csv')"
   ]
  },
  {
   "cell_type": "code",
   "execution_count": 103,
   "metadata": {},
   "outputs": [
    {
     "data": {
      "text/html": [
       "<div>\n",
       "<style scoped>\n",
       "    .dataframe tbody tr th:only-of-type {\n",
       "        vertical-align: middle;\n",
       "    }\n",
       "\n",
       "    .dataframe tbody tr th {\n",
       "        vertical-align: top;\n",
       "    }\n",
       "\n",
       "    .dataframe thead th {\n",
       "        text-align: right;\n",
       "    }\n",
       "</style>\n",
       "<table border=\"1\" class=\"dataframe\">\n",
       "  <thead>\n",
       "    <tr style=\"text-align: right;\">\n",
       "      <th></th>\n",
       "      <th>Purchase</th>\n",
       "      <th>Age</th>\n",
       "      <th>Hair Color</th>\n",
       "      <th>U.S. Region</th>\n",
       "      <th>Validation</th>\n",
       "      <th>Promotion_ord</th>\n",
       "      <th>Gender_ord</th>\n",
       "      <th>Residence_ord</th>\n",
       "    </tr>\n",
       "  </thead>\n",
       "  <tbody>\n",
       "    <tr>\n",
       "      <th>0</th>\n",
       "      <td>0</td>\n",
       "      <td>25</td>\n",
       "      <td>Black</td>\n",
       "      <td>Southwest</td>\n",
       "      <td>1</td>\n",
       "      <td>1</td>\n",
       "      <td>0</td>\n",
       "      <td>1</td>\n",
       "    </tr>\n",
       "    <tr>\n",
       "      <th>1</th>\n",
       "      <td>0</td>\n",
       "      <td>30</td>\n",
       "      <td>Black</td>\n",
       "      <td>Northwest</td>\n",
       "      <td>1</td>\n",
       "      <td>0</td>\n",
       "      <td>0</td>\n",
       "      <td>1</td>\n",
       "    </tr>\n",
       "    <tr>\n",
       "      <th>2</th>\n",
       "      <td>0</td>\n",
       "      <td>45</td>\n",
       "      <td>Red</td>\n",
       "      <td>Northeast</td>\n",
       "      <td>1</td>\n",
       "      <td>0</td>\n",
       "      <td>0</td>\n",
       "      <td>0</td>\n",
       "    </tr>\n",
       "    <tr>\n",
       "      <th>3</th>\n",
       "      <td>0</td>\n",
       "      <td>35</td>\n",
       "      <td>Blond</td>\n",
       "      <td>Southwest</td>\n",
       "      <td>0</td>\n",
       "      <td>0</td>\n",
       "      <td>0</td>\n",
       "      <td>1</td>\n",
       "    </tr>\n",
       "    <tr>\n",
       "      <th>4</th>\n",
       "      <td>0</td>\n",
       "      <td>33</td>\n",
       "      <td>Brown</td>\n",
       "      <td>Southwest</td>\n",
       "      <td>0</td>\n",
       "      <td>1</td>\n",
       "      <td>0</td>\n",
       "      <td>1</td>\n",
       "    </tr>\n",
       "  </tbody>\n",
       "</table>\n",
       "</div>"
      ],
      "text/plain": [
       "   Purchase  Age Hair Color U.S. Region  Validation  Promotion_ord  \\\n",
       "0         0   25      Black   Southwest           1              1   \n",
       "1         0   30      Black   Northwest           1              0   \n",
       "2         0   45        Red   Northeast           1              0   \n",
       "3         0   35      Blond   Southwest           0              0   \n",
       "4         0   33      Brown   Southwest           0              1   \n",
       "\n",
       "   Gender_ord  Residence_ord  \n",
       "0           0              1  \n",
       "1           0              1  \n",
       "2           0              0  \n",
       "3           0              1  \n",
       "4           0              1  "
      ]
     },
     "execution_count": 103,
     "metadata": {},
     "output_type": "execute_result"
    }
   ],
   "source": [
    "hcp.head()"
   ]
  },
  {
   "cell_type": "code",
   "execution_count": 104,
   "metadata": {},
   "outputs": [
    {
     "data": {
      "text/plain": [
       "10000"
      ]
     },
     "execution_count": 104,
     "metadata": {},
     "output_type": "execute_result"
    }
   ],
   "source": [
    "len(hcp)"
   ]
  },
  {
   "cell_type": "code",
   "execution_count": 105,
   "metadata": {},
   "outputs": [
    {
     "data": {
      "text/plain": [
       "array(['Black', 'Red', 'Blond', 'Brown'], dtype=object)"
      ]
     },
     "execution_count": 105,
     "metadata": {},
     "output_type": "execute_result"
    }
   ],
   "source": [
    "hcp['Hair Color'].unique()"
   ]
  },
  {
   "cell_type": "code",
   "execution_count": 106,
   "metadata": {},
   "outputs": [
    {
     "data": {
      "text/plain": [
       "array(['Southwest', 'Northwest', 'Northeast', 'Southeast'], dtype=object)"
      ]
     },
     "execution_count": 106,
     "metadata": {},
     "output_type": "execute_result"
    }
   ],
   "source": [
    "hcp['U.S. Region'].unique()"
   ]
  },
  {
   "cell_type": "code",
   "execution_count": 107,
   "metadata": {},
   "outputs": [],
   "source": [
    "hcp = pd.get_dummies(hcp, drop_first = True)"
   ]
  },
  {
   "cell_type": "code",
   "execution_count": 118,
   "metadata": {},
   "outputs": [],
   "source": [
    "#treatment = hcp[hcp['Promotion_ord'] == 1]"
   ]
  },
  {
   "cell_type": "code",
   "execution_count": 117,
   "metadata": {},
   "outputs": [],
   "source": [
    "#notreatment = hcp[hcp['Promotion_ord'] == 0]"
   ]
  },
  {
   "cell_type": "markdown",
   "metadata": {},
   "source": [
    "To understand propensity modelling, read this: https://datascience.foundation/sciencewhitepaper/propensity-modelling-for-business"
   ]
  },
  {
   "cell_type": "code",
   "execution_count": 110,
   "metadata": {},
   "outputs": [
    {
     "name": "stdout",
     "output_type": "stream",
     "text": [
      "Confusion Matrix (Accuracy 0.9835)\n",
      "\n",
      "       Prediction\n",
      "Actual    0    1\n",
      "     0 3934   21\n",
      "     1   45    0\n"
     ]
    }
   ],
   "source": [
    "#Partition the data\n",
    "X = hcp.drop(columns = ['Purchase'])\n",
    "y = hcp['Purchase']\n",
    "\n",
    "\n",
    "classes = list(hcp.Purchase.unique())\n",
    "\n",
    "X_train, X_valid, y_train, y_valid = train_test_split(X, y, test_size=0.40, random_state=3)\n",
    "\n",
    "\n",
    "# Train a random forest classifier using the training set\n",
    "rfModel = RandomForestClassifier(n_estimators=100, random_state=1)\n",
    "rfModel.fit(X_train, y_train)\n",
    "\n",
    "classificationSummary(y_valid, rfModel.predict(X_valid), class_names=classes)"
   ]
  },
  {
   "cell_type": "code",
   "execution_count": 111,
   "metadata": {},
   "outputs": [
    {
     "name": "stdout",
     "output_type": "stream",
     "text": [
      "      probPromotion  probNoPromotion  uplift\n",
      "5876           0.00              0.0    0.00\n",
      "6555           0.01              0.0    0.01\n",
      "1448           0.00              0.0    0.00\n"
     ]
    }
   ],
   "source": [
    "uplift_df = X_valid.copy()  # Need to create a copy to allow modifying data\n",
    "\n",
    "uplift_df.Promotion_ord = 1\n",
    "predTreatment = rfModel.predict_proba(uplift_df)\n",
    "uplift_df.Promotion_ord = 0\n",
    "predControl = rfModel.predict_proba(uplift_df)\n",
    "\n",
    "upliftResult_df = pd.DataFrame({\n",
    "    'probPromotion': predTreatment[:,1],\n",
    "    'probNoPromotion': predControl[:,1],\n",
    "    'uplift': predTreatment[:,1] - predControl[:,1],\n",
    "    }, index=uplift_df.index)\n",
    "print(upliftResult_df.head(3))"
   ]
  },
  {
   "cell_type": "markdown",
   "metadata": {},
   "source": [
    "Promotion only has a slight effect on member 6555 but generally, there isn't a need to waste money on sales promotion as it does not change the purchase behaviour of these three members."
   ]
  },
  {
   "cell_type": "code",
   "execution_count": 112,
   "metadata": {},
   "outputs": [
    {
     "name": "stdout",
     "output_type": "stream",
     "text": [
      "Confusion Matrix (Accuracy 0.9872)\n",
      "\n",
      "       Prediction\n",
      "Actual    0    1\n",
      "     0 3949    6\n",
      "     1   45    0\n"
     ]
    }
   ],
   "source": [
    "#Partition the data\n",
    "X = hcp.drop(columns = ['Purchase'])\n",
    "y = hcp['Purchase']\n",
    "\n",
    "\n",
    "classes = list(hcp.Purchase.unique())\n",
    "\n",
    "X_train, X_valid, y_train, y_valid = train_test_split(X, y, test_size=0.40, random_state=3)\n",
    "\n",
    "\n",
    "# Train a random forest classifier using the training set\n",
    "knn = KNeighborsClassifier(n_neighbors=3)\n",
    "knn.fit(X_train, y_train)\n",
    "\n",
    "classificationSummary(y_valid, knn.predict(X_valid), class_names=classes)"
   ]
  },
  {
   "cell_type": "code",
   "execution_count": 113,
   "metadata": {},
   "outputs": [
    {
     "name": "stdout",
     "output_type": "stream",
     "text": [
      "      probPromotion  probNoPromotion  uplift\n",
      "5876            0.0              0.0     0.0\n",
      "6555            0.0              0.0     0.0\n",
      "1448            0.0              0.0     0.0\n"
     ]
    }
   ],
   "source": [
    "uplift_df = X_valid.copy()  # Need to create a copy to allow modifying data\n",
    "\n",
    "uplift_df.Promotion_ord = 1\n",
    "predTreatment = knn.predict_proba(uplift_df)\n",
    "uplift_df.Promotion_ord = 0\n",
    "predControl = knn.predict_proba(uplift_df)\n",
    "\n",
    "upliftResult_df = pd.DataFrame({\n",
    "    'probPromotion': predTreatment[:,1],\n",
    "    'probNoPromotion': predControl[:,1],\n",
    "    'uplift': predTreatment[:,1] - predControl[:,1],\n",
    "    }, index=uplift_df.index)\n",
    "print(upliftResult_df.head(3))"
   ]
  },
  {
   "cell_type": "markdown",
   "metadata": {},
   "source": [
    "Promotion has no effect on the first three members so there isn't a need to waste money on sales promotion on them as it does not change their purchase behaviour"
   ]
  }
 ],
 "metadata": {
  "kernelspec": {
   "display_name": "Python 3",
   "language": "python",
   "name": "python3"
  },
  "language_info": {
   "codemirror_mode": {
    "name": "ipython",
    "version": 3
   },
   "file_extension": ".py",
   "mimetype": "text/x-python",
   "name": "python",
   "nbconvert_exporter": "python",
   "pygments_lexer": "ipython3",
   "version": "3.7.6"
  }
 },
 "nbformat": 4,
 "nbformat_minor": 4
}
