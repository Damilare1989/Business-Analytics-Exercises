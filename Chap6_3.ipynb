{
 "cells": [
  {
   "cell_type": "code",
   "execution_count": 42,
   "metadata": {},
   "outputs": [],
   "source": [
    "%matplotlib inline\n",
    "import pandas as pd\n",
    "from sklearn.model_selection import train_test_split\n",
    "from sklearn.linear_model import LinearRegression\n",
    "import matplotlib.pylab as plt\n",
    "import seaborn as sns\n",
    "import numpy as np\n",
    "\n",
    "from dmba import regressionSummary, exhaustive_search, liftChart, gainsChart\n",
    "from dmba import backward_elimination, forward_selection, stepwise_selection\n",
    "from dmba import adjusted_r2_score, AIC_score, BIC_score"
   ]
  },
  {
   "cell_type": "code",
   "execution_count": 43,
   "metadata": {},
   "outputs": [],
   "source": [
    "airfares = pd.read_csv('Airfares.csv')"
   ]
  },
  {
   "cell_type": "code",
   "execution_count": 44,
   "metadata": {},
   "outputs": [
    {
     "data": {
      "text/html": [
       "<div>\n",
       "<style scoped>\n",
       "    .dataframe tbody tr th:only-of-type {\n",
       "        vertical-align: middle;\n",
       "    }\n",
       "\n",
       "    .dataframe tbody tr th {\n",
       "        vertical-align: top;\n",
       "    }\n",
       "\n",
       "    .dataframe thead th {\n",
       "        text-align: right;\n",
       "    }\n",
       "</style>\n",
       "<table border=\"1\" class=\"dataframe\">\n",
       "  <thead>\n",
       "    <tr style=\"text-align: right;\">\n",
       "      <th></th>\n",
       "      <th>S_CODE</th>\n",
       "      <th>S_CITY</th>\n",
       "      <th>E_CODE</th>\n",
       "      <th>E_CITY</th>\n",
       "      <th>COUPON</th>\n",
       "      <th>NEW</th>\n",
       "      <th>VACATION</th>\n",
       "      <th>SW</th>\n",
       "      <th>HI</th>\n",
       "      <th>S_INCOME</th>\n",
       "      <th>E_INCOME</th>\n",
       "      <th>S_POP</th>\n",
       "      <th>E_POP</th>\n",
       "      <th>SLOT</th>\n",
       "      <th>GATE</th>\n",
       "      <th>DISTANCE</th>\n",
       "      <th>PAX</th>\n",
       "      <th>FARE</th>\n",
       "    </tr>\n",
       "  </thead>\n",
       "  <tbody>\n",
       "    <tr>\n",
       "      <th>320</th>\n",
       "      <td>JFK</td>\n",
       "      <td>New York/Newark     NY</td>\n",
       "      <td>*</td>\n",
       "      <td>Orlando             FL</td>\n",
       "      <td>1.08</td>\n",
       "      <td>3</td>\n",
       "      <td>Yes</td>\n",
       "      <td>No</td>\n",
       "      <td>2386.85</td>\n",
       "      <td>32991.0</td>\n",
       "      <td>22360.0</td>\n",
       "      <td>8621121</td>\n",
       "      <td>1421287</td>\n",
       "      <td>Controlled</td>\n",
       "      <td>Free</td>\n",
       "      <td>947</td>\n",
       "      <td>54990</td>\n",
       "      <td>123.97</td>\n",
       "    </tr>\n",
       "    <tr>\n",
       "      <th>546</th>\n",
       "      <td>LGA</td>\n",
       "      <td>New York/Newark     NY</td>\n",
       "      <td>*</td>\n",
       "      <td>Syracuse            NY</td>\n",
       "      <td>1.00</td>\n",
       "      <td>3</td>\n",
       "      <td>No</td>\n",
       "      <td>No</td>\n",
       "      <td>2806.92</td>\n",
       "      <td>32991.0</td>\n",
       "      <td>22069.0</td>\n",
       "      <td>8621121</td>\n",
       "      <td>743633</td>\n",
       "      <td>Controlled</td>\n",
       "      <td>Free</td>\n",
       "      <td>199</td>\n",
       "      <td>5275</td>\n",
       "      <td>120.84</td>\n",
       "    </tr>\n",
       "    <tr>\n",
       "      <th>606</th>\n",
       "      <td>*</td>\n",
       "      <td>New Orleans         LA</td>\n",
       "      <td>DCA</td>\n",
       "      <td>Washington          DC</td>\n",
       "      <td>1.46</td>\n",
       "      <td>3</td>\n",
       "      <td>No</td>\n",
       "      <td>No</td>\n",
       "      <td>2946.23</td>\n",
       "      <td>22038.0</td>\n",
       "      <td>31981.0</td>\n",
       "      <td>1308499</td>\n",
       "      <td>4549784</td>\n",
       "      <td>Controlled</td>\n",
       "      <td>Free</td>\n",
       "      <td>956</td>\n",
       "      <td>6208</td>\n",
       "      <td>164.30</td>\n",
       "    </tr>\n",
       "    <tr>\n",
       "      <th>151</th>\n",
       "      <td>*</td>\n",
       "      <td>Cleveland           OH</td>\n",
       "      <td>*</td>\n",
       "      <td>Las Vegas           NV</td>\n",
       "      <td>1.36</td>\n",
       "      <td>0</td>\n",
       "      <td>Yes</td>\n",
       "      <td>Yes</td>\n",
       "      <td>4070.45</td>\n",
       "      <td>26046.0</td>\n",
       "      <td>24575.0</td>\n",
       "      <td>2230955</td>\n",
       "      <td>1197234</td>\n",
       "      <td>Free</td>\n",
       "      <td>Free</td>\n",
       "      <td>1831</td>\n",
       "      <td>4543</td>\n",
       "      <td>159.12</td>\n",
       "    </tr>\n",
       "    <tr>\n",
       "      <th>211</th>\n",
       "      <td>*</td>\n",
       "      <td>Atlanta             GA</td>\n",
       "      <td>*</td>\n",
       "      <td>New Orleans         LA</td>\n",
       "      <td>1.02</td>\n",
       "      <td>3</td>\n",
       "      <td>No</td>\n",
       "      <td>No</td>\n",
       "      <td>6269.75</td>\n",
       "      <td>26993.0</td>\n",
       "      <td>22038.0</td>\n",
       "      <td>3532657</td>\n",
       "      <td>1308499</td>\n",
       "      <td>Free</td>\n",
       "      <td>Free</td>\n",
       "      <td>419</td>\n",
       "      <td>7796</td>\n",
       "      <td>120.70</td>\n",
       "    </tr>\n",
       "    <tr>\n",
       "      <th>256</th>\n",
       "      <td>*</td>\n",
       "      <td>Fort Meyers         FL</td>\n",
       "      <td>JFK</td>\n",
       "      <td>New York/Newark     NY</td>\n",
       "      <td>1.22</td>\n",
       "      <td>3</td>\n",
       "      <td>Yes</td>\n",
       "      <td>No</td>\n",
       "      <td>3536.16</td>\n",
       "      <td>24510.0</td>\n",
       "      <td>32991.0</td>\n",
       "      <td>379566</td>\n",
       "      <td>8621121</td>\n",
       "      <td>Controlled</td>\n",
       "      <td>Free</td>\n",
       "      <td>1076</td>\n",
       "      <td>9399</td>\n",
       "      <td>143.20</td>\n",
       "    </tr>\n",
       "    <tr>\n",
       "      <th>137</th>\n",
       "      <td>MDW</td>\n",
       "      <td>Chicago             IL</td>\n",
       "      <td>*</td>\n",
       "      <td>Kansas City         MO</td>\n",
       "      <td>1.04</td>\n",
       "      <td>0</td>\n",
       "      <td>No</td>\n",
       "      <td>Yes</td>\n",
       "      <td>3296.05</td>\n",
       "      <td>29260.0</td>\n",
       "      <td>25450.0</td>\n",
       "      <td>7830332</td>\n",
       "      <td>1694803</td>\n",
       "      <td>Free</td>\n",
       "      <td>Free</td>\n",
       "      <td>407</td>\n",
       "      <td>20529</td>\n",
       "      <td>75.71</td>\n",
       "    </tr>\n",
       "    <tr>\n",
       "      <th>140</th>\n",
       "      <td>*</td>\n",
       "      <td>Detroit             MI</td>\n",
       "      <td>*</td>\n",
       "      <td>Kansas City         MO</td>\n",
       "      <td>1.31</td>\n",
       "      <td>3</td>\n",
       "      <td>No</td>\n",
       "      <td>Yes</td>\n",
       "      <td>5569.75</td>\n",
       "      <td>26506.0</td>\n",
       "      <td>25450.0</td>\n",
       "      <td>4459144</td>\n",
       "      <td>1694803</td>\n",
       "      <td>Free</td>\n",
       "      <td>Constrained</td>\n",
       "      <td>639</td>\n",
       "      <td>4987</td>\n",
       "      <td>123.27</td>\n",
       "    </tr>\n",
       "    <tr>\n",
       "      <th>411</th>\n",
       "      <td>*</td>\n",
       "      <td>Las Vegas           NV</td>\n",
       "      <td>*</td>\n",
       "      <td>Reno                NV</td>\n",
       "      <td>1.00</td>\n",
       "      <td>3</td>\n",
       "      <td>Yes</td>\n",
       "      <td>Yes</td>\n",
       "      <td>5182.37</td>\n",
       "      <td>24575.0</td>\n",
       "      <td>29284.0</td>\n",
       "      <td>1197234</td>\n",
       "      <td>298680</td>\n",
       "      <td>Free</td>\n",
       "      <td>Free</td>\n",
       "      <td>344</td>\n",
       "      <td>13102</td>\n",
       "      <td>54.38</td>\n",
       "    </tr>\n",
       "    <tr>\n",
       "      <th>248</th>\n",
       "      <td>*</td>\n",
       "      <td>Denver              CO</td>\n",
       "      <td>LGA</td>\n",
       "      <td>New York/Newark     NY</td>\n",
       "      <td>1.25</td>\n",
       "      <td>3</td>\n",
       "      <td>No</td>\n",
       "      <td>No</td>\n",
       "      <td>4809.10</td>\n",
       "      <td>29055.0</td>\n",
       "      <td>32991.0</td>\n",
       "      <td>1862106</td>\n",
       "      <td>8621121</td>\n",
       "      <td>Controlled</td>\n",
       "      <td>Free</td>\n",
       "      <td>1624</td>\n",
       "      <td>16240</td>\n",
       "      <td>270.36</td>\n",
       "    </tr>\n",
       "  </tbody>\n",
       "</table>\n",
       "</div>"
      ],
      "text/plain": [
       "    S_CODE                  S_CITY E_CODE                  E_CITY  COUPON  \\\n",
       "320    JFK  New York/Newark     NY      *  Orlando             FL    1.08   \n",
       "546    LGA  New York/Newark     NY      *  Syracuse            NY    1.00   \n",
       "606      *  New Orleans         LA    DCA  Washington          DC    1.46   \n",
       "151      *  Cleveland           OH      *  Las Vegas           NV    1.36   \n",
       "211      *  Atlanta             GA      *  New Orleans         LA    1.02   \n",
       "256      *  Fort Meyers         FL    JFK  New York/Newark     NY    1.22   \n",
       "137    MDW  Chicago             IL      *  Kansas City         MO    1.04   \n",
       "140      *  Detroit             MI      *  Kansas City         MO    1.31   \n",
       "411      *  Las Vegas           NV      *  Reno                NV    1.00   \n",
       "248      *  Denver              CO    LGA  New York/Newark     NY    1.25   \n",
       "\n",
       "     NEW VACATION   SW       HI  S_INCOME  E_INCOME    S_POP    E_POP  \\\n",
       "320    3      Yes   No  2386.85   32991.0   22360.0  8621121  1421287   \n",
       "546    3       No   No  2806.92   32991.0   22069.0  8621121   743633   \n",
       "606    3       No   No  2946.23   22038.0   31981.0  1308499  4549784   \n",
       "151    0      Yes  Yes  4070.45   26046.0   24575.0  2230955  1197234   \n",
       "211    3       No   No  6269.75   26993.0   22038.0  3532657  1308499   \n",
       "256    3      Yes   No  3536.16   24510.0   32991.0   379566  8621121   \n",
       "137    0       No  Yes  3296.05   29260.0   25450.0  7830332  1694803   \n",
       "140    3       No  Yes  5569.75   26506.0   25450.0  4459144  1694803   \n",
       "411    3      Yes  Yes  5182.37   24575.0   29284.0  1197234   298680   \n",
       "248    3       No   No  4809.10   29055.0   32991.0  1862106  8621121   \n",
       "\n",
       "           SLOT         GATE  DISTANCE    PAX    FARE  \n",
       "320  Controlled         Free       947  54990  123.97  \n",
       "546  Controlled         Free       199   5275  120.84  \n",
       "606  Controlled         Free       956   6208  164.30  \n",
       "151        Free         Free      1831   4543  159.12  \n",
       "211        Free         Free       419   7796  120.70  \n",
       "256  Controlled         Free      1076   9399  143.20  \n",
       "137        Free         Free       407  20529   75.71  \n",
       "140        Free  Constrained       639   4987  123.27  \n",
       "411        Free         Free       344  13102   54.38  \n",
       "248  Controlled         Free      1624  16240  270.36  "
      ]
     },
     "execution_count": 44,
     "metadata": {},
     "output_type": "execute_result"
    }
   ],
   "source": [
    "airfares.sample(10)"
   ]
  },
  {
   "cell_type": "code",
   "execution_count": 45,
   "metadata": {},
   "outputs": [
    {
     "data": {
      "text/plain": [
       "(638, 18)"
      ]
     },
     "execution_count": 45,
     "metadata": {},
     "output_type": "execute_result"
    }
   ],
   "source": [
    "airfares.shape"
   ]
  },
  {
   "cell_type": "code",
   "execution_count": 46,
   "metadata": {},
   "outputs": [
    {
     "data": {
      "text/plain": [
       "S_CODE       object\n",
       "S_CITY       object\n",
       "E_CODE       object\n",
       "E_CITY       object\n",
       "COUPON      float64\n",
       "NEW           int64\n",
       "VACATION     object\n",
       "SW           object\n",
       "HI          float64\n",
       "S_INCOME    float64\n",
       "E_INCOME    float64\n",
       "S_POP         int64\n",
       "E_POP         int64\n",
       "SLOT         object\n",
       "GATE         object\n",
       "DISTANCE      int64\n",
       "PAX           int64\n",
       "FARE        float64\n",
       "dtype: object"
      ]
     },
     "execution_count": 46,
     "metadata": {},
     "output_type": "execute_result"
    }
   ],
   "source": [
    "airfares.dtypes"
   ]
  },
  {
   "cell_type": "code",
   "execution_count": 47,
   "metadata": {},
   "outputs": [],
   "source": [
    "predictors = ['COUPON', 'NEW', 'HI', 'S_INCOME', 'E_INCOME', 'S_POP', 'E_POP', 'DISTANCE', 'PAX', 'FARE']"
   ]
  },
  {
   "cell_type": "code",
   "execution_count": 48,
   "metadata": {},
   "outputs": [
    {
     "data": {
      "text/html": [
       "<div>\n",
       "<style scoped>\n",
       "    .dataframe tbody tr th:only-of-type {\n",
       "        vertical-align: middle;\n",
       "    }\n",
       "\n",
       "    .dataframe tbody tr th {\n",
       "        vertical-align: top;\n",
       "    }\n",
       "\n",
       "    .dataframe thead th {\n",
       "        text-align: right;\n",
       "    }\n",
       "</style>\n",
       "<table border=\"1\" class=\"dataframe\">\n",
       "  <thead>\n",
       "    <tr style=\"text-align: right;\">\n",
       "      <th></th>\n",
       "      <th>COUPON</th>\n",
       "      <th>NEW</th>\n",
       "      <th>HI</th>\n",
       "      <th>S_INCOME</th>\n",
       "      <th>E_INCOME</th>\n",
       "      <th>S_POP</th>\n",
       "      <th>E_POP</th>\n",
       "      <th>DISTANCE</th>\n",
       "      <th>PAX</th>\n",
       "      <th>FARE</th>\n",
       "    </tr>\n",
       "  </thead>\n",
       "  <tbody>\n",
       "    <tr>\n",
       "      <th>COUPON</th>\n",
       "      <td>1.000000</td>\n",
       "      <td>0.020223</td>\n",
       "      <td>-0.347252</td>\n",
       "      <td>-0.088403</td>\n",
       "      <td>0.046889</td>\n",
       "      <td>-0.107763</td>\n",
       "      <td>0.094970</td>\n",
       "      <td>0.746805</td>\n",
       "      <td>-0.336974</td>\n",
       "      <td>0.496537</td>\n",
       "    </tr>\n",
       "    <tr>\n",
       "      <th>NEW</th>\n",
       "      <td>0.020223</td>\n",
       "      <td>1.000000</td>\n",
       "      <td>0.054147</td>\n",
       "      <td>0.026597</td>\n",
       "      <td>0.113377</td>\n",
       "      <td>-0.016672</td>\n",
       "      <td>0.058568</td>\n",
       "      <td>0.080965</td>\n",
       "      <td>0.010495</td>\n",
       "      <td>0.091730</td>\n",
       "    </tr>\n",
       "    <tr>\n",
       "      <th>HI</th>\n",
       "      <td>-0.347252</td>\n",
       "      <td>0.054147</td>\n",
       "      <td>1.000000</td>\n",
       "      <td>-0.027382</td>\n",
       "      <td>0.082393</td>\n",
       "      <td>-0.172495</td>\n",
       "      <td>-0.062456</td>\n",
       "      <td>-0.312375</td>\n",
       "      <td>-0.168961</td>\n",
       "      <td>0.025195</td>\n",
       "    </tr>\n",
       "    <tr>\n",
       "      <th>S_INCOME</th>\n",
       "      <td>-0.088403</td>\n",
       "      <td>0.026597</td>\n",
       "      <td>-0.027382</td>\n",
       "      <td>1.000000</td>\n",
       "      <td>-0.138864</td>\n",
       "      <td>0.517187</td>\n",
       "      <td>-0.272280</td>\n",
       "      <td>0.028153</td>\n",
       "      <td>0.138197</td>\n",
       "      <td>0.209135</td>\n",
       "    </tr>\n",
       "    <tr>\n",
       "      <th>E_INCOME</th>\n",
       "      <td>0.046889</td>\n",
       "      <td>0.113377</td>\n",
       "      <td>0.082393</td>\n",
       "      <td>-0.138864</td>\n",
       "      <td>1.000000</td>\n",
       "      <td>-0.144059</td>\n",
       "      <td>0.458418</td>\n",
       "      <td>0.176531</td>\n",
       "      <td>0.259961</td>\n",
       "      <td>0.326092</td>\n",
       "    </tr>\n",
       "    <tr>\n",
       "      <th>S_POP</th>\n",
       "      <td>-0.107763</td>\n",
       "      <td>-0.016672</td>\n",
       "      <td>-0.172495</td>\n",
       "      <td>0.517187</td>\n",
       "      <td>-0.144059</td>\n",
       "      <td>1.000000</td>\n",
       "      <td>-0.280143</td>\n",
       "      <td>0.018437</td>\n",
       "      <td>0.284611</td>\n",
       "      <td>0.145097</td>\n",
       "    </tr>\n",
       "    <tr>\n",
       "      <th>E_POP</th>\n",
       "      <td>0.094970</td>\n",
       "      <td>0.058568</td>\n",
       "      <td>-0.062456</td>\n",
       "      <td>-0.272280</td>\n",
       "      <td>0.458418</td>\n",
       "      <td>-0.280143</td>\n",
       "      <td>1.000000</td>\n",
       "      <td>0.115640</td>\n",
       "      <td>0.314698</td>\n",
       "      <td>0.285043</td>\n",
       "    </tr>\n",
       "    <tr>\n",
       "      <th>DISTANCE</th>\n",
       "      <td>0.746805</td>\n",
       "      <td>0.080965</td>\n",
       "      <td>-0.312375</td>\n",
       "      <td>0.028153</td>\n",
       "      <td>0.176531</td>\n",
       "      <td>0.018437</td>\n",
       "      <td>0.115640</td>\n",
       "      <td>1.000000</td>\n",
       "      <td>-0.102482</td>\n",
       "      <td>0.670016</td>\n",
       "    </tr>\n",
       "    <tr>\n",
       "      <th>PAX</th>\n",
       "      <td>-0.336974</td>\n",
       "      <td>0.010495</td>\n",
       "      <td>-0.168961</td>\n",
       "      <td>0.138197</td>\n",
       "      <td>0.259961</td>\n",
       "      <td>0.284611</td>\n",
       "      <td>0.314698</td>\n",
       "      <td>-0.102482</td>\n",
       "      <td>1.000000</td>\n",
       "      <td>-0.090705</td>\n",
       "    </tr>\n",
       "    <tr>\n",
       "      <th>FARE</th>\n",
       "      <td>0.496537</td>\n",
       "      <td>0.091730</td>\n",
       "      <td>0.025195</td>\n",
       "      <td>0.209135</td>\n",
       "      <td>0.326092</td>\n",
       "      <td>0.145097</td>\n",
       "      <td>0.285043</td>\n",
       "      <td>0.670016</td>\n",
       "      <td>-0.090705</td>\n",
       "      <td>1.000000</td>\n",
       "    </tr>\n",
       "  </tbody>\n",
       "</table>\n",
       "</div>"
      ],
      "text/plain": [
       "            COUPON       NEW        HI  S_INCOME  E_INCOME     S_POP  \\\n",
       "COUPON    1.000000  0.020223 -0.347252 -0.088403  0.046889 -0.107763   \n",
       "NEW       0.020223  1.000000  0.054147  0.026597  0.113377 -0.016672   \n",
       "HI       -0.347252  0.054147  1.000000 -0.027382  0.082393 -0.172495   \n",
       "S_INCOME -0.088403  0.026597 -0.027382  1.000000 -0.138864  0.517187   \n",
       "E_INCOME  0.046889  0.113377  0.082393 -0.138864  1.000000 -0.144059   \n",
       "S_POP    -0.107763 -0.016672 -0.172495  0.517187 -0.144059  1.000000   \n",
       "E_POP     0.094970  0.058568 -0.062456 -0.272280  0.458418 -0.280143   \n",
       "DISTANCE  0.746805  0.080965 -0.312375  0.028153  0.176531  0.018437   \n",
       "PAX      -0.336974  0.010495 -0.168961  0.138197  0.259961  0.284611   \n",
       "FARE      0.496537  0.091730  0.025195  0.209135  0.326092  0.145097   \n",
       "\n",
       "             E_POP  DISTANCE       PAX      FARE  \n",
       "COUPON    0.094970  0.746805 -0.336974  0.496537  \n",
       "NEW       0.058568  0.080965  0.010495  0.091730  \n",
       "HI       -0.062456 -0.312375 -0.168961  0.025195  \n",
       "S_INCOME -0.272280  0.028153  0.138197  0.209135  \n",
       "E_INCOME  0.458418  0.176531  0.259961  0.326092  \n",
       "S_POP    -0.280143  0.018437  0.284611  0.145097  \n",
       "E_POP     1.000000  0.115640  0.314698  0.285043  \n",
       "DISTANCE  0.115640  1.000000 -0.102482  0.670016  \n",
       "PAX       0.314698 -0.102482  1.000000 -0.090705  \n",
       "FARE      0.285043  0.670016 -0.090705  1.000000  "
      ]
     },
     "execution_count": 48,
     "metadata": {},
     "output_type": "execute_result"
    }
   ],
   "source": [
    "airfares[predictors].corr()"
   ]
  },
  {
   "cell_type": "code",
   "execution_count": 49,
   "metadata": {},
   "outputs": [
    {
     "data": {
      "text/plain": [
       "<matplotlib.axes._subplots.AxesSubplot at 0x24d59496b88>"
      ]
     },
     "execution_count": 49,
     "metadata": {},
     "output_type": "execute_result"
    },
    {
     "data": {
      "image/png": "[encoded data removed]",
      "text/plain": [
       "<Figure size 432x288 with 1 Axes>"
      ]
     },
     "metadata": {
      "needs_background": "light"
     },
     "output_type": "display_data"
    }
   ],
   "source": [
    "sns.scatterplot(x = 'COUPON', y = 'FARE', data = airfares)"
   ]
  },
  {
   "cell_type": "code",
   "execution_count": 50,
   "metadata": {},
   "outputs": [
    {
     "data": {
      "text/plain": [
       "<matplotlib.axes._subplots.AxesSubplot at 0x24d594ea608>"
      ]
     },
     "execution_count": 50,
     "metadata": {},
     "output_type": "execute_result"
    },
    {
     "data": {
      "image/png": "[encoded data removed]",
      "text/plain": [
       "<Figure size 432x288 with 1 Axes>"
      ]
     },
     "metadata": {
      "needs_background": "light"
     },
     "output_type": "display_data"
    }
   ],
   "source": [
    "sns.scatterplot(x = 'NEW', y = 'FARE', data = airfares)"
   ]
  },
  {
   "cell_type": "code",
   "execution_count": 51,
   "metadata": {},
   "outputs": [
    {
     "data": {
      "text/plain": [
       "<matplotlib.axes._subplots.AxesSubplot at 0x24d5956a3c8>"
      ]
     },
     "execution_count": 51,
     "metadata": {},
     "output_type": "execute_result"
    },
    {
     "data": {
      "image/png": "[encoded data removed]",
      "text/plain": [
       "<Figure size 432x288 with 1 Axes>"
      ]
     },
     "metadata": {
      "needs_background": "light"
     },
     "output_type": "display_data"
    }
   ],
   "source": [
    "sns.scatterplot(x = 'HI', y = 'FARE', data = airfares)"
   ]
  },
  {
   "cell_type": "code",
   "execution_count": 52,
   "metadata": {},
   "outputs": [
    {
     "data": {
      "text/plain": [
       "<matplotlib.axes._subplots.AxesSubplot at 0x24d595d2b08>"
      ]
     },
     "execution_count": 52,
     "metadata": {},
     "output_type": "execute_result"
    },
    {
     "data": {
      "image/png": "[encoded data removed]",
      "text/plain": [
       "<Figure size 432x288 with 1 Axes>"
      ]
     },
     "metadata": {
      "needs_background": "light"
     },
     "output_type": "display_data"
    }
   ],
   "source": [
    "sns.scatterplot(x = 'S_INCOME', y = 'FARE', data = airfares)"
   ]
  },
  {
   "cell_type": "code",
   "execution_count": 53,
   "metadata": {},
   "outputs": [
    {
     "data": {
      "text/plain": [
       "<matplotlib.axes._subplots.AxesSubplot at 0x24d59278088>"
      ]
     },
     "execution_count": 53,
     "metadata": {},
     "output_type": "execute_result"
    },
    {
     "data": {
      "image/png": "[encoded data removed]",
      "text/plain": [
       "<Figure size 432x288 with 1 Axes>"
      ]
     },
     "metadata": {
      "needs_background": "light"
     },
     "output_type": "display_data"
    }
   ],
   "source": [
    "sns.scatterplot(x = 'E_INCOME', y = 'FARE', data = airfares)"
   ]
  },
  {
   "cell_type": "code",
   "execution_count": 54,
   "metadata": {},
   "outputs": [
    {
     "data": {
      "text/plain": [
       "<matplotlib.axes._subplots.AxesSubplot at 0x24d59345ec8>"
      ]
     },
     "execution_count": 54,
     "metadata": {},
     "output_type": "execute_result"
    },
    {
     "data": {
      "image/png": "[encoded data removed]",
      "text/plain": [
       "<Figure size 432x288 with 1 Axes>"
      ]
     },
     "metadata": {
      "needs_background": "light"
     },
     "output_type": "display_data"
    }
   ],
   "source": [
    "sns.scatterplot(x = 'S_POP', y = 'FARE', data = airfares)"
   ]
  },
  {
   "cell_type": "code",
   "execution_count": 55,
   "metadata": {},
   "outputs": [
    {
     "data": {
      "text/plain": [
       "<matplotlib.axes._subplots.AxesSubplot at 0x24d59623bc8>"
      ]
     },
     "execution_count": 55,
     "metadata": {},
     "output_type": "execute_result"
    },
    {
     "data": {
      "image/png": "[encoded data removed]",
      "text/plain": [
       "<Figure size 432x288 with 1 Axes>"
      ]
     },
     "metadata": {
      "needs_background": "light"
     },
     "output_type": "display_data"
    }
   ],
   "source": [
    "sns.scatterplot(x = 'E_POP', y = 'FARE', data = airfares)"
   ]
  },
  {
   "cell_type": "code",
   "execution_count": 56,
   "metadata": {},
   "outputs": [
    {
     "data": {
      "text/plain": [
       "<matplotlib.axes._subplots.AxesSubplot at 0x24d593bf608>"
      ]
     },
     "execution_count": 56,
     "metadata": {},
     "output_type": "execute_result"
    },
    {
     "data": {
      "image/png": "[encoded data removed]",
      "text/plain": [
       "<Figure size 432x288 with 1 Axes>"
      ]
     },
     "metadata": {
      "needs_background": "light"
     },
     "output_type": "display_data"
    }
   ],
   "source": [
    "sns.scatterplot(x = 'DISTANCE', y = 'FARE', data = airfares)"
   ]
  },
  {
   "cell_type": "code",
   "execution_count": 57,
   "metadata": {},
   "outputs": [
    {
     "data": {
      "text/plain": [
       "<matplotlib.axes._subplots.AxesSubplot at 0x24d5970a688>"
      ]
     },
     "execution_count": 57,
     "metadata": {},
     "output_type": "execute_result"
    },
    {
     "data": {
      "image/png": "[encoded data removed]",
      "text/plain": [
       "<Figure size 432x288 with 1 Axes>"
      ]
     },
     "metadata": {
      "needs_background": "light"
     },
     "output_type": "display_data"
    }
   ],
   "source": [
    "sns.scatterplot(x = 'PAX', y = 'FARE', data = airfares)"
   ]
  },
  {
   "cell_type": "markdown",
   "metadata": {},
   "source": [
    "From the scatter plots shown above, the best single predictor of FARE is DISTANCE."
   ]
  },
  {
   "cell_type": "code",
   "execution_count": 58,
   "metadata": {},
   "outputs": [
    {
     "data": {
      "text/plain": [
       "0.2664576802507837"
      ]
     },
     "execution_count": 58,
     "metadata": {},
     "output_type": "execute_result"
    }
   ],
   "source": [
    "len(airfares.loc[airfares['VACATION'] == 'Yes'])/ len(airfares['VACATION'])\n"
   ]
  },
  {
   "cell_type": "markdown",
   "metadata": {},
   "source": [
    "The percentage of flights with vacation routes is 26.6% while the percentage of flights with non vacation routes is 73.4%"
   ]
  },
  {
   "cell_type": "code",
   "execution_count": 59,
   "metadata": {},
   "outputs": [
    {
     "data": {
      "text/plain": [
       "0.30407523510971785"
      ]
     },
     "execution_count": 59,
     "metadata": {},
     "output_type": "execute_result"
    }
   ],
   "source": [
    "len(airfares.loc[airfares['SW'] == 'Yes'])/ len(airfares['SW'])\n"
   ]
  },
  {
   "cell_type": "markdown",
   "metadata": {},
   "source": [
    "The percentage of routes served by Southwest airlines is 30.4% while the percentage of routes not served by Southwest airlines is 69.6%"
   ]
  },
  {
   "cell_type": "code",
   "execution_count": 60,
   "metadata": {},
   "outputs": [
    {
     "data": {
      "text/plain": [
       "0.7147335423197492"
      ]
     },
     "execution_count": 60,
     "metadata": {},
     "output_type": "execute_result"
    }
   ],
   "source": [
    "len(airfares.loc[airfares['SLOT'] == 'Free'])/ len(airfares['VACATION'])\n"
   ]
  },
  {
   "cell_type": "markdown",
   "metadata": {},
   "source": [
    "The percentage of airports congested is 71.5% while the percentage of airports not congested is 28.5%"
   ]
  },
  {
   "cell_type": "code",
   "execution_count": 61,
   "metadata": {},
   "outputs": [
    {
     "data": {
      "text/plain": [
       "0.8056426332288401"
      ]
     },
     "execution_count": 61,
     "metadata": {},
     "output_type": "execute_result"
    }
   ],
   "source": [
    "len(airfares.loc[airfares['GATE'] == 'Free'])/ len(airfares['VACATION'])"
   ]
  },
  {
   "cell_type": "markdown",
   "metadata": {},
   "source": [
    "The percentage of endpoint airports without gate constraint is 80.6% while the percentage of endpoin airports with gate constraint is 19.4%"
   ]
  },
  {
   "cell_type": "code",
   "execution_count": 62,
   "metadata": {},
   "outputs": [
    {
     "data": {
      "text/html": [
       "<div>\n",
       "<style scoped>\n",
       "    .dataframe tbody tr th:only-of-type {\n",
       "        vertical-align: middle;\n",
       "    }\n",
       "\n",
       "    .dataframe tbody tr th {\n",
       "        vertical-align: top;\n",
       "    }\n",
       "\n",
       "    .dataframe thead th {\n",
       "        text-align: right;\n",
       "    }\n",
       "</style>\n",
       "<table border=\"1\" class=\"dataframe\">\n",
       "  <thead>\n",
       "    <tr style=\"text-align: right;\">\n",
       "      <th></th>\n",
       "      <th>S_CODE</th>\n",
       "      <th>S_CITY</th>\n",
       "      <th>E_CODE</th>\n",
       "      <th>E_CITY</th>\n",
       "      <th>COUPON</th>\n",
       "      <th>NEW</th>\n",
       "      <th>VACATION</th>\n",
       "      <th>SW</th>\n",
       "      <th>HI</th>\n",
       "      <th>S_INCOME</th>\n",
       "      <th>E_INCOME</th>\n",
       "      <th>S_POP</th>\n",
       "      <th>E_POP</th>\n",
       "      <th>SLOT</th>\n",
       "      <th>GATE</th>\n",
       "      <th>DISTANCE</th>\n",
       "      <th>PAX</th>\n",
       "      <th>FARE</th>\n",
       "    </tr>\n",
       "  </thead>\n",
       "  <tbody>\n",
       "    <tr>\n",
       "      <th>0</th>\n",
       "      <td>*</td>\n",
       "      <td>Dallas/Fort Worth   TX</td>\n",
       "      <td>*</td>\n",
       "      <td>Amarillo            TX</td>\n",
       "      <td>1.00</td>\n",
       "      <td>3</td>\n",
       "      <td>No</td>\n",
       "      <td>Yes</td>\n",
       "      <td>5291.99</td>\n",
       "      <td>28637.0</td>\n",
       "      <td>21112.0</td>\n",
       "      <td>3036732</td>\n",
       "      <td>205711</td>\n",
       "      <td>Free</td>\n",
       "      <td>Free</td>\n",
       "      <td>312</td>\n",
       "      <td>7864</td>\n",
       "      <td>64.11</td>\n",
       "    </tr>\n",
       "    <tr>\n",
       "      <th>1</th>\n",
       "      <td>*</td>\n",
       "      <td>Atlanta             GA</td>\n",
       "      <td>*</td>\n",
       "      <td>Baltimore/Wash Intl MD</td>\n",
       "      <td>1.06</td>\n",
       "      <td>3</td>\n",
       "      <td>No</td>\n",
       "      <td>No</td>\n",
       "      <td>5419.16</td>\n",
       "      <td>26993.0</td>\n",
       "      <td>29838.0</td>\n",
       "      <td>3532657</td>\n",
       "      <td>7145897</td>\n",
       "      <td>Free</td>\n",
       "      <td>Free</td>\n",
       "      <td>576</td>\n",
       "      <td>8820</td>\n",
       "      <td>174.47</td>\n",
       "    </tr>\n",
       "    <tr>\n",
       "      <th>2</th>\n",
       "      <td>*</td>\n",
       "      <td>Boston              MA</td>\n",
       "      <td>*</td>\n",
       "      <td>Baltimore/Wash Intl MD</td>\n",
       "      <td>1.06</td>\n",
       "      <td>3</td>\n",
       "      <td>No</td>\n",
       "      <td>No</td>\n",
       "      <td>9185.28</td>\n",
       "      <td>30124.0</td>\n",
       "      <td>29838.0</td>\n",
       "      <td>5787293</td>\n",
       "      <td>7145897</td>\n",
       "      <td>Free</td>\n",
       "      <td>Free</td>\n",
       "      <td>364</td>\n",
       "      <td>6452</td>\n",
       "      <td>207.76</td>\n",
       "    </tr>\n",
       "    <tr>\n",
       "      <th>3</th>\n",
       "      <td>ORD</td>\n",
       "      <td>Chicago             IL</td>\n",
       "      <td>*</td>\n",
       "      <td>Baltimore/Wash Intl MD</td>\n",
       "      <td>1.06</td>\n",
       "      <td>3</td>\n",
       "      <td>No</td>\n",
       "      <td>Yes</td>\n",
       "      <td>2657.35</td>\n",
       "      <td>29260.0</td>\n",
       "      <td>29838.0</td>\n",
       "      <td>7830332</td>\n",
       "      <td>7145897</td>\n",
       "      <td>Controlled</td>\n",
       "      <td>Free</td>\n",
       "      <td>612</td>\n",
       "      <td>25144</td>\n",
       "      <td>85.47</td>\n",
       "    </tr>\n",
       "    <tr>\n",
       "      <th>4</th>\n",
       "      <td>MDW</td>\n",
       "      <td>Chicago             IL</td>\n",
       "      <td>*</td>\n",
       "      <td>Baltimore/Wash Intl MD</td>\n",
       "      <td>1.06</td>\n",
       "      <td>3</td>\n",
       "      <td>No</td>\n",
       "      <td>Yes</td>\n",
       "      <td>2657.35</td>\n",
       "      <td>29260.0</td>\n",
       "      <td>29838.0</td>\n",
       "      <td>7830332</td>\n",
       "      <td>7145897</td>\n",
       "      <td>Free</td>\n",
       "      <td>Free</td>\n",
       "      <td>612</td>\n",
       "      <td>25144</td>\n",
       "      <td>85.47</td>\n",
       "    </tr>\n",
       "  </tbody>\n",
       "</table>\n",
       "</div>"
      ],
      "text/plain": [
       "  S_CODE                  S_CITY E_CODE                  E_CITY  COUPON  NEW  \\\n",
       "0      *  Dallas/Fort Worth   TX      *  Amarillo            TX    1.00    3   \n",
       "1      *  Atlanta             GA      *  Baltimore/Wash Intl MD    1.06    3   \n",
       "2      *  Boston              MA      *  Baltimore/Wash Intl MD    1.06    3   \n",
       "3    ORD  Chicago             IL      *  Baltimore/Wash Intl MD    1.06    3   \n",
       "4    MDW  Chicago             IL      *  Baltimore/Wash Intl MD    1.06    3   \n",
       "\n",
       "  VACATION   SW       HI  S_INCOME  E_INCOME    S_POP    E_POP        SLOT  \\\n",
       "0       No  Yes  5291.99   28637.0   21112.0  3036732   205711        Free   \n",
       "1       No   No  5419.16   26993.0   29838.0  3532657  7145897        Free   \n",
       "2       No   No  9185.28   30124.0   29838.0  5787293  7145897        Free   \n",
       "3       No  Yes  2657.35   29260.0   29838.0  7830332  7145897  Controlled   \n",
       "4       No  Yes  2657.35   29260.0   29838.0  7830332  7145897        Free   \n",
       "\n",
       "   GATE  DISTANCE    PAX    FARE  \n",
       "0  Free       312   7864   64.11  \n",
       "1  Free       576   8820  174.47  \n",
       "2  Free       364   6452  207.76  \n",
       "3  Free       612  25144   85.47  \n",
       "4  Free       612  25144   85.47  "
      ]
     },
     "execution_count": 62,
     "metadata": {},
     "output_type": "execute_result"
    }
   ],
   "source": [
    "airfares.head()"
   ]
  },
  {
   "cell_type": "code",
   "execution_count": 63,
   "metadata": {},
   "outputs": [],
   "source": [
    "pivot_airfares = airfares.copy()"
   ]
  },
  {
   "cell_type": "code",
   "execution_count": 64,
   "metadata": {},
   "outputs": [
    {
     "data": {
      "text/plain": [
       "      VACATION_Yes  SW_Yes  SLOT_Free  GATE_Free\n",
       "FARE  0             0       0          0            206.797778\n",
       "                                       1            208.329825\n",
       "                            1          0            210.581667\n",
       "                                       1            196.183782\n",
       "                    1       0          0             74.280000\n",
       "                                       1            110.170588\n",
       "                            1          0            139.960000\n",
       "                                       1             96.951491\n",
       "      1             0       0          1            139.901786\n",
       "                            1          0            137.313500\n",
       "                                       1            143.976716\n",
       "                    1       0          1            131.605000\n",
       "                            1          1             89.811176\n",
       "dtype: float64"
      ]
     },
     "execution_count": 64,
     "metadata": {},
     "output_type": "execute_result"
    }
   ],
   "source": [
    "cat_predictors = ['VACATION', 'SW', 'SLOT', 'GATE', 'FARE']\n",
    "pivot_airfares = pd.get_dummies(pivot_airfares[cat_predictors], drop_first=True)\n",
    "pd.pivot_table(pivot_airfares, values = ['FARE'], columns = ['VACATION_Yes', 'SW_Yes', 'SLOT_Free', 'GATE_Free'], aggfunc = np.mean)"
   ]
  },
  {
   "cell_type": "markdown",
   "metadata": {},
   "source": [
    "Which categorical predictor seems best for predicting FARE?"
   ]
  },
  {
   "cell_type": "code",
   "execution_count": 65,
   "metadata": {},
   "outputs": [
    {
     "name": "stdout",
     "output_type": "stream",
     "text": [
      "\n",
      "Regression statistics\n",
      "\n",
      "                      Mean Error (ME) : -0.0000\n",
      "       Root Mean Squared Error (RMSE) : 34.7664\n",
      "            Mean Absolute Error (MAE) : 27.1065\n",
      "          Mean Percentage Error (MPE) : -4.5089\n",
      "Mean Absolute Percentage Error (MAPE) : 20.0849\n"
     ]
    }
   ],
   "source": [
    "predictors = ['VACATION', 'SW', 'SLOT', 'GATE', 'COUPON', 'NEW', 'HI', 'S_INCOME', 'E_INCOME', 'S_POP', 'E_POP', 'DISTANCE', 'PAX']\n",
    "\n",
    "outcome = 'FARE'\n",
    "\n",
    "#partition data\n",
    "X = pd.get_dummies(airfares[predictors], drop_first=True)\n",
    "y = airfares[outcome]\n",
    "train_X, valid_X, train_y, valid_y = train_test_split(X, y, test_size = 0.4, random_state = 1)\n",
    "\n",
    "airfares_lm = LinearRegression()\n",
    "airfares_lm.fit(train_X, train_y)\n",
    "\n",
    "#print performance measures\n",
    "regressionSummary(train_y, airfares_lm.predict(train_X))"
   ]
  },
  {
   "cell_type": "code",
   "execution_count": 66,
   "metadata": {},
   "outputs": [
    {
     "name": "stdout",
     "output_type": "stream",
     "text": [
      "Variables: COUPON, NEW, HI, S_INCOME, E_INCOME, S_POP, E_POP, DISTANCE, PAX, VACATION_Yes, SW_Yes, SLOT_Free, GATE_Free\n",
      "Start: score=4379.42, constant\n",
      "Step: score=4149.88, add DISTANCE\n",
      "Step: score=4025.89, add SW_Yes\n",
      "Step: score=3913.59, add VACATION_Yes\n",
      "Step: score=3890.27, add HI\n",
      "Step: score=3873.33, add GATE_Free\n",
      "Step: score=3852.81, add SLOT_Free\n",
      "Step: score=3850.30, add PAX\n",
      "Step: score=3844.58, add E_POP\n",
      "Step: score=3826.43, add S_POP\n",
      "Step: score=3821.88, add E_INCOME\n",
      "Step: score=3821.88, unchanged None\n",
      "['DISTANCE', 'SW_Yes', 'VACATION_Yes', 'HI', 'GATE_Free', 'SLOT_Free', 'PAX', 'E_POP', 'S_POP', 'E_INCOME']\n"
     ]
    }
   ],
   "source": [
    "def train_model(variables):\n",
    "    if len(variables) == 0:\n",
    "        return None\n",
    "    model = LinearRegression()\n",
    "    model.fit(train_X[variables], train_y)\n",
    "    return model\n",
    "\n",
    "def score_model(model, variables):\n",
    "    if len(variables) == 0:\n",
    "        return AIC_score(train_y, [train_y.mean()] * len(train_y), model, df = 1)\n",
    "    return AIC_score(train_y, model.predict(train_X[variables]), model)\n",
    "                     \n",
    "best_model_ss, best_variables_ss = stepwise_selection(train_X.columns, train_model, score_model, verbose = True)\n",
    " \n",
    "print(best_variables_ss)"
   ]
  },
  {
   "cell_type": "markdown",
   "metadata": {},
   "source": [
    "Using stepwise selection, the variables selected are Distance, SW_Yes, VACATION_Yes, HI, GATE_Free, SLOT_Free, PAX, E_POP, S_POP, E_INCOME. Distance has the highest score and that means it is the most important predictor."
   ]
  },
  {
   "cell_type": "code",
   "execution_count": 67,
   "metadata": {},
   "outputs": [
    {
     "name": "stdout",
     "output_type": "stream",
     "text": [
      "     n     r2adj          AIC  COUPON  DISTANCE  E_INCOME  E_POP  GATE_Free     HI    NEW    PAX  \\\n",
      "0    1  0.453107  4149.881509   False      True     False  False      False  False  False  False   \n",
      "1    2  0.605715  4025.892420   False      True     False  False      False  False  False  False   \n",
      "2    3  0.706909  3913.585125   False      True     False  False      False  False  False  False   \n",
      "3    4  0.724977  3890.268211   False      True     False  False      False   True  False  False   \n",
      "4    5  0.737584  3873.328296   False      True     False  False       True   True  False  False   \n",
      "5    6  0.751947  3852.808698   False      True     False  False       True   True  False  False   \n",
      "6    7  0.758747  3843.170960   False      True     False   True      False   True  False   True   \n",
      "7    8  0.765105  3833.945866   False      True     False   True       True   True  False   True   \n",
      "8    9  0.770266  3826.433471   False      True     False   True       True   True  False   True   \n",
      "9   10  0.773567  3821.876901   False      True      True   True       True   True  False   True   \n",
      "10  11  0.773595  3822.798222   False      True      True   True       True   True  False   True   \n",
      "11  12  0.773559  3823.825398   False      True      True   True       True   True   True   True   \n",
      "12  13  0.773292  3825.237680    True      True      True   True       True   True   True   True   \n",
      "\n",
      "    SLOT_Free  SW_Yes  S_INCOME  S_POP  VACATION_Yes  \n",
      "0       False   False     False  False         False  \n",
      "1       False    True     False  False         False  \n",
      "2       False    True     False  False          True  \n",
      "3       False    True     False  False          True  \n",
      "4       False    True     False  False          True  \n",
      "5        True    True     False  False          True  \n",
      "6       False    True     False   True          True  \n",
      "7       False    True     False   True          True  \n",
      "8        True    True     False   True          True  \n",
      "9        True    True     False   True          True  \n",
      "10       True    True      True   True          True  \n",
      "11       True    True      True   True          True  \n",
      "12       True    True      True   True          True  \n"
     ]
    }
   ],
   "source": [
    "def train_model(variables):\n",
    "    model = LinearRegression()\n",
    "    model.fit(train_X[variables], train_y)\n",
    "    return model\n",
    "\n",
    "def score_model(model, variables):\n",
    "    pred_y = model.predict(train_X[variables])\n",
    "    # we negate as score is optimized to be as low as possible\n",
    "    return -adjusted_r2_score(train_y, pred_y, model)\n",
    "\n",
    "allVariables = train_X.columns\n",
    "results = exhaustive_search(allVariables, train_model, score_model)\n",
    "\n",
    "data = []\n",
    "for result in results:\n",
    "    model = result['model']\n",
    "    variables = result['variables']\n",
    "    AIC = AIC_score(train_y, model.predict(train_X[variables]), model)\n",
    "    \n",
    "    d = {'n': result['n'], 'r2adj': -result['score'], 'AIC': AIC}\n",
    "    d.update({var: var in result['variables'] for var in allVariables})\n",
    "    data.append(d)\n",
    "pd.set_option('display.width', 100)\n",
    "print(pd.DataFrame(data, columns = ('n', 'r2adj', 'AIC') + tuple(sorted(allVariables))))\n",
    "pd.reset_option('display.width')      "
   ]
  },
  {
   "cell_type": "markdown",
   "metadata": {},
   "source": [
    "The best predictors from the exhaustive search are: DISTANCE, SW_Yes, VACATION_Yes,  HI, GATE_Free, E_POP, PAX, S_POP, SLOT_Free and E_INCOME. The worst predictors are: S_INCOME, NEW and COUPON."
   ]
  },
  {
   "cell_type": "code",
   "execution_count": 68,
   "metadata": {},
   "outputs": [
    {
     "name": "stdout",
     "output_type": "stream",
     "text": [
      "\n",
      "Regression statistics\n",
      "\n",
      "                      Mean Error (ME) : -1.8591\n",
      "       Root Mean Squared Error (RMSE) : 36.1129\n",
      "            Mean Absolute Error (MAE) : 28.5252\n",
      "          Mean Percentage Error (MPE) : -6.7084\n",
      "Mean Absolute Percentage Error (MAPE) : 21.7198\n"
     ]
    }
   ],
   "source": [
    "#stepwise selection\n",
    "regressionSummary(valid_y, best_model_ss.predict(valid_X[best_variables_ss]))"
   ]
  },
  {
   "cell_type": "code",
   "execution_count": 69,
   "metadata": {},
   "outputs": [
    {
     "name": "stdout",
     "output_type": "stream",
     "text": [
      "\n",
      "Regression statistics\n",
      "\n",
      "                      Mean Error (ME) : -1.8231\n",
      "       Root Mean Squared Error (RMSE) : 36.0002\n",
      "            Mean Absolute Error (MAE) : 28.5002\n",
      "          Mean Percentage Error (MPE) : -6.6037\n",
      "Mean Absolute Percentage Error (MAPE) : 21.6048\n"
     ]
    }
   ],
   "source": [
    "#exhaustive search\n",
    "regressionSummary(valid_y, model.predict(valid_X[allVariables]))"
   ]
  },
  {
   "cell_type": "code",
   "execution_count": 70,
   "metadata": {},
   "outputs": [
    {
     "data": {
      "image/png": "[encoded data removed]",
      "text/plain": [
       "<Figure size 432x288 with 2 Axes>"
      ]
     },
     "metadata": {
      "needs_background": "light"
     },
     "output_type": "display_data"
    }
   ],
   "source": [
    "#Cumulative and decile lift chart for stepwise selection\n",
    "pred_v = pd.Series(best_model_ss.predict(valid_X[best_variables_ss]))\n",
    "pred_v = pred_v.sort_values(ascending = False)\n",
    "\n",
    "fig, axes = plt.subplots(nrows=1, ncols = 2)\n",
    "ax = gainsChart(pred_v, ax = axes[0])\n",
    "ax.set_ylabel('Cumumlative Fare')\n",
    "ax.set_title('Cumulative Gains Chart')\n",
    "\n",
    "ax = liftChart(pred_v, ax = axes[1], labelBars = False)\n",
    "ax.set_ylabel('Lift')\n",
    "\n",
    "plt.tight_layout()\n",
    "plt.show()"
   ]
  },
  {
   "cell_type": "code",
   "execution_count": 71,
   "metadata": {},
   "outputs": [
    {
     "name": "stdout",
     "output_type": "stream",
     "text": [
      "Lift based on meanResponse 1.773850861131499\n"
     ]
    }
   ],
   "source": [
    "# group the sorted predictions into 10 roughly equal groups and calculate the mean\n",
    "groups = [int(10 * i / len(pred_v)) for i in range(len(pred_v))]\n",
    "meanPercentile = pred_v.groupby(groups).mean()\n",
    "meanResponse = meanPercentile / pred_v.mean()\n",
    "meanResponse.index = (meanResponse.index + 1) * 10\n",
    "print('Lift based on meanResponse', meanResponse[10])"
   ]
  },
  {
   "cell_type": "code",
   "execution_count": 72,
   "metadata": {},
   "outputs": [
    {
     "data": {
      "image/png": "[encoded data removed]",
      "text/plain": [
       "<Figure size 432x288 with 2 Axes>"
      ]
     },
     "metadata": {
      "needs_background": "light"
     },
     "output_type": "display_data"
    }
   ],
   "source": [
    "#Cumulative and decile lift chart for exhaustive selection\n",
    "pred_v_ex = pd.Series(model.predict(valid_X[allVariables]))\n",
    "pred_v_ex = pred_v_ex.sort_values(ascending = False)\n",
    "\n",
    "fig, axes = plt.subplots(nrows=1, ncols = 2)\n",
    "ax = gainsChart(pred_v_ex, ax = axes[0])\n",
    "ax.set_ylabel('Cumumlative Fare')\n",
    "ax.set_title('Cumulative Gains Chart')\n",
    "\n",
    "ax = liftChart(pred_v_ex, ax = axes[1], labelBars = False)\n",
    "ax.set_ylabel('Lift')\n",
    "\n",
    "plt.tight_layout()\n",
    "plt.show()"
   ]
  },
  {
   "cell_type": "code",
   "execution_count": 73,
   "metadata": {},
   "outputs": [
    {
     "name": "stdout",
     "output_type": "stream",
     "text": [
      "Lift based on meanResponse 1.7816299794195178\n"
     ]
    }
   ],
   "source": [
    "# group the sorted predictions into 10 roughly equal groups and calculate the mean\n",
    "groups = [int(10 * i / len(pred_v_ex)) for i in range(len(pred_v_ex))]\n",
    "meanPercentile = pred_v_ex.groupby(groups).mean()\n",
    "meanResponse = meanPercentile / pred_v_ex.mean()\n",
    "meanResponse.index = (meanResponse.index + 1) * 10\n",
    "print('Lift based on meanResponse', meanResponse[10])"
   ]
  },
  {
   "cell_type": "markdown",
   "metadata": {},
   "source": [
    "The stepwise selection model has RMSE of 36.1129 and average error of -1.8591 while the exhaustive search model has RMSE of 36.0002 and average error of  -1.8231. The two models have equal numbers for Lift based on meanResponse. The better model is the exhaustive search model since its RMSE and ME is lesser. "
   ]
  },
  {
   "cell_type": "markdown",
   "metadata": {},
   "source": [
    "The best predictors from the exhaustive search are: DISTANCE, SW_Yes, VACATION_Yes, HI, GATE_Free, E_POP, PAX, S_POP, SLOT_Free and E_INCOME. The worst predictors are: S_INCOME, NEW and COUPON."
   ]
  },
  {
   "cell_type": "code",
   "execution_count": 74,
   "metadata": {},
   "outputs": [],
   "source": [
    "test = pd.DataFrame({'COUPON': 1.202, 'NEW': 3, 'VACATION_Yes': 0, 'SW_Yes': 0, 'HI': 4442.141, 'S_INCOME': 28760, 'E_INCOME': 27664,\n",
    "                    'S_POP': 4557004, 'E_POP': 3195503, 'SLOT_Free': 1, 'GATE_Free': 1, 'PAX': 12782, 'DISTANCE': 1976 }, index = [0])"
   ]
  },
  {
   "cell_type": "code",
   "execution_count": 75,
   "metadata": {},
   "outputs": [
    {
     "data": {
      "text/html": [
       "<div>\n",
       "<style scoped>\n",
       "    .dataframe tbody tr th:only-of-type {\n",
       "        vertical-align: middle;\n",
       "    }\n",
       "\n",
       "    .dataframe tbody tr th {\n",
       "        vertical-align: top;\n",
       "    }\n",
       "\n",
       "    .dataframe thead th {\n",
       "        text-align: right;\n",
       "    }\n",
       "</style>\n",
       "<table border=\"1\" class=\"dataframe\">\n",
       "  <thead>\n",
       "    <tr style=\"text-align: right;\">\n",
       "      <th></th>\n",
       "      <th>COUPON</th>\n",
       "      <th>NEW</th>\n",
       "      <th>VACATION_Yes</th>\n",
       "      <th>SW_Yes</th>\n",
       "      <th>HI</th>\n",
       "      <th>S_INCOME</th>\n",
       "      <th>E_INCOME</th>\n",
       "      <th>S_POP</th>\n",
       "      <th>E_POP</th>\n",
       "      <th>SLOT_Free</th>\n",
       "      <th>GATE_Free</th>\n",
       "      <th>PAX</th>\n",
       "      <th>DISTANCE</th>\n",
       "    </tr>\n",
       "  </thead>\n",
       "  <tbody>\n",
       "    <tr>\n",
       "      <th>0</th>\n",
       "      <td>1.202</td>\n",
       "      <td>3</td>\n",
       "      <td>0</td>\n",
       "      <td>0</td>\n",
       "      <td>4442.141</td>\n",
       "      <td>28760</td>\n",
       "      <td>27664</td>\n",
       "      <td>4557004</td>\n",
       "      <td>3195503</td>\n",
       "      <td>1</td>\n",
       "      <td>1</td>\n",
       "      <td>12782</td>\n",
       "      <td>1976</td>\n",
       "    </tr>\n",
       "  </tbody>\n",
       "</table>\n",
       "</div>"
      ],
      "text/plain": [
       "   COUPON  NEW  VACATION_Yes  SW_Yes        HI  S_INCOME  E_INCOME    S_POP  \\\n",
       "0   1.202    3             0       0  4442.141     28760     27664  4557004   \n",
       "\n",
       "     E_POP  SLOT_Free  GATE_Free    PAX  DISTANCE  \n",
       "0  3195503          1          1  12782      1976  "
      ]
     },
     "execution_count": 75,
     "metadata": {},
     "output_type": "execute_result"
    }
   ],
   "source": [
    "test.head()"
   ]
  },
  {
   "cell_type": "code",
   "execution_count": 76,
   "metadata": {},
   "outputs": [],
   "source": [
    "test_pred = model.predict(test)"
   ]
  },
  {
   "cell_type": "code",
   "execution_count": 77,
   "metadata": {},
   "outputs": [
    {
     "name": "stdout",
     "output_type": "stream",
     "text": [
      "[136822.35707716]\n"
     ]
    }
   ],
   "source": [
    "print(test_pred)"
   ]
  },
  {
   "cell_type": "markdown",
   "metadata": {},
   "source": [
    "The average fare on a route with the test predictors is $136,822"
   ]
  },
  {
   "cell_type": "markdown",
   "metadata": {},
   "source": [
    "#prediction when SW_Yes = 1"
   ]
  },
  {
   "cell_type": "code",
   "execution_count": 78,
   "metadata": {},
   "outputs": [],
   "source": [
    "test2 = pd.DataFrame({'COUPON': 1.202, 'NEW': 3, 'VACATION_Yes': 0, 'SW_Yes': 1, 'HI': 4442.141, 'S_INCOME': 28760, 'E_INCOME': 27664,\n",
    "                    'S_POP': 4557004, 'E_POP': 3195503, 'SLOT_Free': 1, 'GATE_Free': 1, 'PAX': 12782, 'DISTANCE': 1976 }, index = [0])"
   ]
  },
  {
   "cell_type": "code",
   "execution_count": 79,
   "metadata": {},
   "outputs": [
    {
     "data": {
      "text/html": [
       "<div>\n",
       "<style scoped>\n",
       "    .dataframe tbody tr th:only-of-type {\n",
       "        vertical-align: middle;\n",
       "    }\n",
       "\n",
       "    .dataframe tbody tr th {\n",
       "        vertical-align: top;\n",
       "    }\n",
       "\n",
       "    .dataframe thead th {\n",
       "        text-align: right;\n",
       "    }\n",
       "</style>\n",
       "<table border=\"1\" class=\"dataframe\">\n",
       "  <thead>\n",
       "    <tr style=\"text-align: right;\">\n",
       "      <th></th>\n",
       "      <th>COUPON</th>\n",
       "      <th>NEW</th>\n",
       "      <th>VACATION_Yes</th>\n",
       "      <th>SW_Yes</th>\n",
       "      <th>HI</th>\n",
       "      <th>S_INCOME</th>\n",
       "      <th>E_INCOME</th>\n",
       "      <th>S_POP</th>\n",
       "      <th>E_POP</th>\n",
       "      <th>SLOT_Free</th>\n",
       "      <th>GATE_Free</th>\n",
       "      <th>PAX</th>\n",
       "      <th>DISTANCE</th>\n",
       "    </tr>\n",
       "  </thead>\n",
       "  <tbody>\n",
       "    <tr>\n",
       "      <th>0</th>\n",
       "      <td>1.202</td>\n",
       "      <td>3</td>\n",
       "      <td>0</td>\n",
       "      <td>1</td>\n",
       "      <td>4442.141</td>\n",
       "      <td>28760</td>\n",
       "      <td>27664</td>\n",
       "      <td>4557004</td>\n",
       "      <td>3195503</td>\n",
       "      <td>1</td>\n",
       "      <td>1</td>\n",
       "      <td>12782</td>\n",
       "      <td>1976</td>\n",
       "    </tr>\n",
       "  </tbody>\n",
       "</table>\n",
       "</div>"
      ],
      "text/plain": [
       "   COUPON  NEW  VACATION_Yes  SW_Yes        HI  S_INCOME  E_INCOME    S_POP  \\\n",
       "0   1.202    3             0       1  4442.141     28760     27664  4557004   \n",
       "\n",
       "     E_POP  SLOT_Free  GATE_Free    PAX  DISTANCE  \n",
       "0  3195503          1          1  12782      1976  "
      ]
     },
     "execution_count": 79,
     "metadata": {},
     "output_type": "execute_result"
    }
   ],
   "source": [
    "test2.head()"
   ]
  },
  {
   "cell_type": "code",
   "execution_count": 80,
   "metadata": {},
   "outputs": [],
   "source": [
    "test_pred2 = model.predict(test2)"
   ]
  },
  {
   "cell_type": "code",
   "execution_count": 81,
   "metadata": {},
   "outputs": [
    {
     "name": "stdout",
     "output_type": "stream",
     "text": [
      "[136822.35770285]\n"
     ]
    }
   ],
   "source": [
    "print(test_pred2)"
   ]
  },
  {
   "cell_type": "code",
   "execution_count": 82,
   "metadata": {},
   "outputs": [
    {
     "data": {
      "text/plain": [
       "array([0.00062569])"
      ]
     },
     "execution_count": 82,
     "metadata": {},
     "output_type": "execute_result"
    }
   ],
   "source": [
    "test_pred2 - test_pred"
   ]
  },
  {
   "cell_type": "markdown",
   "metadata": {},
   "source": [
    "vii. In reality, which of the factors will not be available for predicting the average fare from a new airport (i.e., before flights start operating on those routes)? Which ones can be estimated? How? \n",
    "\n",
    "viii. Select a model that includes only factors that are available before flights begin to operate on the new route. Use an exhaustive search to find such a model. \n",
    "\n",
    "ix. Use the model in (viii) to predict the average fare on a route with characteristics COUPON = 1.202, NEW = 3, VACATION = No, SW = No, HI = 4442.141, S_INCOME = $28,760, E_INCOME = $27,664, S_ POP = 4,557,004, E_POP = 3,195,503, SLOT = Free, GATE = Free, PAX = 12,782, DISTANCE = 1976 miles. \n",
    "\n",
    "x. Compare the predictive accuracy of this model with model (iii). Is this model good enough, or is it worthwhile reevaluating the model once flights begin on the new route? "
   ]
  }
 ],
 "metadata": {
  "kernelspec": {
   "display_name": "Python 3",
   "language": "python",
   "name": "python3"
  },
  "language_info": {
   "codemirror_mode": {
    "name": "ipython",
    "version": 3
   },
   "file_extension": ".py",
   "mimetype": "text/x-python",
   "name": "python",
   "nbconvert_exporter": "python",
   "pygments_lexer": "ipython3",
   "version": "3.7.6"
  }
 },
 "nbformat": 4,
 "nbformat_minor": 2
}
