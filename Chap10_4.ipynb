{
 "cells": [
  {
   "cell_type": "code",
   "execution_count": 228,
   "metadata": {},
   "outputs": [],
   "source": [
    "%matplotlib inline\n",
    "\n",
    "from path import Path\n",
    "\n",
    "import numpy as np\n",
    "import pandas as pd\n",
    "from sklearn.linear_model import LogisticRegression, LinearRegression\n",
    "from sklearn.model_selection import train_test_split\n",
    "import matplotlib.pylab as plt\n",
    "from dmba import stepwise_selection\n",
    "from dmba import classificationSummary, gainsChart, liftChart\n",
    "from dmba import AIC_score"
   ]
  },
  {
   "cell_type": "code",
   "execution_count": 229,
   "metadata": {},
   "outputs": [],
   "source": [
    "ereg = pd.read_csv('eBayAuctions.csv')"
   ]
  },
  {
   "cell_type": "code",
   "execution_count": 230,
   "metadata": {},
   "outputs": [],
   "source": [
    "ereg2 = ereg.copy()"
   ]
  },
  {
   "cell_type": "code",
   "execution_count": 231,
   "metadata": {},
   "outputs": [
    {
     "data": {
      "text/html": [
       "<div>\n",
       "<style scoped>\n",
       "    .dataframe tbody tr th:only-of-type {\n",
       "        vertical-align: middle;\n",
       "    }\n",
       "\n",
       "    .dataframe tbody tr th {\n",
       "        vertical-align: top;\n",
       "    }\n",
       "\n",
       "    .dataframe thead th {\n",
       "        text-align: right;\n",
       "    }\n",
       "</style>\n",
       "<table border=\"1\" class=\"dataframe\">\n",
       "  <thead>\n",
       "    <tr style=\"text-align: right;\">\n",
       "      <th></th>\n",
       "      <th>Category</th>\n",
       "      <th>currency</th>\n",
       "      <th>sellerRating</th>\n",
       "      <th>Duration</th>\n",
       "      <th>endDay</th>\n",
       "      <th>ClosePrice</th>\n",
       "      <th>OpenPrice</th>\n",
       "      <th>Competitive?</th>\n",
       "    </tr>\n",
       "  </thead>\n",
       "  <tbody>\n",
       "    <tr>\n",
       "      <th>0</th>\n",
       "      <td>Music/Movie/Game</td>\n",
       "      <td>US</td>\n",
       "      <td>3249</td>\n",
       "      <td>5</td>\n",
       "      <td>Mon</td>\n",
       "      <td>0.01</td>\n",
       "      <td>0.01</td>\n",
       "      <td>0</td>\n",
       "    </tr>\n",
       "    <tr>\n",
       "      <th>1</th>\n",
       "      <td>Music/Movie/Game</td>\n",
       "      <td>US</td>\n",
       "      <td>3249</td>\n",
       "      <td>5</td>\n",
       "      <td>Mon</td>\n",
       "      <td>0.01</td>\n",
       "      <td>0.01</td>\n",
       "      <td>0</td>\n",
       "    </tr>\n",
       "    <tr>\n",
       "      <th>2</th>\n",
       "      <td>Music/Movie/Game</td>\n",
       "      <td>US</td>\n",
       "      <td>3249</td>\n",
       "      <td>5</td>\n",
       "      <td>Mon</td>\n",
       "      <td>0.01</td>\n",
       "      <td>0.01</td>\n",
       "      <td>0</td>\n",
       "    </tr>\n",
       "    <tr>\n",
       "      <th>3</th>\n",
       "      <td>Music/Movie/Game</td>\n",
       "      <td>US</td>\n",
       "      <td>3249</td>\n",
       "      <td>5</td>\n",
       "      <td>Mon</td>\n",
       "      <td>0.01</td>\n",
       "      <td>0.01</td>\n",
       "      <td>0</td>\n",
       "    </tr>\n",
       "    <tr>\n",
       "      <th>4</th>\n",
       "      <td>Music/Movie/Game</td>\n",
       "      <td>US</td>\n",
       "      <td>3249</td>\n",
       "      <td>5</td>\n",
       "      <td>Mon</td>\n",
       "      <td>0.01</td>\n",
       "      <td>0.01</td>\n",
       "      <td>0</td>\n",
       "    </tr>\n",
       "  </tbody>\n",
       "</table>\n",
       "</div>"
      ],
      "text/plain": [
       "           Category currency  sellerRating  Duration endDay  ClosePrice  \\\n",
       "0  Music/Movie/Game       US          3249         5    Mon        0.01   \n",
       "1  Music/Movie/Game       US          3249         5    Mon        0.01   \n",
       "2  Music/Movie/Game       US          3249         5    Mon        0.01   \n",
       "3  Music/Movie/Game       US          3249         5    Mon        0.01   \n",
       "4  Music/Movie/Game       US          3249         5    Mon        0.01   \n",
       "\n",
       "   OpenPrice  Competitive?  \n",
       "0       0.01             0  \n",
       "1       0.01             0  \n",
       "2       0.01             0  \n",
       "3       0.01             0  \n",
       "4       0.01             0  "
      ]
     },
     "execution_count": 231,
     "metadata": {},
     "output_type": "execute_result"
    }
   ],
   "source": [
    "ereg.head()"
   ]
  },
  {
   "cell_type": "code",
   "execution_count": 232,
   "metadata": {},
   "outputs": [
    {
     "data": {
      "text/plain": [
       "(1972, 8)"
      ]
     },
     "execution_count": 232,
     "metadata": {},
     "output_type": "execute_result"
    }
   ],
   "source": [
    "ereg.shape"
   ]
  },
  {
   "cell_type": "code",
   "execution_count": 233,
   "metadata": {},
   "outputs": [
    {
     "data": {
      "text/plain": [
       "Category         object\n",
       "currency         object\n",
       "sellerRating      int64\n",
       "Duration          int64\n",
       "endDay           object\n",
       "ClosePrice      float64\n",
       "OpenPrice       float64\n",
       "Competitive?      int64\n",
       "dtype: object"
      ]
     },
     "execution_count": 233,
     "metadata": {},
     "output_type": "execute_result"
    }
   ],
   "source": [
    "ereg.dtypes"
   ]
  },
  {
   "cell_type": "code",
   "execution_count": 234,
   "metadata": {},
   "outputs": [
    {
     "data": {
      "text/plain": [
       "array(['Music/Movie/Game', 'Automotive', 'SportingGoods', 'Home/Garden',\n",
       "       'Books', 'Collectibles', 'Business/Industrial', 'Toys/Hobbies',\n",
       "       'Electronics', 'Computer', 'EverythingElse',\n",
       "       'Clothing/Accessories', 'Coins/Stamps', 'Antique/Art/Craft',\n",
       "       'Jewelry', 'Pottery/Glass', 'Health/Beauty', 'Photography'],\n",
       "      dtype=object)"
      ]
     },
     "execution_count": 234,
     "metadata": {},
     "output_type": "execute_result"
    }
   ],
   "source": [
    "ereg.Category.unique()"
   ]
  },
  {
   "cell_type": "code",
   "execution_count": 235,
   "metadata": {},
   "outputs": [
    {
     "data": {
      "text/plain": [
       "array(['US', 'GBP', 'EUR'], dtype=object)"
      ]
     },
     "execution_count": 235,
     "metadata": {},
     "output_type": "execute_result"
    }
   ],
   "source": [
    "ereg.currency.unique()"
   ]
  },
  {
   "cell_type": "code",
   "execution_count": 236,
   "metadata": {},
   "outputs": [
    {
     "data": {
      "text/plain": [
       "array(['Mon', 'Tue', 'Fri', 'Thu', 'Sat', 'Sun', 'Wed'], dtype=object)"
      ]
     },
     "execution_count": 236,
     "metadata": {},
     "output_type": "execute_result"
    }
   ],
   "source": [
    "ereg.endDay.unique()"
   ]
  },
  {
   "cell_type": "code",
   "execution_count": 237,
   "metadata": {},
   "outputs": [],
   "source": [
    "ereg['Duration'] = ereg['Duration'].astype('category')"
   ]
  },
  {
   "cell_type": "code",
   "execution_count": 238,
   "metadata": {},
   "outputs": [
    {
     "data": {
      "text/plain": [
       "Category          object\n",
       "currency          object\n",
       "sellerRating       int64\n",
       "Duration        category\n",
       "endDay            object\n",
       "ClosePrice       float64\n",
       "OpenPrice        float64\n",
       "Competitive?       int64\n",
       "dtype: object"
      ]
     },
     "execution_count": 238,
     "metadata": {},
     "output_type": "execute_result"
    }
   ],
   "source": [
    "ereg.dtypes"
   ]
  },
  {
   "cell_type": "code",
   "execution_count": 239,
   "metadata": {},
   "outputs": [],
   "source": [
    "ereg2 = pd.get_dummies(ereg2)"
   ]
  },
  {
   "cell_type": "code",
   "execution_count": 240,
   "metadata": {},
   "outputs": [
    {
     "data": {
      "text/plain": [
       "Index(['sellerRating', 'Duration', 'ClosePrice', 'OpenPrice', 'Competitive?',\n",
       "       'Category_Antique/Art/Craft', 'Category_Automotive', 'Category_Books',\n",
       "       'Category_Business/Industrial', 'Category_Clothing/Accessories',\n",
       "       'Category_Coins/Stamps', 'Category_Collectibles', 'Category_Computer',\n",
       "       'Category_Electronics', 'Category_EverythingElse',\n",
       "       'Category_Health/Beauty', 'Category_Home/Garden', 'Category_Jewelry',\n",
       "       'Category_Music/Movie/Game', 'Category_Photography',\n",
       "       'Category_Pottery/Glass', 'Category_SportingGoods',\n",
       "       'Category_Toys/Hobbies', 'currency_EUR', 'currency_GBP', 'currency_US',\n",
       "       'endDay_Fri', 'endDay_Mon', 'endDay_Sat', 'endDay_Sun', 'endDay_Thu',\n",
       "       'endDay_Tue', 'endDay_Wed'],\n",
       "      dtype='object')"
      ]
     },
     "execution_count": 240,
     "metadata": {},
     "output_type": "execute_result"
    }
   ],
   "source": [
    "ereg2.columns"
   ]
  },
  {
   "cell_type": "code",
   "execution_count": 241,
   "metadata": {},
   "outputs": [
    {
     "data": {
      "text/html": [
       "<div>\n",
       "<style scoped>\n",
       "    .dataframe tbody tr th:only-of-type {\n",
       "        vertical-align: middle;\n",
       "    }\n",
       "\n",
       "    .dataframe tbody tr th {\n",
       "        vertical-align: top;\n",
       "    }\n",
       "\n",
       "    .dataframe thead th {\n",
       "        text-align: right;\n",
       "    }\n",
       "</style>\n",
       "<table border=\"1\" class=\"dataframe\">\n",
       "  <thead>\n",
       "    <tr style=\"text-align: right;\">\n",
       "      <th>Category</th>\n",
       "      <th>Antique/Art/Craft</th>\n",
       "      <th>Automotive</th>\n",
       "      <th>Books</th>\n",
       "      <th>Business/Industrial</th>\n",
       "      <th>Clothing/Accessories</th>\n",
       "      <th>Coins/Stamps</th>\n",
       "      <th>Collectibles</th>\n",
       "      <th>Computer</th>\n",
       "      <th>Electronics</th>\n",
       "      <th>EverythingElse</th>\n",
       "      <th>Health/Beauty</th>\n",
       "      <th>Home/Garden</th>\n",
       "      <th>Jewelry</th>\n",
       "      <th>Music/Movie/Game</th>\n",
       "      <th>Photography</th>\n",
       "      <th>Pottery/Glass</th>\n",
       "      <th>SportingGoods</th>\n",
       "      <th>Toys/Hobbies</th>\n",
       "    </tr>\n",
       "  </thead>\n",
       "  <tbody>\n",
       "    <tr>\n",
       "      <th>Competitive?</th>\n",
       "      <td>0.564972</td>\n",
       "      <td>0.353933</td>\n",
       "      <td>0.5</td>\n",
       "      <td>0.666667</td>\n",
       "      <td>0.504202</td>\n",
       "      <td>0.297297</td>\n",
       "      <td>0.577406</td>\n",
       "      <td>0.666667</td>\n",
       "      <td>0.8</td>\n",
       "      <td>0.235294</td>\n",
       "      <td>0.171875</td>\n",
       "      <td>0.656863</td>\n",
       "      <td>0.365854</td>\n",
       "      <td>0.602978</td>\n",
       "      <td>0.846154</td>\n",
       "      <td>0.35</td>\n",
       "      <td>0.725806</td>\n",
       "      <td>0.529915</td>\n",
       "    </tr>\n",
       "  </tbody>\n",
       "</table>\n",
       "</div>"
      ],
      "text/plain": [
       "Category      Antique/Art/Craft  Automotive  Books  Business/Industrial  \\\n",
       "Competitive?           0.564972    0.353933    0.5             0.666667   \n",
       "\n",
       "Category      Clothing/Accessories  Coins/Stamps  Collectibles  Computer  \\\n",
       "Competitive?              0.504202      0.297297      0.577406  0.666667   \n",
       "\n",
       "Category      Electronics  EverythingElse  Health/Beauty  Home/Garden  \\\n",
       "Competitive?          0.8        0.235294       0.171875     0.656863   \n",
       "\n",
       "Category       Jewelry  Music/Movie/Game  Photography  Pottery/Glass  \\\n",
       "Competitive?  0.365854          0.602978     0.846154           0.35   \n",
       "\n",
       "Category      SportingGoods  Toys/Hobbies  \n",
       "Competitive?       0.725806      0.529915  "
      ]
     },
     "execution_count": 241,
     "metadata": {},
     "output_type": "execute_result"
    }
   ],
   "source": [
    "table1 = pd.pivot_table(ereg, values = 'Competitive?', columns = ['Category'], aggfunc = np.mean)\n",
    "table1\n"
   ]
  },
  {
   "cell_type": "code",
   "execution_count": 242,
   "metadata": {},
   "outputs": [
    {
     "data": {
      "text/html": [
       "<div>\n",
       "<style scoped>\n",
       "    .dataframe tbody tr th:only-of-type {\n",
       "        vertical-align: middle;\n",
       "    }\n",
       "\n",
       "    .dataframe tbody tr th {\n",
       "        vertical-align: top;\n",
       "    }\n",
       "\n",
       "    .dataframe thead th {\n",
       "        text-align: right;\n",
       "    }\n",
       "</style>\n",
       "<table border=\"1\" class=\"dataframe\">\n",
       "  <thead>\n",
       "    <tr style=\"text-align: right;\">\n",
       "      <th>currency</th>\n",
       "      <th>EUR</th>\n",
       "      <th>GBP</th>\n",
       "      <th>US</th>\n",
       "    </tr>\n",
       "  </thead>\n",
       "  <tbody>\n",
       "    <tr>\n",
       "      <th>Competitive?</th>\n",
       "      <td>0.551595</td>\n",
       "      <td>0.687075</td>\n",
       "      <td>0.51935</td>\n",
       "    </tr>\n",
       "  </tbody>\n",
       "</table>\n",
       "</div>"
      ],
      "text/plain": [
       "currency           EUR       GBP       US\n",
       "Competitive?  0.551595  0.687075  0.51935"
      ]
     },
     "execution_count": 242,
     "metadata": {},
     "output_type": "execute_result"
    }
   ],
   "source": [
    "table2 = pd.pivot_table(ereg, values = 'Competitive?', columns = ['currency'], aggfunc = np.mean)\n",
    "table2"
   ]
  },
  {
   "cell_type": "markdown",
   "metadata": {},
   "source": [
    "Use the information in the tables to reduce the number of dummies that will be used in the model. For example, categories that appear most similar with respect to the distribution of competitive auctions could be combined."
   ]
  },
  {
   "cell_type": "code",
   "execution_count": 243,
   "metadata": {},
   "outputs": [
    {
     "name": "stdout",
     "output_type": "stream",
     "text": [
      "intercept  -0.18697984601993767\n",
      "             sellerRating  Duration  ClosePrice  OpenPrice  \\\n",
      "coefficient     -0.000045   0.01315    0.089081  -0.106752   \n",
      "\n",
      "             Category_Antique/Art/Craft  Category_Automotive  Category_Books  \\\n",
      "coefficient                    0.228771            -0.223756        0.629146   \n",
      "\n",
      "             Category_Business/Industrial  Category_Clothing/Accessories  \\\n",
      "coefficient                      1.154953                      -0.906596   \n",
      "\n",
      "             Category_Coins/Stamps  ...  currency_EUR  currency_GBP  \\\n",
      "coefficient              -1.580442  ...     -0.774538      0.794849   \n",
      "\n",
      "             currency_US  endDay_Fri  endDay_Mon  endDay_Sat  endDay_Sun  \\\n",
      "coefficient    -0.207291    0.233032    0.704958   -0.356875   -0.162761   \n",
      "\n",
      "             endDay_Thu  endDay_Tue  endDay_Wed  \n",
      "coefficient    -0.23391    0.048305    -0.41973  \n",
      "\n",
      "[1 rows x 32 columns]\n"
     ]
    },
    {
     "name": "stderr",
     "output_type": "stream",
     "text": [
      "C:\\Users\\GETHSEMAN\\anaconda3\\lib\\site-packages\\sklearn\\utils\\validation.py:760: DataConversionWarning: A column-vector y was passed when a 1d array was expected. Please change the shape of y to (n_samples, ), for example using ravel().\n",
      "  y = column_or_1d(y, warn=True)\n"
     ]
    }
   ],
   "source": [
    "#FULL MODEL\n",
    "\n",
    "predictors = ['sellerRating', 'Duration', 'ClosePrice', 'OpenPrice',\n",
    "       'Category_Antique/Art/Craft', 'Category_Automotive', 'Category_Books',\n",
    "       'Category_Business/Industrial', 'Category_Clothing/Accessories',\n",
    "       'Category_Coins/Stamps', 'Category_Collectibles', 'Category_Computer',\n",
    "       'Category_Electronics', 'Category_EverythingElse',\n",
    "       'Category_Health/Beauty', 'Category_Home/Garden', 'Category_Jewelry',\n",
    "       'Category_Music/Movie/Game', 'Category_Photography',\n",
    "       'Category_Pottery/Glass', 'Category_SportingGoods',\n",
    "       'Category_Toys/Hobbies', 'currency_EUR', 'currency_GBP', 'currency_US',\n",
    "       'endDay_Fri', 'endDay_Mon', 'endDay_Sat', 'endDay_Sun', 'endDay_Thu',\n",
    "       'endDay_Tue', 'endDay_Wed']\n",
    "\n",
    "outcome = ['Competitive?']\n",
    "\n",
    "X = ereg2[predictors]\n",
    "y = ereg2[outcome]\n",
    "\n",
    "#partition data\n",
    "train_X, valid_X, train_y, valid_y = train_test_split(X, y, test_size = 0.4, random_state = 1)\n",
    "\n",
    "#fit a logistic regression (set penalty=l2 and C=1e42 to avoid regularization)\n",
    "logit_reg_a = LogisticRegression(penalty='l2', C=1e42, solver = 'liblinear')\n",
    "logit_reg_a.fit(train_X, train_y)\n",
    "print('intercept ', logit_reg_a.intercept_[0])\n",
    "print(pd.DataFrame({'coefficient': logit_reg_a.coef_[0]}, index=X.columns).transpose())"
   ]
  },
  {
   "cell_type": "code",
   "execution_count": 244,
   "metadata": {},
   "outputs": [
    {
     "name": "stdout",
     "output_type": "stream",
     "text": [
      "Confusion Matrix (Accuracy 0.7853)\n",
      "\n",
      "       Prediction\n",
      "Actual   0   1\n",
      "     0 445 108\n",
      "     1 146 484\n"
     ]
    }
   ],
   "source": [
    "classificationSummary(train_y, logit_reg_a.predict(train_X))"
   ]
  },
  {
   "cell_type": "code",
   "execution_count": 245,
   "metadata": {},
   "outputs": [
    {
     "name": "stdout",
     "output_type": "stream",
     "text": [
      "Variables: sellerRating, Duration, ClosePrice, OpenPrice, Category_Antique/Art/Craft, Category_Automotive, Category_Books, Category_Business/Industrial, Category_Clothing/Accessories, Category_Coins/Stamps, Category_Collectibles, Category_Computer, Category_Electronics, Category_EverythingElse, Category_Health/Beauty, Category_Home/Garden, Category_Jewelry, Category_Music/Movie/Game, Category_Photography, Category_Pottery/Glass, Category_SportingGoods, Category_Toys/Hobbies, currency_EUR, currency_GBP, currency_US, endDay_Fri, endDay_Mon, endDay_Sat, endDay_Sun, endDay_Thu, endDay_Tue, endDay_Wed\n",
      "Start: score=1716.20, constant\n",
      "Step: score=1676.05, add endDay_Mon\n",
      "Step: score=1643.10, add ClosePrice\n",
      "Step: score=1595.18, add OpenPrice\n",
      "Step: score=1565.92, add Category_Health/Beauty\n",
      "Step: score=1543.14, add currency_GBP\n",
      "Step: score=1526.20, add Category_Coins/Stamps\n",
      "Step: score=1512.50, add Category_Automotive\n",
      "Step: score=1506.68, add Category_EverythingElse\n",
      "Step: score=1500.57, add Category_Jewelry\n",
      "Step: score=1494.94, add Category_Clothing/Accessories\n",
      "Step: score=1490.23, add sellerRating\n",
      "Step: score=1485.98, add Category_SportingGoods\n",
      "Step: score=1482.15, add Category_Business/Industrial\n",
      "Step: score=1478.55, add Category_Pottery/Glass\n",
      "Step: score=1476.49, add endDay_Sat\n",
      "Step: score=1474.89, add Category_Electronics\n",
      "Step: score=1473.53, add Duration\n",
      "Step: score=1472.67, add Category_Photography\n",
      "Step: score=1471.83, add endDay_Tue\n",
      "Step: score=1470.64, add endDay_Fri\n",
      "Step: score=1470.36, add Category_Music/Movie/Game\n",
      "Step: score=1470.11, add Category_Books\n",
      "Step: score=1469.78, add Category_Collectibles\n",
      "Step: score=1469.54, add endDay_Thu\n",
      "Step: score=1469.48, add Category_Computer\n",
      "Step: score=1469.46, add currency_EUR\n",
      "Step: score=1469.44, add Category_Antique/Art/Craft\n",
      "Step: score=1469.44, add Category_Home/Garden\n",
      "Step: score=1469.43, add endDay_Sun\n",
      "Step: score=1469.43, unchanged None\n",
      "['endDay_Mon', 'ClosePrice', 'OpenPrice', 'Category_Health/Beauty', 'currency_GBP', 'Category_Coins/Stamps', 'Category_Automotive', 'Category_EverythingElse', 'Category_Jewelry', 'Category_Clothing/Accessories', 'sellerRating', 'Category_SportingGoods', 'Category_Business/Industrial', 'Category_Pottery/Glass', 'endDay_Sat', 'Category_Electronics', 'Duration', 'Category_Photography', 'endDay_Tue', 'endDay_Fri', 'Category_Music/Movie/Game', 'Category_Books', 'Category_Collectibles', 'endDay_Thu', 'Category_Computer', 'currency_EUR', 'Category_Antique/Art/Craft', 'Category_Home/Garden', 'endDay_Sun']\n"
     ]
    }
   ],
   "source": [
    "#STEPWISE SELECTION FOR TRAINING SET WITH HIGHEST ACCURACY\n",
    "#BEST PREDICTIVE MODEL\n",
    "def train_model(variables):\n",
    "    if len(variables) == 0:\n",
    "        return None\n",
    "    model = LinearRegression()\n",
    "    model.fit(train_X[variables], train_y)\n",
    "    return model\n",
    "\n",
    "def score_model(model, variables):\n",
    "    if len(variables) == 0:\n",
    "        return AIC_score(train_y, [train_y.mean()] * len(train_y), model, df=1)\n",
    "    return AIC_score(train_y, model.predict(train_X[variables]), model)\n",
    "\n",
    "best_model, best_variables = stepwise_selection(train_X.columns, train_model, score_model, verbose=True)\n",
    "\n",
    "print(best_variables)"
   ]
  },
  {
   "cell_type": "code",
   "execution_count": 246,
   "metadata": {},
   "outputs": [
    {
     "name": "stdout",
     "output_type": "stream",
     "text": [
      "Confusion Matrix (Accuracy 0.7554)\n",
      "\n",
      "       Prediction\n",
      "Actual   0   1\n",
      "     0 279  74\n",
      "     1 119 317\n"
     ]
    }
   ],
   "source": [
    "classificationSummary(valid_y, logit_reg_a.predict(valid_X))"
   ]
  },
  {
   "cell_type": "code",
   "execution_count": 247,
   "metadata": {},
   "outputs": [
    {
     "name": "stdout",
     "output_type": "stream",
     "text": [
      "Variables: sellerRating, Duration, ClosePrice, OpenPrice, Category_Antique/Art/Craft, Category_Automotive, Category_Books, Category_Business/Industrial, Category_Clothing/Accessories, Category_Coins/Stamps, Category_Collectibles, Category_Computer, Category_Electronics, Category_EverythingElse, Category_Health/Beauty, Category_Home/Garden, Category_Jewelry, Category_Music/Movie/Game, Category_Photography, Category_Pottery/Glass, Category_SportingGoods, Category_Toys/Hobbies, currency_EUR, currency_GBP, currency_US, endDay_Fri, endDay_Mon, endDay_Sat, endDay_Sun, endDay_Thu, endDay_Tue, endDay_Wed\n",
      "Start: score=1140.52, constant\n",
      "Step: score=1111.14, add ClosePrice\n",
      "Step: score=1075.15, add OpenPrice\n",
      "Step: score=1062.75, add endDay_Mon\n",
      "Step: score=1048.69, add sellerRating\n",
      "Step: score=1041.58, add Category_Health/Beauty\n",
      "Step: score=1035.83, add Category_Jewelry\n",
      "Step: score=1029.53, add Category_Automotive\n",
      "Step: score=1024.28, add Category_EverythingElse\n",
      "Step: score=1019.26, add endDay_Sat\n",
      "Step: score=1015.35, add Category_Electronics\n",
      "Step: score=1012.26, add Category_Books\n",
      "Step: score=1009.04, add currency_GBP\n",
      "Step: score=1004.33, add endDay_Thu\n",
      "Step: score=1002.07, add Duration\n",
      "Step: score=1000.28, add Category_Home/Garden\n",
      "Step: score=998.62, add Category_Collectibles\n",
      "Step: score=996.92, add endDay_Tue\n",
      "Step: score=995.74, add Category_Toys/Hobbies\n",
      "Step: score=994.59, add currency_EUR\n",
      "Step: score=993.63, add Category_Business/Industrial\n",
      "Step: score=992.83, add endDay_Sun\n",
      "Step: score=992.03, add Category_SportingGoods\n",
      "Step: score=991.24, add Category_Clothing/Accessories\n",
      "Step: score=991.10, add endDay_Fri\n",
      "Step: score=991.04, add Category_Pottery/Glass\n",
      "Step: score=990.99, add Category_Coins/Stamps\n",
      "Step: score=990.96, add Category_Computer\n",
      "Step: score=990.95, add Category_Photography\n",
      "Step: score=990.94, add Category_Antique/Art/Craft\n",
      "Step: score=990.94, add endDay_Wed\n",
      "Step: score=990.94, unchanged None\n",
      "['ClosePrice', 'OpenPrice', 'endDay_Mon', 'sellerRating', 'Category_Health/Beauty', 'Category_Jewelry', 'Category_Automotive', 'Category_EverythingElse', 'endDay_Sat', 'Category_Electronics', 'Category_Books', 'currency_GBP', 'endDay_Thu', 'Duration', 'Category_Home/Garden', 'Category_Collectibles', 'endDay_Tue', 'Category_Toys/Hobbies', 'currency_EUR', 'Category_Business/Industrial', 'endDay_Sun', 'Category_SportingGoods', 'Category_Clothing/Accessories', 'endDay_Fri', 'Category_Pottery/Glass', 'Category_Coins/Stamps', 'Category_Computer', 'Category_Photography', 'Category_Antique/Art/Craft', 'endDay_Wed']\n"
     ]
    }
   ],
   "source": [
    "#STEPWISE SELECTION FOR VALIDATION SET WITH HIGHEST ACCURACY\n",
    "#BEST FITTING MODEL\n",
    "def valid_model(variables):\n",
    "    if len(variables) == 0:\n",
    "        return None\n",
    "    model = LinearRegression()\n",
    "    model.fit(valid_X[variables], valid_y)\n",
    "    return model\n",
    "\n",
    "def score_model(model, variables):\n",
    "    if len(variables) == 0:\n",
    "        return AIC_score(valid_y, [valid_y.mean()] * len(valid_y), model, df=1)\n",
    "    return AIC_score(valid_y, model.predict(valid_X[variables]), model)\n",
    "\n",
    "best_model, best_variables = stepwise_selection(valid_X.columns, valid_model, score_model, verbose=True)\n",
    "\n",
    "print(best_variables)"
   ]
  },
  {
   "cell_type": "code",
   "execution_count": 248,
   "metadata": {},
   "outputs": [
    {
     "name": "stdout",
     "output_type": "stream",
     "text": [
      "intercept  0.528857876704452\n",
      "             sellerRating  Duration  OpenPrice  Category_Antique/Art/Craft  \\\n",
      "coefficient     -0.000046 -0.041606  -0.004612                    0.182549   \n",
      "\n",
      "             Category_Automotive  Category_Books  \\\n",
      "coefficient            -0.522079        0.057692   \n",
      "\n",
      "             Category_Business/Industrial  Category_Clothing/Accessories  \\\n",
      "coefficient                      1.592844                      -0.197247   \n",
      "\n",
      "             Category_Coins/Stamps  Category_Collectibles  ...  currency_EUR  \\\n",
      "coefficient               -1.96865               0.289225  ...         -0.33   \n",
      "\n",
      "             currency_GBP  currency_US  endDay_Fri  endDay_Mon  endDay_Sat  \\\n",
      "coefficient      1.140313    -0.281455    0.147357    1.017021   -0.239297   \n",
      "\n",
      "             endDay_Sun  endDay_Thu  endDay_Tue  endDay_Wed  \n",
      "coefficient   -0.073222   -0.360292    0.134311    -0.09702  \n",
      "\n",
      "[1 rows x 31 columns]\n"
     ]
    },
    {
     "name": "stderr",
     "output_type": "stream",
     "text": [
      "C:\\Users\\GETHSEMAN\\anaconda3\\lib\\site-packages\\sklearn\\utils\\validation.py:760: DataConversionWarning: A column-vector y was passed when a 1d array was expected. Please change the shape of y to (n_samples, ), for example using ravel().\n",
      "  y = column_or_1d(y, warn=True)\n"
     ]
    }
   ],
   "source": [
    "#MODEL WITHOUT CLOSING PRICE\n",
    "\n",
    "predictors = ['sellerRating', 'Duration', 'OpenPrice',\n",
    "       'Category_Antique/Art/Craft', 'Category_Automotive', 'Category_Books',\n",
    "       'Category_Business/Industrial', 'Category_Clothing/Accessories',\n",
    "       'Category_Coins/Stamps', 'Category_Collectibles', 'Category_Computer',\n",
    "       'Category_Electronics', 'Category_EverythingElse',\n",
    "       'Category_Health/Beauty', 'Category_Home/Garden', 'Category_Jewelry',\n",
    "       'Category_Music/Movie/Game', 'Category_Photography',\n",
    "       'Category_Pottery/Glass', 'Category_SportingGoods',\n",
    "       'Category_Toys/Hobbies', 'currency_EUR', 'currency_GBP', 'currency_US',\n",
    "       'endDay_Fri', 'endDay_Mon', 'endDay_Sat', 'endDay_Sun', 'endDay_Thu',\n",
    "       'endDay_Tue', 'endDay_Wed']\n",
    "\n",
    "outcome = ['Competitive?']\n",
    "\n",
    "X = ereg2[predictors]\n",
    "y = ereg2[outcome]\n",
    "\n",
    "#partition data\n",
    "train_X, valid_X, train_y, valid_y = train_test_split(X, y, test_size = 0.4, random_state = 1)\n",
    "\n",
    "#fit a logistic regression (set penalty=l2 and C=1e42 to avoid regularization)\n",
    "logit_reg_b = LogisticRegression(penalty='l2', C=1e42, solver = 'liblinear')\n",
    "logit_reg_b.fit(train_X, train_y)\n",
    "print('intercept ', logit_reg_b.intercept_[0])\n",
    "print(pd.DataFrame({'coefficient': logit_reg_b.coef_[0]}, index=X.columns).transpose())"
   ]
  },
  {
   "cell_type": "code",
   "execution_count": 249,
   "metadata": {},
   "outputs": [
    {
     "name": "stdout",
     "output_type": "stream",
     "text": [
      "Confusion Matrix (Accuracy 0.6796)\n",
      "\n",
      "       Prediction\n",
      "Actual   0   1\n",
      "     0 343 210\n",
      "     1 169 461\n"
     ]
    }
   ],
   "source": [
    "classificationSummary(train_y, logit_reg_b.predict(train_X))"
   ]
  },
  {
   "cell_type": "code",
   "execution_count": 250,
   "metadata": {},
   "outputs": [
    {
     "name": "stdout",
     "output_type": "stream",
     "text": [
      "Confusion Matrix (Accuracy 0.6375)\n",
      "\n",
      "       Prediction\n",
      "Actual   0   1\n",
      "     0 206 147\n",
      "     1 139 297\n"
     ]
    }
   ],
   "source": [
    "classificationSummary(valid_y, logit_reg_b.predict(valid_X))"
   ]
  },
  {
   "cell_type": "markdown",
   "metadata": {},
   "source": [
    "How does this model compare to the full model with respect to predictive accuracy?\n",
    "\n",
    "The model without closing price has a lower accuracy compared with the full one with closing price."
   ]
  },
  {
   "cell_type": "markdown",
   "metadata": {},
   "source": [
    "The closing price has a coefficient of 0.089081. This means closing price has a slight linear relationship with competitiveness.Since 0.09 is less than 0.1,closing price is not statistically significant for predicting competitiveness of auctions."
   ]
  },
  {
   "cell_type": "markdown",
   "metadata": {},
   "source": [
    "Use stepwise regression as described in Section 6.4 to find the model with the best fit to the training data (highest accuracy). Which predictors are used:\n",
    "\n",
    "endDay_Mon, ClosePrice, OpenPrice, Category_Health/Beauty, currency_GBP, Category_Coins/Stamps, Category_Automotive, Category_EverythingElse, Category_Jewelry, Category_Clothing/Accessories, sellerRating, Category_SportingGoods, Category_Business/Industrial, Category_Pottery/Glass, endDay_Sat, Category_Electronics, Duration, Category_Photography, endDay_Tue, endDay_Fri, Category_Music/Movie/Game, Category_Books, Category_Collectibles, endDay_Thu, Category_Computer, currency_EUR, Category_Antique/Art/Craft, Category_Home/Garden, endDay_Sun\n",
    "\n",
    "29 variables were selected out of the initial 32"
   ]
  },
  {
   "cell_type": "markdown",
   "metadata": {},
   "source": [
    "Use stepwise regression to find the model with the highest accuracy on the validation data. Which predictors are used? \n",
    "\n",
    "ClosePrice, OpenPrice, endDay_Mon, sellerRating, Category_Health/Beauty, Category_Jewelry, Category_Automotive, Category_EverythingElse, endDay_Sat, Category_Electronics, Category_Books, currency_GBP, endDay_Thu, Duration, Category_Home/Garden, Category_Collectibles, endDay_Tue, Category_Toys/Hobbies, currency_EUR, Category_Business/Industrial, endDay_Sun, Category_SportingGoods, Category_Clothing/Accessories, endDay_Fri, Category_Pottery/Glass, Category_Coins/Stamps, Category_Computer, Category_Photography, Category_Antique/Art/Craft, endDay_Wed\n",
    "\n",
    "30 variables were selected out of the initial 32"
   ]
  },
  {
   "cell_type": "markdown",
   "metadata": {},
   "source": [
    "What is the danger of using the best predictive model that you found?\n",
    "\n",
    "The best predictive model might not have the best accuracy for a new test data that it has never seen before."
   ]
  },
  {
   "cell_type": "code",
   "execution_count": 251,
   "metadata": {},
   "outputs": [],
   "source": [
    "#Explain how and why the best-fitting model and the best predictive models are the same or different."
   ]
  },
  {
   "cell_type": "code",
   "execution_count": 252,
   "metadata": {},
   "outputs": [
    {
     "name": "stdout",
     "output_type": "stream",
     "text": [
      "intercept  0.055748179413974246\n",
      "             sellerRating  Duration  ClosePrice  OpenPrice  \\\n",
      "coefficient     -0.000045  0.013246    0.089937  -0.106971   \n",
      "\n",
      "             Category_Antique/Art/Craft  Category_Automotive  Category_Books  \\\n",
      "coefficient                   -0.046153             -0.58478        0.231917   \n",
      "\n",
      "             Category_Business/Industrial  Category_Clothing/Accessories  \\\n",
      "coefficient                      1.262923                      -1.299447   \n",
      "\n",
      "             Category_Coins/Stamps  ...  currency_EUR  currency_GBP  \\\n",
      "coefficient              -2.044963  ...     -0.693713      1.019494   \n",
      "\n",
      "             currency_US  endDay_Fri  endDay_Mon  endDay_Sat  endDay_Sun  \\\n",
      "coefficient    -0.128058    0.209239    0.633636   -0.433081   -0.241845   \n",
      "\n",
      "             endDay_Thu  endDay_Tue  endDay_Wed  \n",
      "coefficient   -0.375965    0.019495   -0.446275  \n",
      "\n",
      "[1 rows x 32 columns]\n"
     ]
    },
    {
     "name": "stderr",
     "output_type": "stream",
     "text": [
      "C:\\Users\\GETHSEMAN\\anaconda3\\lib\\site-packages\\sklearn\\utils\\validation.py:760: DataConversionWarning: A column-vector y was passed when a 1d array was expected. Please change the shape of y to (n_samples, ), for example using ravel().\n",
      "  y = column_or_1d(y, warn=True)\n"
     ]
    }
   ],
   "source": [
    "#FULL MODEL\n",
    "\n",
    "predictors = ['sellerRating', 'Duration', 'ClosePrice', 'OpenPrice',\n",
    "       'Category_Antique/Art/Craft', 'Category_Automotive', 'Category_Books',\n",
    "       'Category_Business/Industrial', 'Category_Clothing/Accessories',\n",
    "       'Category_Coins/Stamps', 'Category_Collectibles', 'Category_Computer',\n",
    "       'Category_Electronics', 'Category_EverythingElse',\n",
    "       'Category_Health/Beauty', 'Category_Home/Garden', 'Category_Jewelry',\n",
    "       'Category_Music/Movie/Game', 'Category_Photography',\n",
    "       'Category_Pottery/Glass', 'Category_SportingGoods',\n",
    "       'Category_Toys/Hobbies', 'currency_EUR', 'currency_GBP', 'currency_US',\n",
    "       'endDay_Fri', 'endDay_Mon', 'endDay_Sat', 'endDay_Sun', 'endDay_Thu',\n",
    "       'endDay_Tue', 'endDay_Wed']\n",
    "\n",
    "outcome = ['Competitive?']\n",
    "\n",
    "X = ereg2[predictors]\n",
    "y = ereg2[outcome]\n",
    "\n",
    "#partition data\n",
    "train_X, valid_X, train_y, valid_y = train_test_split(X, y, test_size = 0.4, random_state = 1)\n",
    "\n",
    "#fit a logistic regression (set penalty=l1 and C=1e42 to avoid regularization)\n",
    "logit_reg_c = LogisticRegression(penalty='l1', C=1e42, solver = 'liblinear')\n",
    "logit_reg_c.fit(train_X, train_y)\n",
    "print('intercept ', logit_reg_c.intercept_[0])\n",
    "print(pd.DataFrame({'coefficient': logit_reg_c.coef_[0]}, index=X.columns).transpose())"
   ]
  },
  {
   "cell_type": "code",
   "execution_count": 253,
   "metadata": {},
   "outputs": [
    {
     "name": "stdout",
     "output_type": "stream",
     "text": [
      "Variables: sellerRating, Duration, ClosePrice, OpenPrice, Category_Antique/Art/Craft, Category_Automotive, Category_Books, Category_Business/Industrial, Category_Clothing/Accessories, Category_Coins/Stamps, Category_Collectibles, Category_Computer, Category_Electronics, Category_EverythingElse, Category_Health/Beauty, Category_Home/Garden, Category_Jewelry, Category_Music/Movie/Game, Category_Photography, Category_Pottery/Glass, Category_SportingGoods, Category_Toys/Hobbies, currency_EUR, currency_GBP, currency_US, endDay_Fri, endDay_Mon, endDay_Sat, endDay_Sun, endDay_Thu, endDay_Tue, endDay_Wed\n",
      "Start: score=1716.20, constant\n",
      "Step: score=1676.05, add endDay_Mon\n",
      "Step: score=1643.10, add ClosePrice\n",
      "Step: score=1595.18, add OpenPrice\n",
      "Step: score=1565.92, add Category_Health/Beauty\n",
      "Step: score=1543.14, add currency_GBP\n",
      "Step: score=1526.20, add Category_Coins/Stamps\n",
      "Step: score=1512.50, add Category_Automotive\n",
      "Step: score=1506.68, add Category_EverythingElse\n",
      "Step: score=1500.57, add Category_Jewelry\n",
      "Step: score=1494.94, add Category_Clothing/Accessories\n",
      "Step: score=1490.23, add sellerRating\n",
      "Step: score=1485.98, add Category_SportingGoods\n",
      "Step: score=1482.15, add Category_Business/Industrial\n",
      "Step: score=1478.55, add Category_Pottery/Glass\n",
      "Step: score=1476.49, add endDay_Sat\n",
      "Step: score=1474.89, add Category_Electronics\n",
      "Step: score=1473.53, add Duration\n",
      "Step: score=1472.67, add Category_Photography\n",
      "Step: score=1471.83, add endDay_Tue\n",
      "Step: score=1470.64, add endDay_Fri\n",
      "Step: score=1470.36, add Category_Music/Movie/Game\n",
      "Step: score=1470.11, add Category_Books\n",
      "Step: score=1469.78, add Category_Collectibles\n",
      "Step: score=1469.54, add endDay_Thu\n",
      "Step: score=1469.48, add Category_Computer\n",
      "Step: score=1469.46, add currency_EUR\n",
      "Step: score=1469.44, add Category_Antique/Art/Craft\n",
      "Step: score=1469.44, add Category_Home/Garden\n",
      "Step: score=1469.43, add endDay_Sun\n",
      "Step: score=1469.43, unchanged None\n",
      "['endDay_Mon', 'ClosePrice', 'OpenPrice', 'Category_Health/Beauty', 'currency_GBP', 'Category_Coins/Stamps', 'Category_Automotive', 'Category_EverythingElse', 'Category_Jewelry', 'Category_Clothing/Accessories', 'sellerRating', 'Category_SportingGoods', 'Category_Business/Industrial', 'Category_Pottery/Glass', 'endDay_Sat', 'Category_Electronics', 'Duration', 'Category_Photography', 'endDay_Tue', 'endDay_Fri', 'Category_Music/Movie/Game', 'Category_Books', 'Category_Collectibles', 'endDay_Thu', 'Category_Computer', 'currency_EUR', 'Category_Antique/Art/Craft', 'Category_Home/Garden', 'endDay_Sun']\n"
     ]
    }
   ],
   "source": [
    "#STEPWISE SELECTION FOR TRAINING SET WITH HIGHEST ACCURACY using l1 PENALTY\n",
    "def train_model(variables):\n",
    "    if len(variables) == 0:\n",
    "        return None\n",
    "    model = LinearRegression()\n",
    "    model.fit(train_X[variables], train_y)\n",
    "    return model\n",
    "\n",
    "def score_model(model, variables):\n",
    "    if len(variables) == 0:\n",
    "        return AIC_score(train_y, [train_y.mean()] * len(train_y), model, df=1)\n",
    "    return AIC_score(train_y, model.predict(train_X[variables]), model)\n",
    "\n",
    "best_model, best_variables = stepwise_selection(train_X.columns, train_model, score_model, verbose=True)\n",
    "\n",
    "print(best_variables)"
   ]
  },
  {
   "cell_type": "code",
   "execution_count": 254,
   "metadata": {},
   "outputs": [
    {
     "name": "stdout",
     "output_type": "stream",
     "text": [
      "Confusion Matrix (Accuracy 0.7579)\n",
      "\n",
      "       Prediction\n",
      "Actual   0   1\n",
      "     0 276  77\n",
      "     1 114 322\n"
     ]
    }
   ],
   "source": [
    "classificationSummary(valid_y, logit_reg_c.predict(valid_X))"
   ]
  },
  {
   "cell_type": "markdown",
   "metadata": {},
   "source": [
    "The training data with L1 penalty has 29 variables with 75.8% accuracy. This accuracy is higher than that of the training data with L2 penalty with 75.5% accuracy.\n",
    "\n",
    "TRAINING SET WITH L1 PENALTY: endDay_Mon, ClosePrice, OpenPrice, Category_Health/Beauty, currency_GBP, Category_Coins/Stamps, Category_Automotive, Category_EverythingElse, Category_Jewelry, Category_Clothing/Accessories, sellerRating, Category_SportingGoods, Category_Business/Industrial, Category_Pottery/Glass, endDay_Sat, Category_Electronics, Duration, Category_Photography, endDay_Tue, endDay_Fri, Category_Music/Movie/Game, Category_Books, Category_Collectibles, endDay_Thu, Category_Computer, currency_EUR, Category_Antique/Art/Craft, Category_Home/Garden, endDay_Sun\n",
    "\n",
    "\n",
    "BEST PREDICTIVE(TRAINING SET WITH L2 PENALTY): endDay_Mon, ClosePrice, OpenPrice, Category_Health/Beauty, currency_GBP, Category_Coins/Stamps, Category_Automotive, Category_EverythingElse, Category_Jewelry, Category_Clothing/Accessories, sellerRating, Category_SportingGoods, Category_Business/Industrial, Category_Pottery/Glass, endDay_Sat, Category_Electronics, Duration, Category_Photography, endDay_Tue, endDay_Fri, Category_Music/Movie/Game, Category_Books, Category_Collectibles, endDay_Thu, Category_Computer, currency_EUR, Category_Antique/Art/Craft, Category_Home/Garden, endDay_Sun\n",
    "\n",
    "\n",
    "BEST FITTING(VALIDATION SET WITH L2 PENALTY): ClosePrice, OpenPrice, endDay_Mon, sellerRating, Category_Health/Beauty, Category_Jewelry, Category_Automotive, Category_EverythingElse, endDay_Sat, Category_Electronics, Category_Books, currency_GBP, endDay_Thu, Duration, Category_Home/Garden, Category_Collectibles, endDay_Tue, Category_Toys/Hobbies, currency_EUR, Category_Business/Industrial, endDay_Sun, Category_SportingGoods, Category_Clothing/Accessories, endDay_Fri, Category_Pottery/Glass, Category_Coins/Stamps, Category_Computer, Category_Photography, Category_Antique/Art/Craft, endDay_Wed"
   ]
  },
  {
   "cell_type": "markdown",
   "metadata": {},
   "source": [
    "If the major objective is accurate classification, what cutoff value should be used? \n",
    "\n",
    "0.75 cutoff"
   ]
  },
  {
   "cell_type": "markdown",
   "metadata": {},
   "source": [
    "Based on these data, what auction settings set by the seller (duration, opening price, ending day, currency) would you recommend as being most likely to lead to a competitive auction\n",
    "\n",
    "Answer: ending day"
   ]
  }
 ],
 "metadata": {
  "kernelspec": {
   "display_name": "Python 3",
   "language": "python",
   "name": "python3"
  },
  "language_info": {
   "codemirror_mode": {
    "name": "ipython",
    "version": 3
   },
   "file_extension": ".py",
   "mimetype": "text/x-python",
   "name": "python",
   "nbconvert_exporter": "python",
   "pygments_lexer": "ipython3",
   "version": "3.7.6"
  }
 },
 "nbformat": 4,
 "nbformat_minor": 4
}
