{
 "cells": [
  {
   "cell_type": "code",
   "execution_count": 4,
   "metadata": {},
   "outputs": [],
   "source": [
    "%matplotlib inline\n",
    "import pandas as pd\n",
    "import numpy as np\n",
    "from sklearn.model_selection import train_test_split\n",
    "from sklearn.linear_model import LinearRegression\n",
    "import matplotlib.pylab as plt\n",
    "\n",
    "from dmba import regressionSummary, exhaustive_search\n",
    "from dmba import adjusted_r2_score, AIC_score, BIC_score\n",
    "from dmba import forward_selection"
   ]
  },
  {
   "cell_type": "code",
   "execution_count": 5,
   "metadata": {},
   "outputs": [],
   "source": [
    "tc = pd.read_csv('ToyotaCorolla.csv')"
   ]
  },
  {
   "cell_type": "code",
   "execution_count": 6,
   "metadata": {},
   "outputs": [
    {
     "data": {
      "text/html": [
       "<div>\n",
       "<style scoped>\n",
       "    .dataframe tbody tr th:only-of-type {\n",
       "        vertical-align: middle;\n",
       "    }\n",
       "\n",
       "    .dataframe tbody tr th {\n",
       "        vertical-align: top;\n",
       "    }\n",
       "\n",
       "    .dataframe thead th {\n",
       "        text-align: right;\n",
       "    }\n",
       "</style>\n",
       "<table border=\"1\" class=\"dataframe\">\n",
       "  <thead>\n",
       "    <tr style=\"text-align: right;\">\n",
       "      <th></th>\n",
       "      <th>Id</th>\n",
       "      <th>Model</th>\n",
       "      <th>Price</th>\n",
       "      <th>Age_08_04</th>\n",
       "      <th>Mfg_Month</th>\n",
       "      <th>Mfg_Year</th>\n",
       "      <th>KM</th>\n",
       "      <th>Fuel_Type</th>\n",
       "      <th>HP</th>\n",
       "      <th>Met_Color</th>\n",
       "      <th>...</th>\n",
       "      <th>Powered_Windows</th>\n",
       "      <th>Power_Steering</th>\n",
       "      <th>Radio</th>\n",
       "      <th>Mistlamps</th>\n",
       "      <th>Sport_Model</th>\n",
       "      <th>Backseat_Divider</th>\n",
       "      <th>Metallic_Rim</th>\n",
       "      <th>Radio_cassette</th>\n",
       "      <th>Parking_Assistant</th>\n",
       "      <th>Tow_Bar</th>\n",
       "    </tr>\n",
       "  </thead>\n",
       "  <tbody>\n",
       "    <tr>\n",
       "      <th>0</th>\n",
       "      <td>1</td>\n",
       "      <td>TOYOTA Corolla 2.0 D4D HATCHB TERRA 2/3-Doors</td>\n",
       "      <td>13500</td>\n",
       "      <td>23</td>\n",
       "      <td>10</td>\n",
       "      <td>2002</td>\n",
       "      <td>46986</td>\n",
       "      <td>Diesel</td>\n",
       "      <td>90</td>\n",
       "      <td>1</td>\n",
       "      <td>...</td>\n",
       "      <td>1</td>\n",
       "      <td>1</td>\n",
       "      <td>0</td>\n",
       "      <td>0</td>\n",
       "      <td>0</td>\n",
       "      <td>1</td>\n",
       "      <td>0</td>\n",
       "      <td>0</td>\n",
       "      <td>0</td>\n",
       "      <td>0</td>\n",
       "    </tr>\n",
       "    <tr>\n",
       "      <th>1</th>\n",
       "      <td>2</td>\n",
       "      <td>TOYOTA Corolla 2.0 D4D HATCHB TERRA 2/3-Doors</td>\n",
       "      <td>13750</td>\n",
       "      <td>23</td>\n",
       "      <td>10</td>\n",
       "      <td>2002</td>\n",
       "      <td>72937</td>\n",
       "      <td>Diesel</td>\n",
       "      <td>90</td>\n",
       "      <td>1</td>\n",
       "      <td>...</td>\n",
       "      <td>0</td>\n",
       "      <td>1</td>\n",
       "      <td>0</td>\n",
       "      <td>0</td>\n",
       "      <td>0</td>\n",
       "      <td>1</td>\n",
       "      <td>0</td>\n",
       "      <td>0</td>\n",
       "      <td>0</td>\n",
       "      <td>0</td>\n",
       "    </tr>\n",
       "    <tr>\n",
       "      <th>2</th>\n",
       "      <td>3</td>\n",
       "      <td>TOYOTA Corolla 2.0 D4D HATCHB TERRA 2/3-Doors</td>\n",
       "      <td>13950</td>\n",
       "      <td>24</td>\n",
       "      <td>9</td>\n",
       "      <td>2002</td>\n",
       "      <td>41711</td>\n",
       "      <td>Diesel</td>\n",
       "      <td>90</td>\n",
       "      <td>1</td>\n",
       "      <td>...</td>\n",
       "      <td>0</td>\n",
       "      <td>1</td>\n",
       "      <td>0</td>\n",
       "      <td>0</td>\n",
       "      <td>0</td>\n",
       "      <td>1</td>\n",
       "      <td>0</td>\n",
       "      <td>0</td>\n",
       "      <td>0</td>\n",
       "      <td>0</td>\n",
       "    </tr>\n",
       "    <tr>\n",
       "      <th>3</th>\n",
       "      <td>4</td>\n",
       "      <td>TOYOTA Corolla 2.0 D4D HATCHB TERRA 2/3-Doors</td>\n",
       "      <td>14950</td>\n",
       "      <td>26</td>\n",
       "      <td>7</td>\n",
       "      <td>2002</td>\n",
       "      <td>48000</td>\n",
       "      <td>Diesel</td>\n",
       "      <td>90</td>\n",
       "      <td>0</td>\n",
       "      <td>...</td>\n",
       "      <td>0</td>\n",
       "      <td>1</td>\n",
       "      <td>0</td>\n",
       "      <td>0</td>\n",
       "      <td>0</td>\n",
       "      <td>1</td>\n",
       "      <td>0</td>\n",
       "      <td>0</td>\n",
       "      <td>0</td>\n",
       "      <td>0</td>\n",
       "    </tr>\n",
       "    <tr>\n",
       "      <th>4</th>\n",
       "      <td>5</td>\n",
       "      <td>TOYOTA Corolla 2.0 D4D HATCHB SOL 2/3-Doors</td>\n",
       "      <td>13750</td>\n",
       "      <td>30</td>\n",
       "      <td>3</td>\n",
       "      <td>2002</td>\n",
       "      <td>38500</td>\n",
       "      <td>Diesel</td>\n",
       "      <td>90</td>\n",
       "      <td>0</td>\n",
       "      <td>...</td>\n",
       "      <td>1</td>\n",
       "      <td>1</td>\n",
       "      <td>0</td>\n",
       "      <td>1</td>\n",
       "      <td>0</td>\n",
       "      <td>1</td>\n",
       "      <td>0</td>\n",
       "      <td>0</td>\n",
       "      <td>0</td>\n",
       "      <td>0</td>\n",
       "    </tr>\n",
       "  </tbody>\n",
       "</table>\n",
       "<p>5 rows × 39 columns</p>\n",
       "</div>"
      ],
      "text/plain": [
       "   Id                                          Model  Price  Age_08_04  \\\n",
       "0   1  TOYOTA Corolla 2.0 D4D HATCHB TERRA 2/3-Doors  13500         23   \n",
       "1   2  TOYOTA Corolla 2.0 D4D HATCHB TERRA 2/3-Doors  13750         23   \n",
       "2   3  TOYOTA Corolla 2.0 D4D HATCHB TERRA 2/3-Doors  13950         24   \n",
       "3   4  TOYOTA Corolla 2.0 D4D HATCHB TERRA 2/3-Doors  14950         26   \n",
       "4   5    TOYOTA Corolla 2.0 D4D HATCHB SOL 2/3-Doors  13750         30   \n",
       "\n",
       "   Mfg_Month  Mfg_Year     KM Fuel_Type  HP  Met_Color  ... Powered_Windows  \\\n",
       "0         10      2002  46986    Diesel  90          1  ...               1   \n",
       "1         10      2002  72937    Diesel  90          1  ...               0   \n",
       "2          9      2002  41711    Diesel  90          1  ...               0   \n",
       "3          7      2002  48000    Diesel  90          0  ...               0   \n",
       "4          3      2002  38500    Diesel  90          0  ...               1   \n",
       "\n",
       "   Power_Steering  Radio  Mistlamps  Sport_Model  Backseat_Divider  \\\n",
       "0               1      0          0            0                 1   \n",
       "1               1      0          0            0                 1   \n",
       "2               1      0          0            0                 1   \n",
       "3               1      0          0            0                 1   \n",
       "4               1      0          1            0                 1   \n",
       "\n",
       "   Metallic_Rim  Radio_cassette  Parking_Assistant  Tow_Bar  \n",
       "0             0               0                  0        0  \n",
       "1             0               0                  0        0  \n",
       "2             0               0                  0        0  \n",
       "3             0               0                  0        0  \n",
       "4             0               0                  0        0  \n",
       "\n",
       "[5 rows x 39 columns]"
      ]
     },
     "execution_count": 6,
     "metadata": {},
     "output_type": "execute_result"
    }
   ],
   "source": [
    "tc.head()"
   ]
  },
  {
   "cell_type": "code",
   "execution_count": 7,
   "metadata": {},
   "outputs": [
    {
     "data": {
      "text/plain": [
       "(1436, 39)"
      ]
     },
     "execution_count": 7,
     "metadata": {},
     "output_type": "execute_result"
    }
   ],
   "source": [
    "tc.shape"
   ]
  },
  {
   "cell_type": "code",
   "execution_count": 8,
   "metadata": {},
   "outputs": [
    {
     "data": {
      "text/plain": [
       "Index(['Id', 'Model', 'Price', 'Age_08_04', 'Mfg_Month', 'Mfg_Year', 'KM',\n",
       "       'Fuel_Type', 'HP', 'Met_Color', 'Color', 'Automatic', 'CC', 'Doors',\n",
       "       'Cylinders', 'Gears', 'Quarterly_Tax', 'Weight', 'Mfr_Guarantee',\n",
       "       'BOVAG_Guarantee', 'Guarantee_Period', 'ABS', 'Airbag_1', 'Airbag_2',\n",
       "       'Airco', 'Automatic_airco', 'Boardcomputer', 'CD_Player',\n",
       "       'Central_Lock', 'Powered_Windows', 'Power_Steering', 'Radio',\n",
       "       'Mistlamps', 'Sport_Model', 'Backseat_Divider', 'Metallic_Rim',\n",
       "       'Radio_cassette', 'Parking_Assistant', 'Tow_Bar'],\n",
       "      dtype='object')"
      ]
     },
     "execution_count": 8,
     "metadata": {},
     "output_type": "execute_result"
    }
   ],
   "source": [
    "tc.columns"
   ]
  },
  {
   "cell_type": "code",
   "execution_count": 9,
   "metadata": {},
   "outputs": [
    {
     "data": {
      "text/plain": [
       "Id                    int64\n",
       "Model                object\n",
       "Price                 int64\n",
       "Age_08_04             int64\n",
       "Mfg_Month             int64\n",
       "Mfg_Year              int64\n",
       "KM                    int64\n",
       "Fuel_Type            object\n",
       "HP                    int64\n",
       "Met_Color             int64\n",
       "Color                object\n",
       "Automatic             int64\n",
       "CC                    int64\n",
       "Doors                 int64\n",
       "Cylinders             int64\n",
       "Gears                 int64\n",
       "Quarterly_Tax         int64\n",
       "Weight                int64\n",
       "Mfr_Guarantee         int64\n",
       "BOVAG_Guarantee       int64\n",
       "Guarantee_Period      int64\n",
       "ABS                   int64\n",
       "Airbag_1              int64\n",
       "Airbag_2              int64\n",
       "Airco                 int64\n",
       "Automatic_airco       int64\n",
       "Boardcomputer         int64\n",
       "CD_Player             int64\n",
       "Central_Lock          int64\n",
       "Powered_Windows       int64\n",
       "Power_Steering        int64\n",
       "Radio                 int64\n",
       "Mistlamps             int64\n",
       "Sport_Model           int64\n",
       "Backseat_Divider      int64\n",
       "Metallic_Rim          int64\n",
       "Radio_cassette        int64\n",
       "Parking_Assistant     int64\n",
       "Tow_Bar               int64\n",
       "dtype: object"
      ]
     },
     "execution_count": 9,
     "metadata": {},
     "output_type": "execute_result"
    }
   ],
   "source": [
    "tc.dtypes"
   ]
  },
  {
   "cell_type": "code",
   "execution_count": 10,
   "metadata": {},
   "outputs": [],
   "source": [
    "tc.drop(['Id', 'Model'], axis = 1, inplace = True)"
   ]
  },
  {
   "cell_type": "code",
   "execution_count": 11,
   "metadata": {},
   "outputs": [],
   "source": [
    "predictors = ['Age_08_04', 'KM', 'Fuel_Type', 'HP', 'Automatic', 'Doors', 'Quarterly_Tax', 'Mfr_Guarantee', 'Guarantee_Period', 'Airco', 'Automatic_airco', 'CD_Player', 'Powered_Windows', 'Sport_Model', 'Tow_Bar']\n",
    "\n",
    "outcome = 'Price'\n",
    "\n",
    "#partition data\n",
    "X = pd.get_dummies(tc[predictors], drop_first = True)\n",
    "y = tc[outcome]\n",
    "\n",
    "train_X, temp_X, train_y, temp_y = train_test_split(X, y, test_size = 0.5, random_state = 1)\n",
    "valid_X, test_X, valid_y, test_y = train_test_split(temp_X, temp_y, test_size = 0.4, random_state = 1)"
   ]
  },
  {
   "cell_type": "code",
   "execution_count": 12,
   "metadata": {},
   "outputs": [
    {
     "name": "stdout",
     "output_type": "stream",
     "text": [
      "Training   :  (718, 16)\n",
      "Validation :  (430, 16)\n",
      "Test       :  (288, 16)\n"
     ]
    }
   ],
   "source": [
    "print('Training   : ', train_X.shape)\n",
    "print('Validation : ', valid_X.shape)\n",
    "print('Test       : ', test_X.shape)"
   ]
  },
  {
   "cell_type": "code",
   "execution_count": 13,
   "metadata": {},
   "outputs": [
    {
     "data": {
      "text/plain": [
       "Index(['Age_08_04', 'KM', 'HP', 'Automatic', 'Doors', 'Quarterly_Tax',\n",
       "       'Mfr_Guarantee', 'Guarantee_Period', 'Airco', 'Automatic_airco',\n",
       "       'CD_Player', 'Powered_Windows', 'Sport_Model', 'Tow_Bar',\n",
       "       'Fuel_Type_Diesel', 'Fuel_Type_Petrol'],\n",
       "      dtype='object')"
      ]
     },
     "execution_count": 13,
     "metadata": {},
     "output_type": "execute_result"
    }
   ],
   "source": [
    "train_X.columns"
   ]
  },
  {
   "cell_type": "code",
   "execution_count": 14,
   "metadata": {},
   "outputs": [
    {
     "name": "stdout",
     "output_type": "stream",
     "text": [
      "     n     r2adj           AIC  Age_08_04  Airco  Automatic  Automatic_airco  CD_Player  Doors  \\\n",
      "0    1  0.767948  12822.658298       True  False      False            False      False  False   \n",
      "1    2  0.822266  12632.183882       True  False      False             True      False  False   \n",
      "2    3  0.843045  12543.911249       True  False      False             True      False  False   \n",
      "3    4  0.854682  12489.591487       True  False      False             True      False  False   \n",
      "4    5  0.873818  12389.203289       True  False      False             True      False  False   \n",
      "5    6  0.878197  12364.831886       True  False      False             True      False  False   \n",
      "6    7  0.880581  12351.628203       True  False      False             True      False  False   \n",
      "7    8  0.883475  12335.003423       True  False      False             True      False  False   \n",
      "8    9  0.885437  12323.800924       True  False      False             True      False   True   \n",
      "9   10  0.886496  12318.118366       True  False       True             True      False   True   \n",
      "10  11  0.888437  12306.715285       True  False      False             True      False   True   \n",
      "11  12  0.889479  12300.958087       True  False       True             True      False   True   \n",
      "12  13  0.890095  12297.924783       True  False       True             True      False   True   \n",
      "13  14  0.890673  12295.119559       True  False       True             True       True   True   \n",
      "14  15  0.890772  12295.445673       True  False       True             True       True   True   \n",
      "15  16  0.890640  12297.292426       True   True       True             True       True   True   \n",
      "\n",
      "    Fuel_Type_Diesel  Fuel_Type_Petrol  Guarantee_Period     HP     KM  Mfr_Guarantee  \\\n",
      "0              False             False             False  False  False          False   \n",
      "1              False             False             False  False  False          False   \n",
      "2              False             False             False   True  False          False   \n",
      "3              False             False             False  False   True          False   \n",
      "4              False             False             False   True   True          False   \n",
      "5              False             False             False   True   True          False   \n",
      "6              False             False             False   True   True          False   \n",
      "7              False             False              True   True   True          False   \n",
      "8              False             False              True   True   True          False   \n",
      "9              False             False              True   True   True          False   \n",
      "10              True              True              True   True   True          False   \n",
      "11              True              True              True   True   True          False   \n",
      "12              True              True              True   True   True          False   \n",
      "13              True              True              True   True   True          False   \n",
      "14              True              True              True   True   True           True   \n",
      "15              True              True              True   True   True           True   \n",
      "\n",
      "    Powered_Windows  Quarterly_Tax  Sport_Model  Tow_Bar  \n",
      "0             False          False        False    False  \n",
      "1             False          False        False    False  \n",
      "2             False          False        False    False  \n",
      "3             False           True        False    False  \n",
      "4             False           True        False    False  \n",
      "5              True           True        False    False  \n",
      "6              True           True         True    False  \n",
      "7              True           True         True    False  \n",
      "8              True           True         True    False  \n",
      "9              True           True         True    False  \n",
      "10             True           True         True    False  \n",
      "11             True           True         True    False  \n",
      "12             True           True         True     True  \n",
      "13             True           True         True     True  \n",
      "14             True           True         True     True  \n",
      "15             True           True         True     True  \n"
     ]
    }
   ],
   "source": [
    "def train_model(variables):\n",
    "    model = LinearRegression()\n",
    "    model.fit(train_X[variables], train_y)\n",
    "    return model\n",
    "\n",
    "def score_model(model, variables):\n",
    "    pred_y = model.predict(train_X[variables])\n",
    "    # we negate as score is optimized to be as low as possible\n",
    "    return -adjusted_r2_score(train_y, pred_y, model)\n",
    "\n",
    "allVariables = train_X.columns\n",
    "results = exhaustive_search(allVariables, train_model, score_model)\n",
    "\n",
    "data = []\n",
    "for result in results:\n",
    "    model = result['model']\n",
    "    variables = result['variables']\n",
    "    AIC = AIC_score(train_y, model.predict(train_X[variables]), model)\n",
    "    \n",
    "    d = {'n': result['n'], 'r2adj': -result['score'], 'AIC': AIC}\n",
    "    d.update({var: var in result['variables'] for var in allVariables})\n",
    "    data.append(d)\n",
    "pd.set_option('display.width', 100)\n",
    "print(pd.DataFrame(data, columns=('n', 'r2adj', 'AIC') + tuple(sorted(allVariables))))\n",
    "pd.reset_option('display.width')"
   ]
  },
  {
   "cell_type": "markdown",
   "metadata": {},
   "source": [
    "The four most important car specifications for predicting the car's price are Age_08_04, Automatic_airco, KM and HP "
   ]
  },
  {
   "cell_type": "code",
   "execution_count": 15,
   "metadata": {},
   "outputs": [
    {
     "name": "stdout",
     "output_type": "stream",
     "text": [
      "\n",
      "Regression statistics\n",
      "\n",
      "                      Mean Error (ME) : 0.0000\n",
      "       Root Mean Squared Error (RMSE) : 1235.9139\n",
      "            Mean Absolute Error (MAE) : 914.8383\n",
      "          Mean Percentage Error (MPE) : -0.9286\n",
      "Mean Absolute Percentage Error (MAPE) : 8.9407\n"
     ]
    }
   ],
   "source": [
    "regressionSummary(train_y, model.predict(train_X[variables]))"
   ]
  },
  {
   "cell_type": "code",
   "execution_count": 16,
   "metadata": {},
   "outputs": [
    {
     "data": {
      "text/plain": [
       "(430, 16)"
      ]
     },
     "execution_count": 16,
     "metadata": {},
     "output_type": "execute_result"
    }
   ],
   "source": [
    "valid_X.shape"
   ]
  },
  {
   "cell_type": "code",
   "execution_count": 17,
   "metadata": {},
   "outputs": [
    {
     "data": {
      "text/plain": [
       "Index(['Age_08_04', 'KM', 'HP', 'Automatic', 'Doors', 'Quarterly_Tax',\n",
       "       'Mfr_Guarantee', 'Guarantee_Period', 'Airco', 'Automatic_airco',\n",
       "       'CD_Player', 'Powered_Windows', 'Sport_Model', 'Tow_Bar',\n",
       "       'Fuel_Type_Diesel', 'Fuel_Type_Petrol'],\n",
       "      dtype='object')"
      ]
     },
     "execution_count": 17,
     "metadata": {},
     "output_type": "execute_result"
    }
   ],
   "source": [
    "valid_X.columns"
   ]
  },
  {
   "cell_type": "code",
   "execution_count": 18,
   "metadata": {},
   "outputs": [
    {
     "data": {
      "text/plain": [
       "Age_08_04           int64\n",
       "KM                  int64\n",
       "HP                  int64\n",
       "Automatic           int64\n",
       "Doors               int64\n",
       "Quarterly_Tax       int64\n",
       "Mfr_Guarantee       int64\n",
       "Guarantee_Period    int64\n",
       "Airco               int64\n",
       "Automatic_airco     int64\n",
       "CD_Player           int64\n",
       "Powered_Windows     int64\n",
       "Sport_Model         int64\n",
       "Tow_Bar             int64\n",
       "Fuel_Type_Diesel    uint8\n",
       "Fuel_Type_Petrol    uint8\n",
       "dtype: object"
      ]
     },
     "execution_count": 18,
     "metadata": {},
     "output_type": "execute_result"
    }
   ],
   "source": [
    "valid_X.dtypes"
   ]
  },
  {
   "cell_type": "markdown",
   "metadata": {},
   "source": [
    "regressionSummary(valid_y, model.predict(valid_X[allVariables]))"
   ]
  },
  {
   "cell_type": "code",
   "execution_count": 21,
   "metadata": {},
   "outputs": [
    {
     "name": "stdout",
     "output_type": "stream",
     "text": [
      "Variables: Age_08_04, KM, HP, Automatic, Doors, Quarterly_Tax, Mfr_Guarantee, Guarantee_Period, Airco, Automatic_airco, CD_Player, Powered_Windows, Sport_Model, Tow_Bar, Fuel_Type_Diesel, Fuel_Type_Petrol\n",
      "Start: score=13870.51, constant\n",
      "Step: score=12822.66, add Age_08_04\n",
      "Step: score=12632.18, add Automatic_airco\n",
      "Step: score=12543.91, add HP\n",
      "Step: score=12499.68, add Quarterly_Tax\n",
      "Step: score=12389.20, add KM\n",
      "Step: score=12364.83, add Powered_Windows\n",
      "Step: score=12351.63, add Sport_Model\n",
      "Step: score=12335.00, add Guarantee_Period\n",
      "Step: score=12323.80, add Doors\n",
      "Step: score=12318.12, add Automatic\n",
      "Step: score=12314.63, add Fuel_Type_Diesel\n",
      "Step: score=12300.96, add Fuel_Type_Petrol\n",
      "Step: score=12297.92, add Tow_Bar\n",
      "Step: score=12295.12, add CD_Player\n",
      "Step: score=12295.12, add None\n",
      "['Age_08_04', 'Automatic_airco', 'HP', 'Quarterly_Tax', 'KM', 'Powered_Windows', 'Sport_Model', 'Guarantee_Period', 'Doors', 'Automatic', 'Fuel_Type_Diesel', 'Fuel_Type_Petrol', 'Tow_Bar', 'CD_Player']\n"
     ]
    }
   ],
   "source": [
    "#use forward selection to select predictors and check for accuracy\n",
    "# The initial model is the constant model - this requires special handling\n",
    "# in train_model and score_model\n",
    "def train_model(variables):\n",
    "    if len(variables) == 0:\n",
    "        return None\n",
    "    model = LinearRegression()\n",
    "    model.fit(train_X[variables], train_y)\n",
    "    return model\n",
    "\n",
    "def score_model(model, variables):\n",
    "    if len(variables) == 0:\n",
    "        return AIC_score(train_y, [train_y.mean()] * len(train_y), model, df=1)\n",
    "    return AIC_score(train_y, model.predict(train_X[variables]), model)\n",
    "\n",
    "best_model, best_variables = forward_selection(train_X.columns, train_model, score_model, verbose=True)\n",
    "\n",
    "print(best_variables)"
   ]
  },
  {
   "cell_type": "code",
   "execution_count": 25,
   "metadata": {},
   "outputs": [
    {
     "name": "stdout",
     "output_type": "stream",
     "text": [
      "\n",
      "Regression statistics\n",
      "\n",
      "                      Mean Error (ME) : -72.0356\n",
      "       Root Mean Squared Error (RMSE) : 1142.9966\n",
      "            Mean Absolute Error (MAE) : 918.8287\n",
      "          Mean Percentage Error (MPE) : -1.4997\n",
      "Mean Absolute Percentage Error (MAPE) : 9.4911\n"
     ]
    }
   ],
   "source": [
    "regressionSummary(valid_y, best_model.predict(valid_X[best_variables]))"
   ]
  },
  {
   "cell_type": "markdown",
   "metadata": {},
   "source": [
    "With exhaustive selection, the model does better on the validation set than the forward_selection model."
   ]
  },
  {
   "cell_type": "code",
   "execution_count": 31,
   "metadata": {},
   "outputs": [
    {
     "name": "stdout",
     "output_type": "stream",
     "text": [
      "0.7743055555555556\n"
     ]
    },
    {
     "data": {
      "image/png": "[encoded data removed]",
      "text/plain": [
       "<Figure size 432x288 with 1 Axes>"
      ]
     },
     "metadata": {
      "needs_background": "light"
     },
     "output_type": "display_data"
    }
   ],
   "source": [
    "test_pred = model.predict(test_X)\n",
    "all_residuals = test_y - test_pred\n",
    "# Determine the percentage of datapoints with a residual in [-1406, 1406] = approx. 75\\%\n",
    "print(len(all_residuals[(all_residuals > -1406) & (all_residuals < 1406)]) / len(all_residuals))\n",
    "\n",
    "ax = pd.DataFrame({'Residuals': all_residuals}).hist(bins=25)\n",
    "\n",
    "plt.tight_layout()\n",
    "plt.show()"
   ]
  }
 ],
 "metadata": {
  "kernelspec": {
   "display_name": "Python 3",
   "language": "python",
   "name": "python3"
  },
  "language_info": {
   "codemirror_mode": {
    "name": "ipython",
    "version": 3
   },
   "file_extension": ".py",
   "mimetype": "text/x-python",
   "name": "python",
   "nbconvert_exporter": "python",
   "pygments_lexer": "ipython3",
   "version": "3.7.6"
  }
 },
 "nbformat": 4,
 "nbformat_minor": 2
}
